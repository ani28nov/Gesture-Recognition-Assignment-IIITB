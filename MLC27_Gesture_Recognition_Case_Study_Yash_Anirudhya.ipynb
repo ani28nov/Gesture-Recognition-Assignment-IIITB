{
 "cells": [
  {
   "cell_type": "markdown",
   "metadata": {},
   "source": [
    "## Gesture Recognition - Deep Learning Assignment\n",
    "\n",
    "#### Developed by:\n",
    "##### 1. Yash Raj Sinha\n",
    "##### 2. Anirudhya Bhattacharya\n",
    "\n",
    "\n",
    "\n",
    "### Problem Statement\n",
    "Imagine you are working as a data scientist at a home electronics company which manufactures state of the art smart televisions. You want to develop a cool feature in the smart-TV that can recognise five different gestures performed by the user which will help users control the TV without using a remote.\n",
    "\n",
    "The gestures are continuously monitored by the webcam mounted on the TV. Each gesture corresponds to a specific command:\n",
    " \n",
    "| Gesture | Corresponding Action |\n",
    "| --- | --- | \n",
    "| Thumbs Up | Increase the volume. |\n",
    "| Thumbs Down | Decrease the volume. |\n",
    "| Left Swipe | 'Jump' backwards 10 seconds. |\n",
    "| Right Swipe | 'Jump' forward 10 seconds. |\n",
    "| Stop | Pause the movie. |\n",
    "\n",
    "Each video is a sequence of 30 frames (or images).\n",
    "\n",
    "### Objectives:\n",
    "1. **Generator**:  The generator should be able to take a batch of videos as input without any error. Steps like cropping, resizing and normalization should be performed successfully.\n",
    "\n",
    "2. **Model**: Develop a model that is able to train without any errors which will be judged on the total number of parameters (as the inference(prediction) time should be less) and the accuracy achieved. As suggested by Snehansu, start training on a small amount of data and then proceed further.\n",
    "\n",
    "3. **Write up**: This should contain the detailed procedure followed in choosing the final model. The write up should start with the reason for choosing the base model, then highlight the reasons and metrics taken into consideration to modify and experiment to arrive at the final model. "
   ]
  },
  {
   "cell_type": "code",
   "execution_count": 1,
   "metadata": {
    "ExecuteTime": {
     "end_time": "2021-10-22T15:13:23.732764Z",
     "start_time": "2021-10-22T15:13:23.094916Z"
    }
   },
   "outputs": [],
   "source": [
    "# Importing the necessary libraries\n",
    "\n",
    "import numpy as np\n",
    "import os\n",
    "#from scipy.misc import imread, imresize\n",
    "from imageio import imread\n",
    "from skimage.transform import resize\n",
    "import datetime\n",
    "import os\n",
    "import warnings\n",
    "warnings.filterwarnings(\"ignore\")\n",
    "import abc\n",
    "from sys import getsizeof"
   ]
  },
  {
   "cell_type": "markdown",
   "metadata": {},
   "source": [
    "We set the random seed so that the results don't vary drastically."
   ]
  },
  {
   "cell_type": "code",
   "execution_count": 2,
   "metadata": {
    "ExecuteTime": {
     "end_time": "2021-10-21T15:42:03.507304Z",
     "start_time": "2021-10-21T15:42:03.496368Z"
    }
   },
   "outputs": [],
   "source": [
    "np.random.seed(30)\n",
    "import random as rn\n",
    "rn.seed(30)\n",
    "from tensorflow import keras\n",
    "from tensorflow.keras import backend as K\n",
    "import tensorflow as tf\n",
    "tf.random.set_seed(30)\n",
    "#tf.random.set_seed"
   ]
  },
  {
   "cell_type": "code",
   "execution_count": 3,
   "metadata": {
    "ExecuteTime": {
     "end_time": "2021-10-21T15:42:22.370765Z",
     "start_time": "2021-10-21T15:42:22.363785Z"
    }
   },
   "outputs": [],
   "source": [
    "import cv2\n",
    "import matplotlib.pyplot as plt\n",
    "%matplotlib inline"
   ]
  },
  {
   "cell_type": "markdown",
   "metadata": {},
   "source": [
    "In this block, you read the folder names for training and validation. You also set the `batch_size` here. Note that you set the batch size in such a way that you are able to use the GPU in full capacity. You keep increasing the batch size until the machine throws an error."
   ]
  },
  {
   "cell_type": "code",
   "execution_count": 4,
   "metadata": {
    "ExecuteTime": {
     "end_time": "2021-10-22T15:37:21.648806Z",
     "start_time": "2021-10-22T15:37:16.709779Z"
    }
   },
   "outputs": [],
   "source": [
    "# importing some other libraries which will be needed for model building.\n",
    "\n",
    "from tensorflow.keras.models import Sequential, Model\n",
    "from tensorflow.keras.layers import Dense, GRU, Flatten, TimeDistributed, Flatten, BatchNormalization, Activation\n",
    "from tensorflow.keras.layers import Conv3D, MaxPooling3D, Conv2D, MaxPooling2D\n",
    "from tensorflow.keras.layers import LSTM\n",
    "from tensorflow.keras.callbacks import ModelCheckpoint, ReduceLROnPlateau, EarlyStopping\n",
    "from tensorflow.keras import optimizers\n",
    "from tensorflow.keras.layers import Dropout"
   ]
  },
  {
   "cell_type": "code",
   "execution_count": 5,
   "metadata": {
    "ExecuteTime": {
     "end_time": "2021-10-21T05:32:29.490640Z",
     "start_time": "2021-10-21T05:32:29.486614Z"
    }
   },
   "outputs": [],
   "source": [
    "project_folder='/home/datasets/Project_data'"
   ]
  },
  {
   "cell_type": "markdown",
   "metadata": {},
   "source": [
    "##### Plotting"
   ]
  },
  {
   "cell_type": "code",
   "execution_count": 6,
   "metadata": {
    "ExecuteTime": {
     "end_time": "2021-10-21T05:31:04.705929Z",
     "start_time": "2021-10-21T05:31:04.699945Z"
    }
   },
   "outputs": [],
   "source": [
    "# function to plot the training/validation accuracies/losses.\n",
    "\n",
    "def plot(history):\n",
    "    fig, axes = plt.subplots(nrows=1, ncols=2, figsize=(15,4))\n",
    "    axes[0].plot(history.history['loss'])   \n",
    "    axes[0].plot(history.history['val_loss'])\n",
    "    axes[0].legend(['loss','val_loss'])\n",
    "\n",
    "    axes[1].plot(history.history['categorical_accuracy'])   \n",
    "    axes[1].plot(history.history['val_categorical_accuracy'])\n",
    "    axes[1].legend(['categorical_accuracy','val_categorical_accuracy'])\n",
    "    print(\"Max. Training Accuracy\", max(history.history['categorical_accuracy']))\n",
    "    print(\"Max. Validaiton Accuracy\", max(history.history['val_categorical_accuracy']))"
   ]
  },
  {
   "cell_type": "markdown",
   "metadata": {},
   "source": [
    "## Generator\n",
    "This is one of the most important part of the code. The overall structure of the generator has been given. In the generator, you are going to preprocess the images as you have images of 2 different dimensions as well as create a batch of video frames. You have to experiment with `img_idx`, `y`,`z` and normalization such that you get high accuracy."
   ]
  },
  {
   "cell_type": "markdown",
   "metadata": {},
   "source": [
    "We will create a class which will contain modules for following purposes:\n",
    "- Initialising the path where project data resides.\n",
    "- Initialising the image properties\n",
    "- Initialising the batch size, frames to sample and the no. of epochs\n",
    "- The generator function [MOST IMPORTANT PART] \n",
    "- Performing image reading, resizing and normalizing.\n",
    "- Train and save the model at each epoch.\n"
   ]
  },
  {
   "cell_type": "code",
   "execution_count": 7,
   "metadata": {
    "ExecuteTime": {
     "end_time": "2021-10-21T05:31:08.316630Z",
     "start_time": "2021-10-21T05:31:08.288683Z"
    }
   },
   "outputs": [],
   "source": [
    "class ModelBuilder(metaclass= abc.ABCMeta):\n",
    "    # initialising the path where project data resides\n",
    "    def initialize_path(self,project_folder):\n",
    "        self.train_doc = np.random.permutation(open(project_folder + '/' + 'train.csv').readlines())\n",
    "        self.val_doc = np.random.permutation(open(project_folder + '/' + 'val.csv').readlines())\n",
    "        self.train_path = project_folder + '/' + 'train'\n",
    "        self.val_path =  project_folder + '/' + 'val'\n",
    "        self.num_train_sequences = len(self.train_doc)\n",
    "        self.num_val_sequences = len(self.val_doc)\n",
    "        \n",
    "    # initialising the image properties    \n",
    "    def initialize_image_properties(self,image_height=100,image_width=100):\n",
    "        self.image_height=image_height\n",
    "        self.image_width=image_width\n",
    "        self.channels=3\n",
    "        self.num_classes=5\n",
    "        self.total_frames=30\n",
    "        \n",
    "    # initialising the batch size, frames to sample and the no. of epochs\n",
    "    def initialize_hyperparams(self,frames_to_sample=30,batch_size=20,num_epochs=20):\n",
    "        self.frames_to_sample=frames_to_sample\n",
    "        self.batch_size=batch_size\n",
    "        self.num_epochs=num_epochs\n",
    "        \n",
    "    # MOST IMPORTANT PART HERE - The generator function        \n",
    "    def generator(self,source_path, folder_list, augment=False):\n",
    "        img_idx = np.round(np.linspace(0,self.total_frames-1,self.frames_to_sample)).astype(int)\n",
    "        batch_size=self.batch_size\n",
    "        print( 'Source path = ', source_path, '; batch size =', batch_size)\n",
    "        while True:\n",
    "            t = np.random.permutation(folder_list)\n",
    "            num_batches = len(t)//batch_size\n",
    "        \n",
    "            for batch in range(num_batches): \n",
    "                batch_data, batch_labels= self.one_batch_data(source_path,t,batch,batch_size,img_idx,augment)\n",
    "                yield batch_data, batch_labels \n",
    "\n",
    "            remaining_seq=len(t)%batch_size\n",
    "        \n",
    "            if (remaining_seq != 0):\n",
    "                batch_data, batch_labels= self.one_batch_data(source_path,t,num_batches,batch_size,img_idx,augment,remaining_seq)\n",
    "                yield batch_data, batch_labels \n",
    "    \n",
    "    \n",
    "    def one_batch_data(self,source_path,t,batch,batch_size,img_idx,augment,remaining_seq=0):\n",
    "    \n",
    "        seq_len = remaining_seq if remaining_seq else batch_size\n",
    "    \n",
    "        batch_data = np.zeros((seq_len,len(img_idx),self.image_height,self.image_width,self.channels)) \n",
    "        batch_labels = np.zeros((seq_len,self.num_classes)) \n",
    "    \n",
    "        if (augment):\n",
    "            batch_data_aug = np.zeros((seq_len,len(img_idx),self.image_height,self.image_width,self.channels))\n",
    "\n",
    "        \n",
    "        for folder in range(seq_len): \n",
    "            imgs = os.listdir(source_path+'/'+ t[folder + (batch*batch_size)].split(';')[0]) \n",
    "            for idx,item in enumerate(img_idx):\n",
    "                #performing image reading and resizing\n",
    "                image = imread(source_path+'/'+ t[folder + (batch*batch_size)].strip().split(';')[0]+'/'+imgs[item]).astype(np.float32)\n",
    "                image_resized= resize(image,(self.image_height,self.image_width,3))\n",
    "            \n",
    "                #normalizing the images\n",
    "                batch_data[folder,idx,:,:,0] = (image_resized[:,:,0])/255\n",
    "                batch_data[folder,idx,:,:,1] = (image_resized[:,:,1])/255\n",
    "                batch_data[folder,idx,:,:,2] = (image_resized[:,:,2])/255\n",
    "            \n",
    "                if (augment):\n",
    "                    shifted = cv2.warpAffine(image, \n",
    "                                             np.float32([[1, 0, np.random.randint(-30,30)],[0, 1, np.random.randint(-30,30)]]), \n",
    "                                            (image.shape[1], image.shape[0]))\n",
    "                    \n",
    "                    gray = cv2.cvtColor(shifted,cv2.COLOR_BGR2GRAY)\n",
    "\n",
    "                    x0, y0 = np.argwhere(gray > 0).min(axis=0)\n",
    "                    x1, y1 = np.argwhere(gray > 0).max(axis=0) \n",
    "                    \n",
    "                    cropped=shifted[x0:x1,y0:y1,:]\n",
    "                    \n",
    "                    image_resized = resize(cropped,(self.image_height,self.image_width,3))\n",
    "                    \n",
    "                    M = cv2.getRotationMatrix2D((self.image_width//2,self.image_height//2),np.random.randint(-10,10), 1.0)\n",
    "                    rotated = cv2.warpAffine(image_resized, M, (self.image_width, self.image_height))\n",
    "                    \n",
    "                    \n",
    "            \n",
    "                    batch_data_aug[folder,idx,:,:,0] = (rotated[:,:,0])/255\n",
    "                    batch_data_aug[folder,idx,:,:,1] = (rotated[:,:,1])/255\n",
    "                    batch_data_aug[folder,idx,:,:,2] = (rotated[:,:,2])/255\n",
    "                    #batch_data_aug[folder,idx,:,:,0] = (image_resized[:,:,0])/255\n",
    "                    #batch_data_aug[folder,idx,:,:,1] = (image_resized[:,:,1])/255\n",
    "                    #batch_data_aug[folder,idx,:,:,2] = (image_resized[:,:,2])/255\n",
    "                \n",
    "            \n",
    "            batch_labels[folder, int(t[folder + (batch*batch_size)].strip().split(';')[2])] = 1\n",
    "            \n",
    "        \n",
    "        if (augment):\n",
    "            batch_data=np.concatenate([batch_data,batch_data_aug])\n",
    "            batch_labels=np.concatenate([batch_labels,batch_labels])\n",
    "\n",
    "        \n",
    "        return(batch_data,batch_labels)\n",
    "    \n",
    "    \n",
    "    def train_model(self, model, augment_data=False):\n",
    "        train_generator = self.generator(self.train_path, self.train_doc, augment=augment_data)\n",
    "        val_generator = self.generator(self.val_path, self.val_doc)\n",
    "\n",
    "        model_name = 'model_init' + '_' + str(datetime.datetime.now()).replace(' ','').replace(':','_') + '/'\n",
    "    \n",
    "        if not os.path.exists(model_name):\n",
    "            os.mkdir(model_name)\n",
    "        \n",
    "        filepath = model_name + 'model-{epoch:05d}-{loss:.5f}-{categorical_accuracy:.5f}-{val_loss:.5f}-{val_categorical_accuracy:.5f}.h5'\n",
    "\n",
    "        checkpoint = ModelCheckpoint(filepath, monitor='val_loss', verbose=1, save_best_only=True, save_weights_only=False, mode='auto',save_freq = 'epoch')\n",
    "        \n",
    "        LR = ReduceLROnPlateau(monitor='val_loss', factor=0.2, verbose=1, patience=4)\n",
    "        #earlystop = EarlyStopping( monitor=\"val_loss\", min_delta=0,patience=10,verbose=1)\n",
    "        callbacks_list = [checkpoint, LR]\n",
    "        \n",
    "        \n",
    "         \n",
    "\n",
    "        if (self.num_train_sequences%self.batch_size) == 0:\n",
    "            steps_per_epoch = int(self.num_train_sequences/self.batch_size)\n",
    "        else:\n",
    "            steps_per_epoch = (self.num_train_sequences//self.batch_size) + 1\n",
    "\n",
    "        if (self.num_val_sequences%self.batch_size) == 0:\n",
    "            validation_steps = int(self.num_val_sequences/self.batch_size)\n",
    "        else:\n",
    "            validation_steps = (self.num_val_sequences//self.batch_size) + 1\n",
    "    \n",
    "        history=model.fit(train_generator, steps_per_epoch=steps_per_epoch, epochs=self.num_epochs, verbose=1, \n",
    "                          callbacks=callbacks_list, validation_data=val_generator, \n",
    "                          validation_steps=validation_steps, class_weight=None, workers=1, initial_epoch=0)\n",
    "        K.clear_session()\n",
    "        return history\n",
    "\n",
    "        \n",
    "    @abc.abstractmethod\n",
    "    def define_model(self):\n",
    "        pass"
   ]
  },
  {
   "cell_type": "markdown",
   "metadata": {},
   "source": [
    "## Model\n",
    "Here you make the model using different functionalities that Keras provides. Remember to use `Conv3D` and `MaxPooling3D` and not `Conv2D` and `Maxpooling2D` for a 3D convolution model. You would want to use `TimeDistributed` while building a Conv2D + RNN model. Also remember that the last layer is the softmax. Design the network in such a way that the model is able to give good accuracy on the least number of parameters so that it can fit in the memory of the webcam."
   ]
  },
  {
   "cell_type": "markdown",
   "metadata": {},
   "source": [
    "## Sample Model"
   ]
  },
  {
   "cell_type": "code",
   "execution_count": 9,
   "metadata": {
    "ExecuteTime": {
     "end_time": "2021-10-21T05:33:08.931293Z",
     "start_time": "2021-10-21T05:33:08.919324Z"
    }
   },
   "outputs": [],
   "source": [
    "class ModelConv3D1(ModelBuilder):\n",
    "    \n",
    "    def define_model(self):\n",
    "\n",
    "        model = Sequential()\n",
    "        model.add(Conv3D(16, (3, 3, 3), padding='same',\n",
    "                 input_shape=(self.frames_to_sample,self.image_height,self.image_width,self.channels)))\n",
    "        model.add(Activation('relu'))\n",
    "        model.add(BatchNormalization())\n",
    "        model.add(MaxPooling3D(pool_size=(2, 2, 2)))\n",
    "\n",
    "        model.add(Conv3D(32, (2, 2, 2), padding='same'))\n",
    "        model.add(Activation('relu'))\n",
    "        model.add(BatchNormalization())\n",
    "        model.add(MaxPooling3D(pool_size=(2, 2, 2)))\n",
    "\n",
    "        model.add(Conv3D(64, (2, 2, 2), padding='same'))\n",
    "        model.add(Activation('relu'))\n",
    "        model.add(BatchNormalization())\n",
    "        model.add(MaxPooling3D(pool_size=(2, 2, 2)))\n",
    "\n",
    "        model.add(Conv3D(128, (2, 2, 2), padding='same'))\n",
    "        model.add(Activation('relu'))\n",
    "        model.add(BatchNormalization())\n",
    "        model.add(MaxPooling3D(pool_size=(2, 2, 2)))\n",
    "\n",
    "        model.add(Flatten())\n",
    "        model.add(Dense(128,activation='relu'))\n",
    "        model.add(BatchNormalization())\n",
    "        model.add(Dropout(0.5))\n",
    "\n",
    "        model.add(Dense(64,activation='relu'))\n",
    "        model.add(BatchNormalization())\n",
    "        model.add(Dropout(0.25))\n",
    "\n",
    "\n",
    "        model.add(Dense(self.num_classes,activation='softmax'))\n",
    "\n",
    "        optimiser = tf.keras.optimizers.Adam()\n",
    "        #optimiser = 'sgd'\n",
    "        model.compile(optimizer=optimiser, loss='categorical_crossentropy', metrics=['categorical_accuracy'])\n",
    "        return model"
   ]
  },
  {
   "cell_type": "code",
   "execution_count": 10,
   "metadata": {
    "ExecuteTime": {
     "end_time": "2021-10-21T05:33:10.410779Z",
     "start_time": "2021-10-21T05:33:09.816390Z"
    },
    "scrolled": true
   },
   "outputs": [
    {
     "name": "stdout",
     "output_type": "stream",
     "text": [
      "Model: \"sequential\"\n",
      "_________________________________________________________________\n",
      "Layer (type)                 Output Shape              Param #   \n",
      "=================================================================\n",
      "conv3d (Conv3D)              (None, 30, 160, 160, 16)  1312      \n",
      "_________________________________________________________________\n",
      "activation (Activation)      (None, 30, 160, 160, 16)  0         \n",
      "_________________________________________________________________\n",
      "batch_normalization (BatchNo (None, 30, 160, 160, 16)  64        \n",
      "_________________________________________________________________\n",
      "max_pooling3d (MaxPooling3D) (None, 15, 80, 80, 16)    0         \n",
      "_________________________________________________________________\n",
      "conv3d_1 (Conv3D)            (None, 15, 80, 80, 32)    4128      \n",
      "_________________________________________________________________\n",
      "activation_1 (Activation)    (None, 15, 80, 80, 32)    0         \n",
      "_________________________________________________________________\n",
      "batch_normalization_1 (Batch (None, 15, 80, 80, 32)    128       \n",
      "_________________________________________________________________\n",
      "max_pooling3d_1 (MaxPooling3 (None, 7, 40, 40, 32)     0         \n",
      "_________________________________________________________________\n",
      "conv3d_2 (Conv3D)            (None, 7, 40, 40, 64)     16448     \n",
      "_________________________________________________________________\n",
      "activation_2 (Activation)    (None, 7, 40, 40, 64)     0         \n",
      "_________________________________________________________________\n",
      "batch_normalization_2 (Batch (None, 7, 40, 40, 64)     256       \n",
      "_________________________________________________________________\n",
      "max_pooling3d_2 (MaxPooling3 (None, 3, 20, 20, 64)     0         \n",
      "_________________________________________________________________\n",
      "conv3d_3 (Conv3D)            (None, 3, 20, 20, 128)    65664     \n",
      "_________________________________________________________________\n",
      "activation_3 (Activation)    (None, 3, 20, 20, 128)    0         \n",
      "_________________________________________________________________\n",
      "batch_normalization_3 (Batch (None, 3, 20, 20, 128)    512       \n",
      "_________________________________________________________________\n",
      "max_pooling3d_3 (MaxPooling3 (None, 1, 10, 10, 128)    0         \n",
      "_________________________________________________________________\n",
      "flatten (Flatten)            (None, 12800)             0         \n",
      "_________________________________________________________________\n",
      "dense (Dense)                (None, 128)               1638528   \n",
      "_________________________________________________________________\n",
      "batch_normalization_4 (Batch (None, 128)               512       \n",
      "_________________________________________________________________\n",
      "dropout (Dropout)            (None, 128)               0         \n",
      "_________________________________________________________________\n",
      "dense_1 (Dense)              (None, 64)                8256      \n",
      "_________________________________________________________________\n",
      "batch_normalization_5 (Batch (None, 64)                256       \n",
      "_________________________________________________________________\n",
      "dropout_1 (Dropout)          (None, 64)                0         \n",
      "_________________________________________________________________\n",
      "dense_2 (Dense)              (None, 5)                 325       \n",
      "=================================================================\n",
      "Total params: 1,736,389\n",
      "Trainable params: 1,735,525\n",
      "Non-trainable params: 864\n",
      "_________________________________________________________________\n"
     ]
    }
   ],
   "source": [
    "conv_3d1=ModelConv3D1()\n",
    "conv_3d1.initialize_path(project_folder)\n",
    "conv_3d1.initialize_image_properties(image_height=160,image_width=160)\n",
    "conv_3d1.initialize_hyperparams(frames_to_sample=30,batch_size=10,num_epochs=1)\n",
    "conv_3d1_model=conv_3d1.define_model()\n",
    "conv_3d1_model.summary()"
   ]
  },
  {
   "cell_type": "markdown",
   "metadata": {},
   "source": [
    "##### Sample Cropping"
   ]
  },
  {
   "cell_type": "code",
   "execution_count": 9,
   "metadata": {},
   "outputs": [
    {
     "name": "stdout",
     "output_type": "stream",
     "text": [
      "Source path =  /home/datasets/Project_data/val ; batch size = 3\n"
     ]
    },
    {
     "data": {
      "text/plain": [
       "<matplotlib.image.AxesImage at 0x7f83f46db7b8>"
      ]
     },
     "execution_count": 9,
     "metadata": {},
     "output_type": "execute_result"
    },
    {
     "data": {
      "image/png": "[encoded data removed]",
      "text/plain": [
       "<Figure size 432x288 with 2 Axes>"
      ]
     },
     "metadata": {
      "needs_background": "light"
     },
     "output_type": "display_data"
    }
   ],
   "source": [
    "test_generator=ModelConv3D1()\n",
    "test_generator.initialize_path(project_folder)\n",
    "test_generator.initialize_image_properties(image_height=120,image_width=140)\n",
    "test_generator.initialize_hyperparams(frames_to_sample=30,batch_size=3,num_epochs=1)\n",
    "\n",
    "g=test_generator.generator(test_generator.val_path,test_generator.val_doc,augment=True)\n",
    "batch_data, batch_labels=next(g)\n",
    "fig, axes = plt.subplots(nrows=1, ncols=2)\n",
    "axes[0].imshow(batch_data[0,15,:,:,:])\n",
    "axes[1].imshow(batch_data[3,15,:,:,:])"
   ]
  },
  {
   "cell_type": "markdown",
   "metadata": {},
   "source": [
    "## Experimenting with Image resolution, number of frames to use and batch_size"
   ]
  },
  {
   "cell_type": "markdown",
   "metadata": {},
   "source": [
    "Lets trade-off between these parameters.<br/>\n",
    "Below are the experiments to see how training time is affected by image resolution, number of images in sequence and batch size"
   ]
  },
  {
   "cell_type": "code",
   "execution_count": 13,
   "metadata": {},
   "outputs": [
    {
     "name": "stdout",
     "output_type": "stream",
     "text": [
      "Total Params: 687813\n",
      "Source path =  /home/datasets/Project_data/train ; batch size = 30\n",
      "Epoch 1/2\n",
      "23/23 [==============================] - ETA: 0s - loss: 1.6757 - categorical_accuracy: 0.3831Source path =  /home/datasets/Project_data/val ; batch size = 30\n",
      "\n",
      "Epoch 00001: val_loss improved from inf to 2.06403, saving model to model_init_2021-10-2416_58_17.644378/model-00001-1.67571-0.38311-2.06403-0.16000.h5\n",
      "23/23 [==============================] - 103s 4s/step - loss: 1.6757 - categorical_accuracy: 0.3831 - val_loss: 2.0640 - val_categorical_accuracy: 0.1600\n",
      "Epoch 2/2\n",
      "23/23 [==============================] - ETA: 0s - loss: 1.0647 - categorical_accuracy: 0.5701\n",
      "Epoch 00002: val_loss did not improve from 2.06403\n",
      "23/23 [==============================] - 99s 4s/step - loss: 1.0647 - categorical_accuracy: 0.5701 - val_loss: 3.7622 - val_categorical_accuracy: 0.1500\n"
     ]
    },
    {
     "data": {
      "text/plain": [
       "<tensorflow.python.keras.callbacks.History at 0x7fae980a7668>"
      ]
     },
     "execution_count": 13,
     "metadata": {},
     "output_type": "execute_result"
    }
   ],
   "source": [
    "conv_3d1=ModelConv3D1()\n",
    "conv_3d1.initialize_path(project_folder)\n",
    "conv_3d1.initialize_image_properties(image_height=100,image_width=100)\n",
    "conv_3d1.initialize_hyperparams(frames_to_sample=20,batch_size=30,num_epochs=2)\n",
    "conv_3d1_model=conv_3d1.define_model()\n",
    "print(\"Total Params:\", conv_3d1_model.count_params())\n",
    "conv_3d1.train_model(conv_3d1_model)"
   ]
  },
  {
   "cell_type": "code",
   "execution_count": 14,
   "metadata": {},
   "outputs": [
    {
     "name": "stdout",
     "output_type": "stream",
     "text": [
      "Total Params: 687813\n",
      "Source path =  /home/datasets/Project_data/train ; batch size = 20\n",
      "Epoch 1/2\n",
      "34/34 [==============================] - ETA: 0s - loss: 1.7412 - categorical_accuracy: 0.3831Source path =  /home/datasets/Project_data/val ; batch size = 20\n",
      "\n",
      "Epoch 00001: val_loss improved from inf to 3.17295, saving model to model_init_2021-10-2417_01_48.673253/model-00001-1.74124-0.38311-3.17295-0.16000.h5\n",
      "34/34 [==============================] - 145s 4s/step - loss: 1.7412 - categorical_accuracy: 0.3831 - val_loss: 3.1730 - val_categorical_accuracy: 0.1600\n",
      "Epoch 2/2\n",
      "34/34 [==============================] - ETA: 0s - loss: 1.1232 - categorical_accuracy: 0.5566\n",
      "Epoch 00002: val_loss did not improve from 3.17295\n",
      "34/34 [==============================] - 145s 4s/step - loss: 1.1232 - categorical_accuracy: 0.5566 - val_loss: 5.3794 - val_categorical_accuracy: 0.1400\n"
     ]
    },
    {
     "data": {
      "text/plain": [
       "<tensorflow.python.keras.callbacks.History at 0x7fae1447c7f0>"
      ]
     },
     "execution_count": 14,
     "metadata": {},
     "output_type": "execute_result"
    }
   ],
   "source": [
    "conv_3d1=ModelConv3D1()\n",
    "conv_3d1.initialize_path(project_folder)\n",
    "conv_3d1.initialize_image_properties(image_height=100,image_width=100)\n",
    "conv_3d1.initialize_hyperparams(frames_to_sample=30,batch_size=20,num_epochs=2)\n",
    "conv_3d1_model=conv_3d1.define_model()\n",
    "print(\"Total Params:\", conv_3d1_model.count_params())\n",
    "conv_3d1.train_model(conv_3d1_model)"
   ]
  },
  {
   "cell_type": "code",
   "execution_count": 15,
   "metadata": {},
   "outputs": [
    {
     "name": "stdout",
     "output_type": "stream",
     "text": [
      "Total Params: 1736389\n",
      "Source path =  /home/datasets/Project_data/train ; batch size = 15\n",
      "Epoch 1/2\n",
      "45/45 [==============================] - ETA: 0s - loss: 1.5950 - categorical_accuracy: 0.4510Source path =  /home/datasets/Project_data/val ; batch size = 15\n",
      "\n",
      "Epoch 00001: val_loss improved from inf to 4.89903, saving model to model_init_2021-10-2417_06_44.517325/model-00001-1.59504-0.45098-4.89903-0.16000.h5\n",
      "45/45 [==============================] - 171s 4s/step - loss: 1.5950 - categorical_accuracy: 0.4510 - val_loss: 4.8990 - val_categorical_accuracy: 0.1600\n",
      "Epoch 2/2\n",
      "45/45 [==============================] - ETA: 0s - loss: 1.0616 - categorical_accuracy: 0.5867\n",
      "Epoch 00002: val_loss did not improve from 4.89903\n",
      "45/45 [==============================] - 175s 4s/step - loss: 1.0616 - categorical_accuracy: 0.5867 - val_loss: 6.5691 - val_categorical_accuracy: 0.1600\n"
     ]
    },
    {
     "data": {
      "text/plain": [
       "<tensorflow.python.keras.callbacks.History at 0x7fae14137a90>"
      ]
     },
     "execution_count": 15,
     "metadata": {},
     "output_type": "execute_result"
    }
   ],
   "source": [
    "conv_3d1=ModelConv3D1()\n",
    "conv_3d1.initialize_path(project_folder)\n",
    "conv_3d1.initialize_image_properties(image_height=160,image_width=160)\n",
    "conv_3d1.initialize_hyperparams(frames_to_sample=30,batch_size=15,num_epochs=2)\n",
    "conv_3d1_model=conv_3d1.define_model()\n",
    "print(\"Total Params:\", conv_3d1_model.count_params())\n",
    "conv_3d1.train_model(conv_3d1_model)"
   ]
  },
  {
   "cell_type": "code",
   "execution_count": 16,
   "metadata": {},
   "outputs": [
    {
     "name": "stdout",
     "output_type": "stream",
     "text": [
      "Total Params: 1736389\n",
      "Source path =  /home/datasets/Project_data/train ; batch size = 30\n",
      "Epoch 1/2\n"
     ]
    },
    {
     "ename": "ResourceExhaustedError",
     "evalue": " OOM when allocating tensor with shape[30,16,16,160,160] and type float on /job:localhost/replica:0/task:0/device:GPU:0 by allocator GPU_0_bfc\n\t [[node gradient_tape/sequential/max_pooling3d/MaxPool3D/MaxPool3DGrad (defined at <ipython-input-8-6382a1e642e1>:129) ]]\nHint: If you want to see a list of allocated tensors when OOM happens, add report_tensor_allocations_upon_oom to RunOptions for current allocation info.\n [Op:__inference_train_function_11914]\n\nFunction call stack:\ntrain_function\n",
     "output_type": "error",
     "traceback": [
      "\u001b[0;31m---------------------------------------------------------------------------\u001b[0m",
      "\u001b[0;31mResourceExhaustedError\u001b[0m                    Traceback (most recent call last)",
      "\u001b[0;32m<ipython-input-16-ba04d60d267d>\u001b[0m in \u001b[0;36m<module>\u001b[0;34m\u001b[0m\n\u001b[1;32m      5\u001b[0m \u001b[0mconv_3d1_model\u001b[0m\u001b[0;34m=\u001b[0m\u001b[0mconv_3d1\u001b[0m\u001b[0;34m.\u001b[0m\u001b[0mdefine_model\u001b[0m\u001b[0;34m(\u001b[0m\u001b[0;34m)\u001b[0m\u001b[0;34m\u001b[0m\u001b[0;34m\u001b[0m\u001b[0m\n\u001b[1;32m      6\u001b[0m \u001b[0mprint\u001b[0m\u001b[0;34m(\u001b[0m\u001b[0;34m\"Total Params:\"\u001b[0m\u001b[0;34m,\u001b[0m \u001b[0mconv_3d1_model\u001b[0m\u001b[0;34m.\u001b[0m\u001b[0mcount_params\u001b[0m\u001b[0;34m(\u001b[0m\u001b[0;34m)\u001b[0m\u001b[0;34m)\u001b[0m\u001b[0;34m\u001b[0m\u001b[0;34m\u001b[0m\u001b[0m\n\u001b[0;32m----> 7\u001b[0;31m \u001b[0mconv_3d1\u001b[0m\u001b[0;34m.\u001b[0m\u001b[0mtrain_model\u001b[0m\u001b[0;34m(\u001b[0m\u001b[0mconv_3d1_model\u001b[0m\u001b[0;34m)\u001b[0m\u001b[0;34m\u001b[0m\u001b[0;34m\u001b[0m\u001b[0m\n\u001b[0m",
      "\u001b[0;32m<ipython-input-8-6382a1e642e1>\u001b[0m in \u001b[0;36mtrain_model\u001b[0;34m(self, model, augment_data)\u001b[0m\n\u001b[1;32m    127\u001b[0m         history=model.fit(train_generator, steps_per_epoch=steps_per_epoch, epochs=self.num_epochs, verbose=1, \n\u001b[1;32m    128\u001b[0m                             \u001b[0mcallbacks\u001b[0m\u001b[0;34m=\u001b[0m\u001b[0mcallbacks_list\u001b[0m\u001b[0;34m,\u001b[0m \u001b[0mvalidation_data\u001b[0m\u001b[0;34m=\u001b[0m\u001b[0mval_generator\u001b[0m\u001b[0;34m,\u001b[0m\u001b[0;34m\u001b[0m\u001b[0;34m\u001b[0m\u001b[0m\n\u001b[0;32m--> 129\u001b[0;31m                             validation_steps=validation_steps, class_weight=None, workers=1, initial_epoch=0)\n\u001b[0m\u001b[1;32m    130\u001b[0m         \u001b[0mK\u001b[0m\u001b[0;34m.\u001b[0m\u001b[0mclear_session\u001b[0m\u001b[0;34m(\u001b[0m\u001b[0;34m)\u001b[0m\u001b[0;34m\u001b[0m\u001b[0;34m\u001b[0m\u001b[0m\n\u001b[1;32m    131\u001b[0m         \u001b[0;32mreturn\u001b[0m \u001b[0mhistory\u001b[0m\u001b[0;34m\u001b[0m\u001b[0;34m\u001b[0m\u001b[0m\n",
      "\u001b[0;32m/usr/local/lib/python3.6/dist-packages/tensorflow/python/keras/engine/training.py\u001b[0m in \u001b[0;36m_method_wrapper\u001b[0;34m(self, *args, **kwargs)\u001b[0m\n\u001b[1;32m    106\u001b[0m   \u001b[0;32mdef\u001b[0m \u001b[0m_method_wrapper\u001b[0m\u001b[0;34m(\u001b[0m\u001b[0mself\u001b[0m\u001b[0;34m,\u001b[0m \u001b[0;34m*\u001b[0m\u001b[0margs\u001b[0m\u001b[0;34m,\u001b[0m \u001b[0;34m**\u001b[0m\u001b[0mkwargs\u001b[0m\u001b[0;34m)\u001b[0m\u001b[0;34m:\u001b[0m\u001b[0;34m\u001b[0m\u001b[0;34m\u001b[0m\u001b[0m\n\u001b[1;32m    107\u001b[0m     \u001b[0;32mif\u001b[0m \u001b[0;32mnot\u001b[0m \u001b[0mself\u001b[0m\u001b[0;34m.\u001b[0m\u001b[0m_in_multi_worker_mode\u001b[0m\u001b[0;34m(\u001b[0m\u001b[0;34m)\u001b[0m\u001b[0;34m:\u001b[0m  \u001b[0;31m# pylint: disable=protected-access\u001b[0m\u001b[0;34m\u001b[0m\u001b[0;34m\u001b[0m\u001b[0m\n\u001b[0;32m--> 108\u001b[0;31m       \u001b[0;32mreturn\u001b[0m \u001b[0mmethod\u001b[0m\u001b[0;34m(\u001b[0m\u001b[0mself\u001b[0m\u001b[0;34m,\u001b[0m \u001b[0;34m*\u001b[0m\u001b[0margs\u001b[0m\u001b[0;34m,\u001b[0m \u001b[0;34m**\u001b[0m\u001b[0mkwargs\u001b[0m\u001b[0;34m)\u001b[0m\u001b[0;34m\u001b[0m\u001b[0;34m\u001b[0m\u001b[0m\n\u001b[0m\u001b[1;32m    109\u001b[0m \u001b[0;34m\u001b[0m\u001b[0m\n\u001b[1;32m    110\u001b[0m     \u001b[0;31m# Running inside `run_distribute_coordinator` already.\u001b[0m\u001b[0;34m\u001b[0m\u001b[0;34m\u001b[0m\u001b[0;34m\u001b[0m\u001b[0m\n",
      "\u001b[0;32m/usr/local/lib/python3.6/dist-packages/tensorflow/python/keras/engine/training.py\u001b[0m in \u001b[0;36mfit\u001b[0;34m(self, x, y, batch_size, epochs, verbose, callbacks, validation_split, validation_data, shuffle, class_weight, sample_weight, initial_epoch, steps_per_epoch, validation_steps, validation_batch_size, validation_freq, max_queue_size, workers, use_multiprocessing)\u001b[0m\n\u001b[1;32m   1096\u001b[0m                 batch_size=batch_size):\n\u001b[1;32m   1097\u001b[0m               \u001b[0mcallbacks\u001b[0m\u001b[0;34m.\u001b[0m\u001b[0mon_train_batch_begin\u001b[0m\u001b[0;34m(\u001b[0m\u001b[0mstep\u001b[0m\u001b[0;34m)\u001b[0m\u001b[0;34m\u001b[0m\u001b[0;34m\u001b[0m\u001b[0m\n\u001b[0;32m-> 1098\u001b[0;31m               \u001b[0mtmp_logs\u001b[0m \u001b[0;34m=\u001b[0m \u001b[0mtrain_function\u001b[0m\u001b[0;34m(\u001b[0m\u001b[0miterator\u001b[0m\u001b[0;34m)\u001b[0m\u001b[0;34m\u001b[0m\u001b[0;34m\u001b[0m\u001b[0m\n\u001b[0m\u001b[1;32m   1099\u001b[0m               \u001b[0;32mif\u001b[0m \u001b[0mdata_handler\u001b[0m\u001b[0;34m.\u001b[0m\u001b[0mshould_sync\u001b[0m\u001b[0;34m:\u001b[0m\u001b[0;34m\u001b[0m\u001b[0;34m\u001b[0m\u001b[0m\n\u001b[1;32m   1100\u001b[0m                 \u001b[0mcontext\u001b[0m\u001b[0;34m.\u001b[0m\u001b[0masync_wait\u001b[0m\u001b[0;34m(\u001b[0m\u001b[0;34m)\u001b[0m\u001b[0;34m\u001b[0m\u001b[0;34m\u001b[0m\u001b[0m\n",
      "\u001b[0;32m/usr/local/lib/python3.6/dist-packages/tensorflow/python/eager/def_function.py\u001b[0m in \u001b[0;36m__call__\u001b[0;34m(self, *args, **kwds)\u001b[0m\n\u001b[1;32m    778\u001b[0m       \u001b[0;32melse\u001b[0m\u001b[0;34m:\u001b[0m\u001b[0;34m\u001b[0m\u001b[0;34m\u001b[0m\u001b[0m\n\u001b[1;32m    779\u001b[0m         \u001b[0mcompiler\u001b[0m \u001b[0;34m=\u001b[0m \u001b[0;34m\"nonXla\"\u001b[0m\u001b[0;34m\u001b[0m\u001b[0;34m\u001b[0m\u001b[0m\n\u001b[0;32m--> 780\u001b[0;31m         \u001b[0mresult\u001b[0m \u001b[0;34m=\u001b[0m \u001b[0mself\u001b[0m\u001b[0;34m.\u001b[0m\u001b[0m_call\u001b[0m\u001b[0;34m(\u001b[0m\u001b[0;34m*\u001b[0m\u001b[0margs\u001b[0m\u001b[0;34m,\u001b[0m \u001b[0;34m**\u001b[0m\u001b[0mkwds\u001b[0m\u001b[0;34m)\u001b[0m\u001b[0;34m\u001b[0m\u001b[0;34m\u001b[0m\u001b[0m\n\u001b[0m\u001b[1;32m    781\u001b[0m \u001b[0;34m\u001b[0m\u001b[0m\n\u001b[1;32m    782\u001b[0m       \u001b[0mnew_tracing_count\u001b[0m \u001b[0;34m=\u001b[0m \u001b[0mself\u001b[0m\u001b[0;34m.\u001b[0m\u001b[0m_get_tracing_count\u001b[0m\u001b[0;34m(\u001b[0m\u001b[0;34m)\u001b[0m\u001b[0;34m\u001b[0m\u001b[0;34m\u001b[0m\u001b[0m\n",
      "\u001b[0;32m/usr/local/lib/python3.6/dist-packages/tensorflow/python/eager/def_function.py\u001b[0m in \u001b[0;36m_call\u001b[0;34m(self, *args, **kwds)\u001b[0m\n\u001b[1;32m    838\u001b[0m         \u001b[0;31m# Lifting succeeded, so variables are initialized and we can run the\u001b[0m\u001b[0;34m\u001b[0m\u001b[0;34m\u001b[0m\u001b[0;34m\u001b[0m\u001b[0m\n\u001b[1;32m    839\u001b[0m         \u001b[0;31m# stateless function.\u001b[0m\u001b[0;34m\u001b[0m\u001b[0;34m\u001b[0m\u001b[0;34m\u001b[0m\u001b[0m\n\u001b[0;32m--> 840\u001b[0;31m         \u001b[0;32mreturn\u001b[0m \u001b[0mself\u001b[0m\u001b[0;34m.\u001b[0m\u001b[0m_stateless_fn\u001b[0m\u001b[0;34m(\u001b[0m\u001b[0;34m*\u001b[0m\u001b[0margs\u001b[0m\u001b[0;34m,\u001b[0m \u001b[0;34m**\u001b[0m\u001b[0mkwds\u001b[0m\u001b[0;34m)\u001b[0m\u001b[0;34m\u001b[0m\u001b[0;34m\u001b[0m\u001b[0m\n\u001b[0m\u001b[1;32m    841\u001b[0m     \u001b[0;32melse\u001b[0m\u001b[0;34m:\u001b[0m\u001b[0;34m\u001b[0m\u001b[0;34m\u001b[0m\u001b[0m\n\u001b[1;32m    842\u001b[0m       \u001b[0mcanon_args\u001b[0m\u001b[0;34m,\u001b[0m \u001b[0mcanon_kwds\u001b[0m \u001b[0;34m=\u001b[0m\u001b[0;31m \u001b[0m\u001b[0;31m\\\u001b[0m\u001b[0;34m\u001b[0m\u001b[0;34m\u001b[0m\u001b[0m\n",
      "\u001b[0;32m/usr/local/lib/python3.6/dist-packages/tensorflow/python/eager/function.py\u001b[0m in \u001b[0;36m__call__\u001b[0;34m(self, *args, **kwargs)\u001b[0m\n\u001b[1;32m   2827\u001b[0m     \u001b[0;32mwith\u001b[0m \u001b[0mself\u001b[0m\u001b[0;34m.\u001b[0m\u001b[0m_lock\u001b[0m\u001b[0;34m:\u001b[0m\u001b[0;34m\u001b[0m\u001b[0;34m\u001b[0m\u001b[0m\n\u001b[1;32m   2828\u001b[0m       \u001b[0mgraph_function\u001b[0m\u001b[0;34m,\u001b[0m \u001b[0margs\u001b[0m\u001b[0;34m,\u001b[0m \u001b[0mkwargs\u001b[0m \u001b[0;34m=\u001b[0m \u001b[0mself\u001b[0m\u001b[0;34m.\u001b[0m\u001b[0m_maybe_define_function\u001b[0m\u001b[0;34m(\u001b[0m\u001b[0margs\u001b[0m\u001b[0;34m,\u001b[0m \u001b[0mkwargs\u001b[0m\u001b[0;34m)\u001b[0m\u001b[0;34m\u001b[0m\u001b[0;34m\u001b[0m\u001b[0m\n\u001b[0;32m-> 2829\u001b[0;31m     \u001b[0;32mreturn\u001b[0m \u001b[0mgraph_function\u001b[0m\u001b[0;34m.\u001b[0m\u001b[0m_filtered_call\u001b[0m\u001b[0;34m(\u001b[0m\u001b[0margs\u001b[0m\u001b[0;34m,\u001b[0m \u001b[0mkwargs\u001b[0m\u001b[0;34m)\u001b[0m  \u001b[0;31m# pylint: disable=protected-access\u001b[0m\u001b[0;34m\u001b[0m\u001b[0;34m\u001b[0m\u001b[0m\n\u001b[0m\u001b[1;32m   2830\u001b[0m \u001b[0;34m\u001b[0m\u001b[0m\n\u001b[1;32m   2831\u001b[0m   \u001b[0;34m@\u001b[0m\u001b[0mproperty\u001b[0m\u001b[0;34m\u001b[0m\u001b[0;34m\u001b[0m\u001b[0m\n",
      "\u001b[0;32m/usr/local/lib/python3.6/dist-packages/tensorflow/python/eager/function.py\u001b[0m in \u001b[0;36m_filtered_call\u001b[0;34m(self, args, kwargs, cancellation_manager)\u001b[0m\n\u001b[1;32m   1846\u001b[0m                            resource_variable_ops.BaseResourceVariable))],\n\u001b[1;32m   1847\u001b[0m         \u001b[0mcaptured_inputs\u001b[0m\u001b[0;34m=\u001b[0m\u001b[0mself\u001b[0m\u001b[0;34m.\u001b[0m\u001b[0mcaptured_inputs\u001b[0m\u001b[0;34m,\u001b[0m\u001b[0;34m\u001b[0m\u001b[0;34m\u001b[0m\u001b[0m\n\u001b[0;32m-> 1848\u001b[0;31m         cancellation_manager=cancellation_manager)\n\u001b[0m\u001b[1;32m   1849\u001b[0m \u001b[0;34m\u001b[0m\u001b[0m\n\u001b[1;32m   1850\u001b[0m   \u001b[0;32mdef\u001b[0m \u001b[0m_call_flat\u001b[0m\u001b[0;34m(\u001b[0m\u001b[0mself\u001b[0m\u001b[0;34m,\u001b[0m \u001b[0margs\u001b[0m\u001b[0;34m,\u001b[0m \u001b[0mcaptured_inputs\u001b[0m\u001b[0;34m,\u001b[0m \u001b[0mcancellation_manager\u001b[0m\u001b[0;34m=\u001b[0m\u001b[0;32mNone\u001b[0m\u001b[0;34m)\u001b[0m\u001b[0;34m:\u001b[0m\u001b[0;34m\u001b[0m\u001b[0;34m\u001b[0m\u001b[0m\n",
      "\u001b[0;32m/usr/local/lib/python3.6/dist-packages/tensorflow/python/eager/function.py\u001b[0m in \u001b[0;36m_call_flat\u001b[0;34m(self, args, captured_inputs, cancellation_manager)\u001b[0m\n\u001b[1;32m   1922\u001b[0m       \u001b[0;31m# No tape is watching; skip to running the function.\u001b[0m\u001b[0;34m\u001b[0m\u001b[0;34m\u001b[0m\u001b[0;34m\u001b[0m\u001b[0m\n\u001b[1;32m   1923\u001b[0m       return self._build_call_outputs(self._inference_function.call(\n\u001b[0;32m-> 1924\u001b[0;31m           ctx, args, cancellation_manager=cancellation_manager))\n\u001b[0m\u001b[1;32m   1925\u001b[0m     forward_backward = self._select_forward_and_backward_functions(\n\u001b[1;32m   1926\u001b[0m         \u001b[0margs\u001b[0m\u001b[0;34m,\u001b[0m\u001b[0;34m\u001b[0m\u001b[0;34m\u001b[0m\u001b[0m\n",
      "\u001b[0;32m/usr/local/lib/python3.6/dist-packages/tensorflow/python/eager/function.py\u001b[0m in \u001b[0;36mcall\u001b[0;34m(self, ctx, args, cancellation_manager)\u001b[0m\n\u001b[1;32m    548\u001b[0m               \u001b[0minputs\u001b[0m\u001b[0;34m=\u001b[0m\u001b[0margs\u001b[0m\u001b[0;34m,\u001b[0m\u001b[0;34m\u001b[0m\u001b[0;34m\u001b[0m\u001b[0m\n\u001b[1;32m    549\u001b[0m               \u001b[0mattrs\u001b[0m\u001b[0;34m=\u001b[0m\u001b[0mattrs\u001b[0m\u001b[0;34m,\u001b[0m\u001b[0;34m\u001b[0m\u001b[0;34m\u001b[0m\u001b[0m\n\u001b[0;32m--> 550\u001b[0;31m               ctx=ctx)\n\u001b[0m\u001b[1;32m    551\u001b[0m         \u001b[0;32melse\u001b[0m\u001b[0;34m:\u001b[0m\u001b[0;34m\u001b[0m\u001b[0;34m\u001b[0m\u001b[0m\n\u001b[1;32m    552\u001b[0m           outputs = execute.execute_with_cancellation(\n",
      "\u001b[0;32m/usr/local/lib/python3.6/dist-packages/tensorflow/python/eager/execute.py\u001b[0m in \u001b[0;36mquick_execute\u001b[0;34m(op_name, num_outputs, inputs, attrs, ctx, name)\u001b[0m\n\u001b[1;32m     58\u001b[0m     \u001b[0mctx\u001b[0m\u001b[0;34m.\u001b[0m\u001b[0mensure_initialized\u001b[0m\u001b[0;34m(\u001b[0m\u001b[0;34m)\u001b[0m\u001b[0;34m\u001b[0m\u001b[0;34m\u001b[0m\u001b[0m\n\u001b[1;32m     59\u001b[0m     tensors = pywrap_tfe.TFE_Py_Execute(ctx._handle, device_name, op_name,\n\u001b[0;32m---> 60\u001b[0;31m                                         inputs, attrs, num_outputs)\n\u001b[0m\u001b[1;32m     61\u001b[0m   \u001b[0;32mexcept\u001b[0m \u001b[0mcore\u001b[0m\u001b[0;34m.\u001b[0m\u001b[0m_NotOkStatusException\u001b[0m \u001b[0;32mas\u001b[0m \u001b[0me\u001b[0m\u001b[0;34m:\u001b[0m\u001b[0;34m\u001b[0m\u001b[0;34m\u001b[0m\u001b[0m\n\u001b[1;32m     62\u001b[0m     \u001b[0;32mif\u001b[0m \u001b[0mname\u001b[0m \u001b[0;32mis\u001b[0m \u001b[0;32mnot\u001b[0m \u001b[0;32mNone\u001b[0m\u001b[0;34m:\u001b[0m\u001b[0;34m\u001b[0m\u001b[0;34m\u001b[0m\u001b[0m\n",
      "\u001b[0;31mResourceExhaustedError\u001b[0m:  OOM when allocating tensor with shape[30,16,16,160,160] and type float on /job:localhost/replica:0/task:0/device:GPU:0 by allocator GPU_0_bfc\n\t [[node gradient_tape/sequential/max_pooling3d/MaxPool3D/MaxPool3DGrad (defined at <ipython-input-8-6382a1e642e1>:129) ]]\nHint: If you want to see a list of allocated tensors when OOM happens, add report_tensor_allocations_upon_oom to RunOptions for current allocation info.\n [Op:__inference_train_function_11914]\n\nFunction call stack:\ntrain_function\n"
     ]
    }
   ],
   "source": [
    "conv_3d1=ModelConv3D1()\n",
    "conv_3d1.initialize_path(project_folder)\n",
    "conv_3d1.initialize_image_properties(image_height=160,image_width=160)\n",
    "conv_3d1.initialize_hyperparams(frames_to_sample=16,batch_size=30,num_epochs=2)\n",
    "conv_3d1_model=conv_3d1.define_model()\n",
    "print(\"Total Params:\", conv_3d1_model.count_params())\n",
    "conv_3d1.train_model(conv_3d1_model)"
   ]
  },
  {
   "cell_type": "markdown",
   "metadata": {},
   "source": [
    "- As we see from the above experiments **\"image resolution\"** and **batch_size** have more impact on training time than **number of frames** in sequence.\n",
    "- We can consider the Batch Size around 20-30\n",
    "- We can consider the number of frames as 30\n",
    "- We will change the resolution 160x160 and 120x120 according the model performance\n"
   ]
  },
  {
   "cell_type": "markdown",
   "metadata": {},
   "source": [
    "## Model 1\n",
    "- Batch Size = 30 \n",
    "- No. of Epochs = 15\n",
    "- Image Size = 160x160\n",
    "- filtersize=(3,3,3)"
   ]
  },
  {
   "cell_type": "code",
   "execution_count": 9,
   "metadata": {},
   "outputs": [],
   "source": [
    "class ModelConv3D1(ModelBuilder):\n",
    "    \n",
    "    def define_model(self,filtersize=(3,3,3),dense_neurons=64,dropout=0.15):\n",
    "\n",
    "        model = Sequential()\n",
    "        model.add(Conv3D(16, filtersize, padding='same',\n",
    "                 input_shape=(self.frames_to_sample,self.image_height,self.image_width,self.channels)))\n",
    "        model.add(Activation('relu'))\n",
    "        model.add(BatchNormalization())\n",
    "        model.add(MaxPooling3D(pool_size=(2, 2, 2)))\n",
    "\n",
    "        model.add(Conv3D(32, filtersize, padding='same'))\n",
    "        model.add(Activation('relu'))\n",
    "        model.add(BatchNormalization())\n",
    "        model.add(MaxPooling3D(pool_size=(2, 2, 2)))\n",
    "\n",
    "        model.add(Conv3D(64, filtersize, padding='same'))\n",
    "        model.add(Activation('relu'))\n",
    "        model.add(BatchNormalization())\n",
    "        model.add(MaxPooling3D(pool_size=(2, 2, 2)))\n",
    "\n",
    "        model.add(Conv3D(128, filtersize, padding='same'))\n",
    "        model.add(Activation('relu'))\n",
    "        model.add(BatchNormalization())\n",
    "        model.add(MaxPooling3D(pool_size=(2, 2, 2)))\n",
    "\n",
    "        model.add(Flatten())\n",
    "        model.add(Dense(dense_neurons,activation='relu'))\n",
    "        model.add(BatchNormalization())\n",
    "        model.add(Dropout(dropout))\n",
    "\n",
    "        model.add(Dense(dense_neurons,activation='relu'))\n",
    "        model.add(BatchNormalization())\n",
    "        model.add(Dropout(dropout))\n",
    "\n",
    "\n",
    "        model.add(Dense(self.num_classes,activation='softmax'))\n",
    "\n",
    "        optimiser = tf.keras.optimizers.Adam()\n",
    "        model.compile(optimizer=optimiser, loss='categorical_crossentropy', metrics=['categorical_accuracy'])\n",
    "        return model"
   ]
  },
  {
   "cell_type": "code",
   "execution_count": 15,
   "metadata": {},
   "outputs": [
    {
     "name": "stdout",
     "output_type": "stream",
     "text": [
      "Model: \"sequential_1\"\n",
      "_________________________________________________________________\n",
      "Layer (type)                 Output Shape              Param #   \n",
      "=================================================================\n",
      "conv3d_4 (Conv3D)            (None, 30, 160, 160, 16)  1312      \n",
      "_________________________________________________________________\n",
      "activation_4 (Activation)    (None, 30, 160, 160, 16)  0         \n",
      "_________________________________________________________________\n",
      "batch_normalization_6 (Batch (None, 30, 160, 160, 16)  64        \n",
      "_________________________________________________________________\n",
      "max_pooling3d_4 (MaxPooling3 (None, 15, 80, 80, 16)    0         \n",
      "_________________________________________________________________\n",
      "conv3d_5 (Conv3D)            (None, 15, 80, 80, 32)    13856     \n",
      "_________________________________________________________________\n",
      "activation_5 (Activation)    (None, 15, 80, 80, 32)    0         \n",
      "_________________________________________________________________\n",
      "batch_normalization_7 (Batch (None, 15, 80, 80, 32)    128       \n",
      "_________________________________________________________________\n",
      "max_pooling3d_5 (MaxPooling3 (None, 7, 40, 40, 32)     0         \n",
      "_________________________________________________________________\n",
      "conv3d_6 (Conv3D)            (None, 7, 40, 40, 64)     55360     \n",
      "_________________________________________________________________\n",
      "activation_6 (Activation)    (None, 7, 40, 40, 64)     0         \n",
      "_________________________________________________________________\n",
      "batch_normalization_8 (Batch (None, 7, 40, 40, 64)     256       \n",
      "_________________________________________________________________\n",
      "max_pooling3d_6 (MaxPooling3 (None, 3, 20, 20, 64)     0         \n",
      "_________________________________________________________________\n",
      "conv3d_7 (Conv3D)            (None, 3, 20, 20, 128)    221312    \n",
      "_________________________________________________________________\n",
      "activation_7 (Activation)    (None, 3, 20, 20, 128)    0         \n",
      "_________________________________________________________________\n",
      "batch_normalization_9 (Batch (None, 3, 20, 20, 128)    512       \n",
      "_________________________________________________________________\n",
      "max_pooling3d_7 (MaxPooling3 (None, 1, 10, 10, 128)    0         \n",
      "_________________________________________________________________\n",
      "flatten_1 (Flatten)          (None, 12800)             0         \n",
      "_________________________________________________________________\n",
      "dense_3 (Dense)              (None, 64)                819264    \n",
      "_________________________________________________________________\n",
      "batch_normalization_10 (Batc (None, 64)                256       \n",
      "_________________________________________________________________\n",
      "dropout_2 (Dropout)          (None, 64)                0         \n",
      "_________________________________________________________________\n",
      "dense_4 (Dense)              (None, 64)                4160      \n",
      "_________________________________________________________________\n",
      "batch_normalization_11 (Batc (None, 64)                256       \n",
      "_________________________________________________________________\n",
      "dropout_3 (Dropout)          (None, 64)                0         \n",
      "_________________________________________________________________\n",
      "dense_5 (Dense)              (None, 5)                 325       \n",
      "=================================================================\n",
      "Total params: 1,117,061\n",
      "Trainable params: 1,116,325\n",
      "Non-trainable params: 736\n",
      "_________________________________________________________________\n"
     ]
    }
   ],
   "source": [
    "conv_3d1=ModelConv3D1()\n",
    "conv_3d1.initialize_path(project_folder)\n",
    "conv_3d1.initialize_image_properties(image_height=160,image_width=160)\n",
    "conv_3d1.initialize_hyperparams(frames_to_sample=30,batch_size=30,num_epochs=15)\n",
    "conv_3d1_model=conv_3d1.define_model()\n",
    "conv_3d1_model.summary()"
   ]
  },
  {
   "cell_type": "code",
   "execution_count": 16,
   "metadata": {},
   "outputs": [
    {
     "name": "stdout",
     "output_type": "stream",
     "text": [
      "Total Params: 1117061\n",
      "Source path =  /home/datasets/Project_data/train ; batch size = 30\n",
      "Epoch 1/15\n",
      "23/23 [==============================] - ETA: 0s - loss: 1.4163 - categorical_accuracy: 0.4721Source path =  /home/datasets/Project_data/val ; batch size = 30\n",
      "\n",
      "Epoch 00001: val_loss improved from inf to 1.59186, saving model to model_init_2021-10-2508_32_26.887218/model-00001-1.41628-0.47210-1.59186-0.27000.h5\n",
      "23/23 [==============================] - 182s 8s/step - loss: 1.4163 - categorical_accuracy: 0.4721 - val_loss: 1.5919 - val_categorical_accuracy: 0.2700\n",
      "Epoch 2/15\n",
      "23/23 [==============================] - ETA: 0s - loss: 0.8585 - categorical_accuracy: 0.6878\n",
      "Epoch 00002: val_loss did not improve from 1.59186\n",
      "23/23 [==============================] - 184s 8s/step - loss: 0.8585 - categorical_accuracy: 0.6878 - val_loss: 2.0253 - val_categorical_accuracy: 0.1700\n",
      "Epoch 3/15\n",
      "23/23 [==============================] - ETA: 0s - loss: 0.4839 - categorical_accuracy: 0.8371\n",
      "Epoch 00003: val_loss did not improve from 1.59186\n",
      "23/23 [==============================] - 187s 8s/step - loss: 0.4839 - categorical_accuracy: 0.8371 - val_loss: 3.0520 - val_categorical_accuracy: 0.2300\n",
      "Epoch 4/15\n",
      "23/23 [==============================] - ETA: 0s - loss: 0.3049 - categorical_accuracy: 0.9065\n",
      "Epoch 00004: val_loss did not improve from 1.59186\n",
      "23/23 [==============================] - 178s 8s/step - loss: 0.3049 - categorical_accuracy: 0.9065 - val_loss: 3.2099 - val_categorical_accuracy: 0.2300\n",
      "Epoch 5/15\n",
      "23/23 [==============================] - ETA: 0s - loss: 0.2094 - categorical_accuracy: 0.9412\n",
      "Epoch 00005: val_loss did not improve from 1.59186\n",
      "\n",
      "Epoch 00005: ReduceLROnPlateau reducing learning rate to 0.00020000000949949026.\n",
      "23/23 [==============================] - 182s 8s/step - loss: 0.2094 - categorical_accuracy: 0.9412 - val_loss: 4.1269 - val_categorical_accuracy: 0.2500\n",
      "Epoch 6/15\n",
      "23/23 [==============================] - ETA: 0s - loss: 0.1690 - categorical_accuracy: 0.9578\n",
      "Epoch 00006: val_loss did not improve from 1.59186\n",
      "23/23 [==============================] - 181s 8s/step - loss: 0.1690 - categorical_accuracy: 0.9578 - val_loss: 4.7423 - val_categorical_accuracy: 0.2200\n",
      "Epoch 7/15\n",
      "23/23 [==============================] - ETA: 0s - loss: 0.1832 - categorical_accuracy: 0.9412\n",
      "Epoch 00007: val_loss did not improve from 1.59186\n",
      "23/23 [==============================] - 181s 8s/step - loss: 0.1832 - categorical_accuracy: 0.9412 - val_loss: 4.8709 - val_categorical_accuracy: 0.2400\n",
      "Epoch 8/15\n",
      "23/23 [==============================] - ETA: 0s - loss: 0.1499 - categorical_accuracy: 0.9638\n",
      "Epoch 00008: val_loss did not improve from 1.59186\n",
      "23/23 [==============================] - 175s 8s/step - loss: 0.1499 - categorical_accuracy: 0.9638 - val_loss: 3.9897 - val_categorical_accuracy: 0.2500\n",
      "Epoch 9/15\n",
      "23/23 [==============================] - ETA: 0s - loss: 0.0984 - categorical_accuracy: 0.9789\n",
      "Epoch 00009: val_loss did not improve from 1.59186\n",
      "\n",
      "Epoch 00009: ReduceLROnPlateau reducing learning rate to 4.0000001899898055e-05.\n",
      "23/23 [==============================] - 179s 8s/step - loss: 0.0984 - categorical_accuracy: 0.9789 - val_loss: 3.9527 - val_categorical_accuracy: 0.2600\n",
      "Epoch 10/15\n",
      "23/23 [==============================] - ETA: 0s - loss: 0.0934 - categorical_accuracy: 0.9849\n",
      "Epoch 00010: val_loss did not improve from 1.59186\n",
      "23/23 [==============================] - 179s 8s/step - loss: 0.0934 - categorical_accuracy: 0.9849 - val_loss: 3.8297 - val_categorical_accuracy: 0.2700\n",
      "Epoch 11/15\n",
      "23/23 [==============================] - ETA: 0s - loss: 0.0893 - categorical_accuracy: 0.9819\n",
      "Epoch 00011: val_loss did not improve from 1.59186\n",
      "23/23 [==============================] - 178s 8s/step - loss: 0.0893 - categorical_accuracy: 0.9819 - val_loss: 3.6877 - val_categorical_accuracy: 0.2200\n",
      "Epoch 12/15\n",
      "23/23 [==============================] - ETA: 0s - loss: 0.0793 - categorical_accuracy: 0.9894\n",
      "Epoch 00012: val_loss did not improve from 1.59186\n",
      "23/23 [==============================] - 176s 8s/step - loss: 0.0793 - categorical_accuracy: 0.9894 - val_loss: 3.4059 - val_categorical_accuracy: 0.2200\n",
      "Epoch 13/15\n",
      "23/23 [==============================] - ETA: 0s - loss: 0.0863 - categorical_accuracy: 0.9864\n",
      "Epoch 00013: val_loss did not improve from 1.59186\n",
      "\n",
      "Epoch 00013: ReduceLROnPlateau reducing learning rate to 8.000000525498762e-06.\n",
      "23/23 [==============================] - 184s 8s/step - loss: 0.0863 - categorical_accuracy: 0.9864 - val_loss: 3.2623 - val_categorical_accuracy: 0.2400\n",
      "Epoch 14/15\n",
      "23/23 [==============================] - ETA: 0s - loss: 0.0967 - categorical_accuracy: 0.9849\n",
      "Epoch 00014: val_loss did not improve from 1.59186\n",
      "23/23 [==============================] - 178s 8s/step - loss: 0.0967 - categorical_accuracy: 0.9849 - val_loss: 3.1128 - val_categorical_accuracy: 0.2300\n",
      "Epoch 15/15\n",
      "23/23 [==============================] - ETA: 0s - loss: 0.0883 - categorical_accuracy: 0.9849\n",
      "Epoch 00015: val_loss did not improve from 1.59186\n",
      "23/23 [==============================] - 182s 8s/step - loss: 0.0883 - categorical_accuracy: 0.9849 - val_loss: 2.5997 - val_categorical_accuracy: 0.2400\n"
     ]
    }
   ],
   "source": [
    "print(\"Total Params:\", conv_3d1_model.count_params())\n",
    "history_model1 = conv_3d1.train_model(conv_3d1_model)"
   ]
  },
  {
   "cell_type": "code",
   "execution_count": 17,
   "metadata": {},
   "outputs": [
    {
     "name": "stdout",
     "output_type": "stream",
     "text": [
      "Max. Training Accuracy 0.9894419312477112\n",
      "Max. Validaiton Accuracy 0.27000001072883606\n"
     ]
    },
    {
     "data": {
      "image/png": "[encoded data removed]",
      "text/plain": [
       "<Figure size 1080x288 with 2 Axes>"
      ]
     },
     "metadata": {
      "needs_background": "light"
     },
     "output_type": "display_data"
    }
   ],
   "source": [
    "plot(history_model1)"
   ]
  },
  {
   "cell_type": "markdown",
   "metadata": {},
   "source": [
    "**Model is clearly overfitting. There is a huge difference between Training and validation accuracy.**"
   ]
  },
  {
   "cell_type": "markdown",
   "metadata": {},
   "source": [
    " "
   ]
  },
  {
   "cell_type": "markdown",
   "metadata": {},
   "source": [
    " "
   ]
  },
  {
   "cell_type": "markdown",
   "metadata": {},
   "source": [
    " "
   ]
  },
  {
   "cell_type": "markdown",
   "metadata": {},
   "source": [
    "## Model 2\n",
    "\n",
    "**Goal:** To handle the overfitting issue.\n",
    "\n",
    "- Adding dropout layers as a form of regularization\n",
    "- Including Data Augmentation\n",
    "- Decreasing Batch Size to 20\n",
    "- Increasing No. of Epochs to 25\n",
    "- changing filtersize to (2,2,2)"
   ]
  },
  {
   "cell_type": "code",
   "execution_count": 11,
   "metadata": {},
   "outputs": [
    {
     "name": "stdout",
     "output_type": "stream",
     "text": [
      "Model: \"sequential_1\"\n",
      "_________________________________________________________________\n",
      "Layer (type)                 Output Shape              Param #   \n",
      "=================================================================\n",
      "conv3d_4 (Conv3D)            (None, 20, 160, 160, 16)  400       \n",
      "_________________________________________________________________\n",
      "activation_4 (Activation)    (None, 20, 160, 160, 16)  0         \n",
      "_________________________________________________________________\n",
      "batch_normalization_6 (Batch (None, 20, 160, 160, 16)  64        \n",
      "_________________________________________________________________\n",
      "max_pooling3d_4 (MaxPooling3 (None, 10, 80, 80, 16)    0         \n",
      "_________________________________________________________________\n",
      "conv3d_5 (Conv3D)            (None, 10, 80, 80, 32)    4128      \n",
      "_________________________________________________________________\n",
      "activation_5 (Activation)    (None, 10, 80, 80, 32)    0         \n",
      "_________________________________________________________________\n",
      "batch_normalization_7 (Batch (None, 10, 80, 80, 32)    128       \n",
      "_________________________________________________________________\n",
      "max_pooling3d_5 (MaxPooling3 (None, 5, 40, 40, 32)     0         \n",
      "_________________________________________________________________\n",
      "conv3d_6 (Conv3D)            (None, 5, 40, 40, 64)     16448     \n",
      "_________________________________________________________________\n",
      "activation_6 (Activation)    (None, 5, 40, 40, 64)     0         \n",
      "_________________________________________________________________\n",
      "batch_normalization_8 (Batch (None, 5, 40, 40, 64)     256       \n",
      "_________________________________________________________________\n",
      "max_pooling3d_6 (MaxPooling3 (None, 2, 20, 20, 64)     0         \n",
      "_________________________________________________________________\n",
      "conv3d_7 (Conv3D)            (None, 2, 20, 20, 128)    65664     \n",
      "_________________________________________________________________\n",
      "activation_7 (Activation)    (None, 2, 20, 20, 128)    0         \n",
      "_________________________________________________________________\n",
      "batch_normalization_9 (Batch (None, 2, 20, 20, 128)    512       \n",
      "_________________________________________________________________\n",
      "max_pooling3d_7 (MaxPooling3 (None, 1, 10, 10, 128)    0         \n",
      "_________________________________________________________________\n",
      "flatten_1 (Flatten)          (None, 12800)             0         \n",
      "_________________________________________________________________\n",
      "dense_3 (Dense)              (None, 256)               3277056   \n",
      "_________________________________________________________________\n",
      "batch_normalization_10 (Batc (None, 256)               1024      \n",
      "_________________________________________________________________\n",
      "dropout_2 (Dropout)          (None, 256)               0         \n",
      "_________________________________________________________________\n",
      "dense_4 (Dense)              (None, 256)               65792     \n",
      "_________________________________________________________________\n",
      "batch_normalization_11 (Batc (None, 256)               1024      \n",
      "_________________________________________________________________\n",
      "dropout_3 (Dropout)          (None, 256)               0         \n",
      "_________________________________________________________________\n",
      "dense_5 (Dense)              (None, 5)                 1285      \n",
      "=================================================================\n",
      "Total params: 3,433,781\n",
      "Trainable params: 3,432,277\n",
      "Non-trainable params: 1,504\n",
      "_________________________________________________________________\n"
     ]
    }
   ],
   "source": [
    "conv_3d2=ModelConv3D1()\n",
    "conv_3d2.initialize_path(project_folder)\n",
    "conv_3d2.initialize_image_properties(image_height=160,image_width=160)\n",
    "conv_3d2.initialize_hyperparams(frames_to_sample=20,batch_size=20,num_epochs=25)\n",
    "conv_3d2_model=conv_3d2.define_model(filtersize=(2,2,2),dense_neurons=256,dropout=0.5)\n",
    "conv_3d2_model.summary()"
   ]
  },
  {
   "cell_type": "code",
   "execution_count": 12,
   "metadata": {},
   "outputs": [
    {
     "name": "stdout",
     "output_type": "stream",
     "text": [
      "Total Params: 3433781\n",
      "Source path =  /home/datasets/Project_data/train ; batch size = 20\n",
      "Epoch 1/25\n",
      "34/34 [==============================] - ETA: 0s - loss: 1.7400 - categorical_accuracy: 0.4223Source path =  /home/datasets/Project_data/val ; batch size = 20\n",
      "\n",
      "Epoch 00001: val_loss improved from inf to 6.12091, saving model to model_init_2021-10-2513_32_17.011674/model-00001-1.74001-0.42232-6.12091-0.16000.h5\n",
      "34/34 [==============================] - 242s 7s/step - loss: 1.7400 - categorical_accuracy: 0.4223 - val_loss: 6.1209 - val_categorical_accuracy: 0.1600\n",
      "Epoch 2/25\n",
      "34/34 [==============================] - ETA: 0s - loss: 1.2151 - categorical_accuracy: 0.5807\n",
      "Epoch 00002: val_loss did not improve from 6.12091\n",
      "34/34 [==============================] - 246s 7s/step - loss: 1.2151 - categorical_accuracy: 0.5807 - val_loss: 9.7846 - val_categorical_accuracy: 0.1900\n",
      "Epoch 3/25\n",
      "34/34 [==============================] - ETA: 0s - loss: 0.9057 - categorical_accuracy: 0.6810\n",
      "Epoch 00003: val_loss did not improve from 6.12091\n",
      "34/34 [==============================] - 248s 7s/step - loss: 0.9057 - categorical_accuracy: 0.6810 - val_loss: 11.0910 - val_categorical_accuracy: 0.1500\n",
      "Epoch 4/25\n",
      "34/34 [==============================] - ETA: 0s - loss: 0.6966 - categorical_accuracy: 0.7526\n",
      "Epoch 00004: val_loss did not improve from 6.12091\n",
      "34/34 [==============================] - 253s 7s/step - loss: 0.6966 - categorical_accuracy: 0.7526 - val_loss: 9.9251 - val_categorical_accuracy: 0.1500\n",
      "Epoch 5/25\n",
      "34/34 [==============================] - ETA: 0s - loss: 0.5518 - categorical_accuracy: 0.7956\n",
      "Epoch 00005: val_loss did not improve from 6.12091\n",
      "\n",
      "Epoch 00005: ReduceLROnPlateau reducing learning rate to 0.00020000000949949026.\n",
      "34/34 [==============================] - 249s 7s/step - loss: 0.5518 - categorical_accuracy: 0.7956 - val_loss: 10.0796 - val_categorical_accuracy: 0.2300\n",
      "Epoch 6/25\n",
      "34/34 [==============================] - ETA: 0s - loss: 0.4367 - categorical_accuracy: 0.8326\n",
      "Epoch 00006: val_loss did not improve from 6.12091\n",
      "34/34 [==============================] - 246s 7s/step - loss: 0.4367 - categorical_accuracy: 0.8326 - val_loss: 9.6709 - val_categorical_accuracy: 0.2400\n",
      "Epoch 7/25\n",
      "34/34 [==============================] - ETA: 0s - loss: 0.3551 - categorical_accuracy: 0.8688\n",
      "Epoch 00007: val_loss did not improve from 6.12091\n",
      "34/34 [==============================] - 255s 7s/step - loss: 0.3551 - categorical_accuracy: 0.8688 - val_loss: 9.4480 - val_categorical_accuracy: 0.2300\n",
      "Epoch 8/25\n",
      "34/34 [==============================] - ETA: 0s - loss: 0.3499 - categorical_accuracy: 0.8710\n",
      "Epoch 00008: val_loss did not improve from 6.12091\n",
      "34/34 [==============================] - 253s 7s/step - loss: 0.3499 - categorical_accuracy: 0.8710 - val_loss: 8.7640 - val_categorical_accuracy: 0.1800\n",
      "Epoch 9/25\n",
      "34/34 [==============================] - ETA: 0s - loss: 0.3632 - categorical_accuracy: 0.8635\n",
      "Epoch 00009: val_loss did not improve from 6.12091\n",
      "\n",
      "Epoch 00009: ReduceLROnPlateau reducing learning rate to 4.0000001899898055e-05.\n",
      "34/34 [==============================] - 244s 7s/step - loss: 0.3632 - categorical_accuracy: 0.8635 - val_loss: 7.5030 - val_categorical_accuracy: 0.2500\n",
      "Epoch 10/25\n",
      "34/34 [==============================] - ETA: 0s - loss: 0.2954 - categorical_accuracy: 0.8899\n",
      "Epoch 00010: val_loss did not improve from 6.12091\n",
      "34/34 [==============================] - 246s 7s/step - loss: 0.2954 - categorical_accuracy: 0.8899 - val_loss: 6.9854 - val_categorical_accuracy: 0.1800\n",
      "Epoch 11/25\n",
      "34/34 [==============================] - ETA: 0s - loss: 0.3151 - categorical_accuracy: 0.8944\n",
      "Epoch 00011: val_loss improved from 6.12091 to 5.54397, saving model to model_init_2021-10-2513_32_17.011674/model-00011-0.31512-0.89442-5.54397-0.25000.h5\n",
      "34/34 [==============================] - 239s 7s/step - loss: 0.3151 - categorical_accuracy: 0.8944 - val_loss: 5.5440 - val_categorical_accuracy: 0.2500\n",
      "Epoch 12/25\n",
      "34/34 [==============================] - ETA: 0s - loss: 0.3041 - categorical_accuracy: 0.8801\n",
      "Epoch 00012: val_loss improved from 5.54397 to 4.75576, saving model to model_init_2021-10-2513_32_17.011674/model-00012-0.30407-0.88009-4.75576-0.24000.h5\n",
      "34/34 [==============================] - 248s 7s/step - loss: 0.3041 - categorical_accuracy: 0.8801 - val_loss: 4.7558 - val_categorical_accuracy: 0.2400\n",
      "Epoch 13/25\n",
      "34/34 [==============================] - ETA: 0s - loss: 0.2433 - categorical_accuracy: 0.9125\n",
      "Epoch 00013: val_loss improved from 4.75576 to 4.13103, saving model to model_init_2021-10-2513_32_17.011674/model-00013-0.24328-0.91252-4.13103-0.30000.h5\n",
      "34/34 [==============================] - 255s 8s/step - loss: 0.2433 - categorical_accuracy: 0.9125 - val_loss: 4.1310 - val_categorical_accuracy: 0.3000\n",
      "Epoch 14/25\n",
      "34/34 [==============================] - ETA: 0s - loss: 0.2529 - categorical_accuracy: 0.9035\n",
      "Epoch 00014: val_loss improved from 4.13103 to 2.62657, saving model to model_init_2021-10-2513_32_17.011674/model-00014-0.25288-0.90347-2.62657-0.41000.h5\n",
      "34/34 [==============================] - 251s 7s/step - loss: 0.2529 - categorical_accuracy: 0.9035 - val_loss: 2.6266 - val_categorical_accuracy: 0.4100\n",
      "Epoch 15/25\n",
      "34/34 [==============================] - ETA: 0s - loss: 0.2875 - categorical_accuracy: 0.8982\n",
      "Epoch 00015: val_loss improved from 2.62657 to 2.18438, saving model to model_init_2021-10-2513_32_17.011674/model-00015-0.28749-0.89819-2.18438-0.46000.h5\n",
      "34/34 [==============================] - 247s 7s/step - loss: 0.2875 - categorical_accuracy: 0.8982 - val_loss: 2.1844 - val_categorical_accuracy: 0.4600\n",
      "Epoch 16/25\n",
      "34/34 [==============================] - ETA: 0s - loss: 0.2550 - categorical_accuracy: 0.9057\n",
      "Epoch 00016: val_loss improved from 2.18438 to 1.61982, saving model to model_init_2021-10-2513_32_17.011674/model-00016-0.25497-0.90573-1.61982-0.57000.h5\n",
      "34/34 [==============================] - 240s 7s/step - loss: 0.2550 - categorical_accuracy: 0.9057 - val_loss: 1.6198 - val_categorical_accuracy: 0.5700\n",
      "Epoch 17/25\n",
      "34/34 [==============================] - ETA: 0s - loss: 0.2674 - categorical_accuracy: 0.8952\n",
      "Epoch 00017: val_loss improved from 1.61982 to 1.17076, saving model to model_init_2021-10-2513_32_17.011674/model-00017-0.26745-0.89517-1.17076-0.71000.h5\n",
      "34/34 [==============================] - 246s 7s/step - loss: 0.2674 - categorical_accuracy: 0.8952 - val_loss: 1.1708 - val_categorical_accuracy: 0.7100\n",
      "Epoch 18/25\n",
      "34/34 [==============================] - ETA: 0s - loss: 0.2588 - categorical_accuracy: 0.9110\n",
      "Epoch 00018: val_loss improved from 1.17076 to 0.79073, saving model to model_init_2021-10-2513_32_17.011674/model-00018-0.25876-0.91101-0.79073-0.76000.h5\n",
      "34/34 [==============================] - 241s 7s/step - loss: 0.2588 - categorical_accuracy: 0.9110 - val_loss: 0.7907 - val_categorical_accuracy: 0.7600\n",
      "Epoch 19/25\n",
      "34/34 [==============================] - ETA: 0s - loss: 0.2231 - categorical_accuracy: 0.9223\n",
      "Epoch 00019: val_loss did not improve from 0.79073\n",
      "34/34 [==============================] - 241s 7s/step - loss: 0.2231 - categorical_accuracy: 0.9223 - val_loss: 0.8385 - val_categorical_accuracy: 0.7100\n",
      "Epoch 20/25\n",
      "34/34 [==============================] - ETA: 0s - loss: 0.2275 - categorical_accuracy: 0.9201\n",
      "Epoch 00020: val_loss improved from 0.79073 to 0.59081, saving model to model_init_2021-10-2513_32_17.011674/model-00020-0.22752-0.92006-0.59081-0.79000.h5\n",
      "34/34 [==============================] - 242s 7s/step - loss: 0.2275 - categorical_accuracy: 0.9201 - val_loss: 0.5908 - val_categorical_accuracy: 0.7900\n",
      "Epoch 21/25\n",
      "34/34 [==============================] - ETA: 0s - loss: 0.2340 - categorical_accuracy: 0.9193\n",
      "Epoch 00021: val_loss improved from 0.59081 to 0.42699, saving model to model_init_2021-10-2513_32_17.011674/model-00021-0.23404-0.91931-0.42699-0.84000.h5\n",
      "34/34 [==============================] - 250s 7s/step - loss: 0.2340 - categorical_accuracy: 0.9193 - val_loss: 0.4270 - val_categorical_accuracy: 0.8400\n",
      "Epoch 22/25\n",
      "34/34 [==============================] - ETA: 0s - loss: 0.2047 - categorical_accuracy: 0.9253\n",
      "Epoch 00022: val_loss improved from 0.42699 to 0.34524, saving model to model_init_2021-10-2513_32_17.011674/model-00022-0.20473-0.92534-0.34524-0.89000.h5\n",
      "34/34 [==============================] - 249s 7s/step - loss: 0.2047 - categorical_accuracy: 0.9253 - val_loss: 0.3452 - val_categorical_accuracy: 0.8900\n",
      "Epoch 23/25\n",
      "34/34 [==============================] - ETA: 0s - loss: 0.2167 - categorical_accuracy: 0.9238\n",
      "Epoch 00023: val_loss improved from 0.34524 to 0.29942, saving model to model_init_2021-10-2513_32_17.011674/model-00023-0.21665-0.92383-0.29942-0.90000.h5\n",
      "34/34 [==============================] - 250s 7s/step - loss: 0.2167 - categorical_accuracy: 0.9238 - val_loss: 0.2994 - val_categorical_accuracy: 0.9000\n",
      "Epoch 24/25\n",
      "34/34 [==============================] - ETA: 0s - loss: 0.2510 - categorical_accuracy: 0.9020\n",
      "Epoch 00024: val_loss improved from 0.29942 to 0.23927, saving model to model_init_2021-10-2513_32_17.011674/model-00024-0.25096-0.90196-0.23927-0.91000.h5\n",
      "34/34 [==============================] - 250s 7s/step - loss: 0.2510 - categorical_accuracy: 0.9020 - val_loss: 0.2393 - val_categorical_accuracy: 0.9100\n",
      "Epoch 25/25\n",
      "34/34 [==============================] - ETA: 0s - loss: 0.2521 - categorical_accuracy: 0.9133\n",
      "Epoch 00025: val_loss did not improve from 0.23927\n",
      "34/34 [==============================] - 252s 7s/step - loss: 0.2521 - categorical_accuracy: 0.9133 - val_loss: 0.2782 - val_categorical_accuracy: 0.9000\n"
     ]
    }
   ],
   "source": [
    "print(\"Total Params:\", conv_3d2_model.count_params())\n",
    "history_model2=conv_3d2.train_model(conv_3d2_model,augment_data=True)"
   ]
  },
  {
   "cell_type": "code",
   "execution_count": 13,
   "metadata": {},
   "outputs": [
    {
     "name": "stdout",
     "output_type": "stream",
     "text": [
      "Max. Training Accuracy 0.9253393411636353\n",
      "Max. Validaiton Accuracy 0.9100000262260437\n"
     ]
    },
    {
     "data": {
      "image/png": "[encoded data removed]",
      "text/plain": [
       "<Figure size 1080x288 with 2 Axes>"
      ]
     },
     "metadata": {
      "needs_background": "light"
     },
     "output_type": "display_data"
    }
   ],
   "source": [
    "plot(history_model2)"
   ]
  },
  {
   "cell_type": "markdown",
   "metadata": {},
   "source": [
    "We can say the over fitting issue has now resolved after augmenting data and adding dropout.\n",
    "\n",
    "- Best weights save automatically at Epoch 6. The validation accuracy of 91% and training accuracy of 92%.\n",
    "- total number of trainable parameters are 3,433,781. Now we will try to reduce that.\n",
    "\n",
    "Next we will try to reduce the filter size and image resolution and see if we can get better results. Moreover since we see oscillations in loss, let's try lowering the learning rate to 0.0002.\n",
    "\n",
    "Lowering the learning rate means weights will get updated slowly, so we will have to increase number of epochs."
   ]
  },
  {
   "cell_type": "markdown",
   "metadata": {},
   "source": [
    " "
   ]
  },
  {
   "cell_type": "markdown",
   "metadata": {},
   "source": [
    " "
   ]
  },
  {
   "cell_type": "markdown",
   "metadata": {},
   "source": [
    " "
   ]
  },
  {
   "cell_type": "markdown",
   "metadata": {},
   "source": [
    "## Model 3 \n",
    "\n",
    "**Goal:** To control number of parameter and oscillation in loss\n",
    "\n",
    "- Adding dropout layers as a form of regularization\n",
    "- Lowering image res to 120 x  120\n",
    "- Lowering sample size to 18\n",
    "- Keeping Batch Size to 20\n",
    "- Increasing No. of Epochs to 30\n",
    "- Changing filtersize to (3,3,3)\n",
    "- Lowering the learning rate to 0.0002"
   ]
  },
  {
   "cell_type": "code",
   "execution_count": 24,
   "metadata": {},
   "outputs": [],
   "source": [
    "class ModelConv3D3(ModelBuilder):\n",
    "    \n",
    "    def define_model(self,filtersize=(3,3,3),dense_neurons=64,dropout=0.25):\n",
    "\n",
    "        model = Sequential()\n",
    "        model.add(Conv3D(16, filtersize, padding='same',\n",
    "                 input_shape=(self.frames_to_sample,self.image_height,self.image_width,self.channels)))\n",
    "        model.add(Activation('relu'))\n",
    "        model.add(BatchNormalization())\n",
    "        model.add(MaxPooling3D(pool_size=(2, 2, 2)))\n",
    "\n",
    "        model.add(Conv3D(32, filtersize, padding='same'))\n",
    "        model.add(Activation('relu'))\n",
    "        model.add(BatchNormalization())\n",
    "        model.add(MaxPooling3D(pool_size=(2, 2, 2)))\n",
    "\n",
    "        model.add(Conv3D(64, filtersize, padding='same'))\n",
    "        model.add(Activation('relu'))\n",
    "        model.add(BatchNormalization())\n",
    "        model.add(MaxPooling3D(pool_size=(2, 2, 2)))\n",
    "\n",
    "        model.add(Conv3D(128, filtersize, padding='same'))\n",
    "        model.add(Activation('relu'))\n",
    "        model.add(BatchNormalization())\n",
    "        model.add(MaxPooling3D(pool_size=(2, 2, 2)))\n",
    "\n",
    "        model.add(Flatten())\n",
    "        model.add(Dense(dense_neurons,activation='relu'))\n",
    "        model.add(BatchNormalization())\n",
    "        model.add(Dropout(dropout))\n",
    "\n",
    "        model.add(Dense(dense_neurons,activation='relu'))\n",
    "        model.add(BatchNormalization())\n",
    "        model.add(Dropout(dropout))\n",
    "\n",
    "\n",
    "        model.add(Dense(self.num_classes,activation='softmax'))\n",
    "        \n",
    "        optimiser = tf.keras.optimizers.Adam(lr=0.0002)\n",
    "        model.compile(optimizer=optimiser, loss='categorical_crossentropy', metrics=['categorical_accuracy'])\n",
    "        return model"
   ]
  },
  {
   "cell_type": "code",
   "execution_count": 26,
   "metadata": {},
   "outputs": [
    {
     "name": "stdout",
     "output_type": "stream",
     "text": [
      "Model: \"sequential_1\"\n",
      "_________________________________________________________________\n",
      "Layer (type)                 Output Shape              Param #   \n",
      "=================================================================\n",
      "conv3d_4 (Conv3D)            (None, 16, 120, 120, 16)  400       \n",
      "_________________________________________________________________\n",
      "activation_4 (Activation)    (None, 16, 120, 120, 16)  0         \n",
      "_________________________________________________________________\n",
      "batch_normalization_6 (Batch (None, 16, 120, 120, 16)  64        \n",
      "_________________________________________________________________\n",
      "max_pooling3d_4 (MaxPooling3 (None, 8, 60, 60, 16)     0         \n",
      "_________________________________________________________________\n",
      "conv3d_5 (Conv3D)            (None, 8, 60, 60, 32)     4128      \n",
      "_________________________________________________________________\n",
      "activation_5 (Activation)    (None, 8, 60, 60, 32)     0         \n",
      "_________________________________________________________________\n",
      "batch_normalization_7 (Batch (None, 8, 60, 60, 32)     128       \n",
      "_________________________________________________________________\n",
      "max_pooling3d_5 (MaxPooling3 (None, 4, 30, 30, 32)     0         \n",
      "_________________________________________________________________\n",
      "conv3d_6 (Conv3D)            (None, 4, 30, 30, 64)     16448     \n",
      "_________________________________________________________________\n",
      "activation_6 (Activation)    (None, 4, 30, 30, 64)     0         \n",
      "_________________________________________________________________\n",
      "batch_normalization_8 (Batch (None, 4, 30, 30, 64)     256       \n",
      "_________________________________________________________________\n",
      "max_pooling3d_6 (MaxPooling3 (None, 2, 15, 15, 64)     0         \n",
      "_________________________________________________________________\n",
      "conv3d_7 (Conv3D)            (None, 2, 15, 15, 128)    65664     \n",
      "_________________________________________________________________\n",
      "activation_7 (Activation)    (None, 2, 15, 15, 128)    0         \n",
      "_________________________________________________________________\n",
      "batch_normalization_9 (Batch (None, 2, 15, 15, 128)    512       \n",
      "_________________________________________________________________\n",
      "max_pooling3d_7 (MaxPooling3 (None, 1, 7, 7, 128)      0         \n",
      "_________________________________________________________________\n",
      "flatten_1 (Flatten)          (None, 6272)              0         \n",
      "_________________________________________________________________\n",
      "dense_3 (Dense)              (None, 256)               1605888   \n",
      "_________________________________________________________________\n",
      "batch_normalization_10 (Batc (None, 256)               1024      \n",
      "_________________________________________________________________\n",
      "dropout_2 (Dropout)          (None, 256)               0         \n",
      "_________________________________________________________________\n",
      "dense_4 (Dense)              (None, 256)               65792     \n",
      "_________________________________________________________________\n",
      "batch_normalization_11 (Batc (None, 256)               1024      \n",
      "_________________________________________________________________\n",
      "dropout_3 (Dropout)          (None, 256)               0         \n",
      "_________________________________________________________________\n",
      "dense_5 (Dense)              (None, 5)                 1285      \n",
      "=================================================================\n",
      "Total params: 1,762,613\n",
      "Trainable params: 1,761,109\n",
      "Non-trainable params: 1,504\n",
      "_________________________________________________________________\n"
     ]
    }
   ],
   "source": [
    "conv_3d3=ModelConv3D3()\n",
    "conv_3d3.initialize_path(project_folder)\n",
    "conv_3d3.initialize_image_properties(image_height=120,image_width=120)\n",
    "conv_3d3.initialize_hyperparams(frames_to_sample=16,batch_size=30,num_epochs=30)\n",
    "conv_3d3_model=conv_3d3.define_model(filtersize=(2,2,2),dense_neurons=256,dropout=0.5)\n",
    "conv_3d3_model.summary()"
   ]
  },
  {
   "cell_type": "code",
   "execution_count": 27,
   "metadata": {},
   "outputs": [
    {
     "name": "stdout",
     "output_type": "stream",
     "text": [
      "Total Params: 1762613\n",
      "Source path =  /home/datasets/Project_data/train ; batch size = 30\n",
      "Epoch 1/30\n",
      "23/23 [==============================] - ETA: 0s - loss: 2.0121 - categorical_accuracy: 0.3673Source path =  /home/datasets/Project_data/val ; batch size = 30\n",
      "\n",
      "Epoch 00001: val_loss improved from inf to 1.75176, saving model to model_init_2021-10-2515_33_59.242394/model-00001-2.01211-0.36727-1.75176-0.16000.h5\n",
      "23/23 [==============================] - 173s 8s/step - loss: 2.0121 - categorical_accuracy: 0.3673 - val_loss: 1.7518 - val_categorical_accuracy: 0.1600\n",
      "Epoch 2/30\n",
      "23/23 [==============================] - ETA: 0s - loss: 1.3974 - categorical_accuracy: 0.5053\n",
      "Epoch 00002: val_loss did not improve from 1.75176\n",
      "23/23 [==============================] - 171s 7s/step - loss: 1.3974 - categorical_accuracy: 0.5053 - val_loss: 2.4262 - val_categorical_accuracy: 0.1800\n",
      "Epoch 3/30\n",
      "23/23 [==============================] - ETA: 0s - loss: 1.2304 - categorical_accuracy: 0.5807\n",
      "Epoch 00003: val_loss did not improve from 1.75176\n",
      "23/23 [==============================] - 174s 8s/step - loss: 1.2304 - categorical_accuracy: 0.5807 - val_loss: 3.5991 - val_categorical_accuracy: 0.1100\n",
      "Epoch 4/30\n",
      "23/23 [==============================] - ETA: 0s - loss: 1.1540 - categorical_accuracy: 0.6139\n",
      "Epoch 00004: val_loss did not improve from 1.75176\n",
      "23/23 [==============================] - 169s 7s/step - loss: 1.1540 - categorical_accuracy: 0.6139 - val_loss: 4.0970 - val_categorical_accuracy: 0.1600\n",
      "Epoch 5/30\n",
      "23/23 [==============================] - ETA: 0s - loss: 1.0442 - categorical_accuracy: 0.6305\n",
      "Epoch 00005: val_loss did not improve from 1.75176\n",
      "\n",
      "Epoch 00005: ReduceLROnPlateau reducing learning rate to 3.9999998989515007e-05.\n",
      "23/23 [==============================] - 171s 7s/step - loss: 1.0442 - categorical_accuracy: 0.6305 - val_loss: 5.0941 - val_categorical_accuracy: 0.1600\n",
      "Epoch 6/30\n",
      "23/23 [==============================] - ETA: 0s - loss: 0.8954 - categorical_accuracy: 0.6689\n",
      "Epoch 00006: val_loss did not improve from 1.75176\n",
      "23/23 [==============================] - 171s 7s/step - loss: 0.8954 - categorical_accuracy: 0.6689 - val_loss: 5.7181 - val_categorical_accuracy: 0.1700\n",
      "Epoch 7/30\n",
      "23/23 [==============================] - ETA: 0s - loss: 0.8859 - categorical_accuracy: 0.6757\n",
      "Epoch 00007: val_loss did not improve from 1.75176\n",
      "23/23 [==============================] - 170s 7s/step - loss: 0.8859 - categorical_accuracy: 0.6757 - val_loss: 6.1337 - val_categorical_accuracy: 0.1300\n",
      "Epoch 8/30\n",
      "23/23 [==============================] - ETA: 0s - loss: 0.8879 - categorical_accuracy: 0.6795\n",
      "Epoch 00008: val_loss did not improve from 1.75176\n",
      "23/23 [==============================] - 171s 7s/step - loss: 0.8879 - categorical_accuracy: 0.6795 - val_loss: 6.7729 - val_categorical_accuracy: 0.1700\n",
      "Epoch 9/30\n",
      "23/23 [==============================] - ETA: 0s - loss: 0.8648 - categorical_accuracy: 0.6953\n",
      "Epoch 00009: val_loss did not improve from 1.75176\n",
      "\n",
      "Epoch 00009: ReduceLROnPlateau reducing learning rate to 7.999999797903002e-06.\n",
      "23/23 [==============================] - 163s 7s/step - loss: 0.8648 - categorical_accuracy: 0.6953 - val_loss: 7.0175 - val_categorical_accuracy: 0.1900\n",
      "Epoch 10/30\n",
      "23/23 [==============================] - ETA: 0s - loss: 0.8718 - categorical_accuracy: 0.6689\n",
      "Epoch 00010: val_loss did not improve from 1.75176\n",
      "23/23 [==============================] - 174s 8s/step - loss: 0.8718 - categorical_accuracy: 0.6689 - val_loss: 7.2209 - val_categorical_accuracy: 0.1800\n",
      "Epoch 11/30\n",
      "23/23 [==============================] - ETA: 0s - loss: 0.8079 - categorical_accuracy: 0.7119\n",
      "Epoch 00011: val_loss did not improve from 1.75176\n",
      "23/23 [==============================] - 170s 7s/step - loss: 0.8079 - categorical_accuracy: 0.7119 - val_loss: 6.9081 - val_categorical_accuracy: 0.2100\n",
      "Epoch 12/30\n",
      "23/23 [==============================] - ETA: 0s - loss: 0.8226 - categorical_accuracy: 0.7066\n",
      "Epoch 00012: val_loss did not improve from 1.75176\n",
      "23/23 [==============================] - 166s 7s/step - loss: 0.8226 - categorical_accuracy: 0.7066 - val_loss: 6.8905 - val_categorical_accuracy: 0.2500\n",
      "Epoch 13/30\n",
      "23/23 [==============================] - ETA: 0s - loss: 0.8247 - categorical_accuracy: 0.7036\n",
      "Epoch 00013: val_loss did not improve from 1.75176\n",
      "\n",
      "Epoch 00013: ReduceLROnPlateau reducing learning rate to 1.5999999959603884e-06.\n",
      "23/23 [==============================] - 169s 7s/step - loss: 0.8247 - categorical_accuracy: 0.7036 - val_loss: 6.5555 - val_categorical_accuracy: 0.2700\n",
      "Epoch 14/30\n",
      "23/23 [==============================] - ETA: 0s - loss: 0.8180 - categorical_accuracy: 0.7104\n",
      "Epoch 00014: val_loss did not improve from 1.75176\n",
      "23/23 [==============================] - 168s 7s/step - loss: 0.8180 - categorical_accuracy: 0.7104 - val_loss: 6.2475 - val_categorical_accuracy: 0.2600\n",
      "Epoch 15/30\n",
      "23/23 [==============================] - ETA: 0s - loss: 0.8167 - categorical_accuracy: 0.7036\n",
      "Epoch 00015: val_loss did not improve from 1.75176\n",
      "23/23 [==============================] - 166s 7s/step - loss: 0.8167 - categorical_accuracy: 0.7036 - val_loss: 5.6933 - val_categorical_accuracy: 0.2900\n",
      "Epoch 16/30\n",
      "23/23 [==============================] - ETA: 0s - loss: 0.8084 - categorical_accuracy: 0.6968\n",
      "Epoch 00016: val_loss did not improve from 1.75176\n",
      "23/23 [==============================] - 180s 8s/step - loss: 0.8084 - categorical_accuracy: 0.6968 - val_loss: 5.2659 - val_categorical_accuracy: 0.3200\n",
      "Epoch 17/30\n",
      "23/23 [==============================] - ETA: 0s - loss: 0.7971 - categorical_accuracy: 0.6976\n",
      "Epoch 00017: val_loss did not improve from 1.75176\n",
      "\n",
      "Epoch 00017: ReduceLROnPlateau reducing learning rate to 3.200000037395512e-07.\n",
      "23/23 [==============================] - 168s 7s/step - loss: 0.7971 - categorical_accuracy: 0.6976 - val_loss: 4.7985 - val_categorical_accuracy: 0.3000\n",
      "Epoch 18/30\n",
      "23/23 [==============================] - ETA: 0s - loss: 0.8036 - categorical_accuracy: 0.6908\n",
      "Epoch 00018: val_loss did not improve from 1.75176\n",
      "23/23 [==============================] - 168s 7s/step - loss: 0.8036 - categorical_accuracy: 0.6908 - val_loss: 4.7227 - val_categorical_accuracy: 0.2700\n",
      "Epoch 19/30\n",
      "23/23 [==============================] - ETA: 0s - loss: 0.7997 - categorical_accuracy: 0.7119\n",
      "Epoch 00019: val_loss did not improve from 1.75176\n",
      "23/23 [==============================] - 168s 7s/step - loss: 0.7997 - categorical_accuracy: 0.7119 - val_loss: 3.7433 - val_categorical_accuracy: 0.3000\n",
      "Epoch 20/30\n",
      "23/23 [==============================] - ETA: 0s - loss: 0.8273 - categorical_accuracy: 0.6923\n",
      "Epoch 00020: val_loss did not improve from 1.75176\n",
      "23/23 [==============================] - 164s 7s/step - loss: 0.8273 - categorical_accuracy: 0.6923 - val_loss: 3.2727 - val_categorical_accuracy: 0.3000\n",
      "Epoch 21/30\n",
      "23/23 [==============================] - ETA: 0s - loss: 0.8289 - categorical_accuracy: 0.7097\n",
      "Epoch 00021: val_loss did not improve from 1.75176\n",
      "\n",
      "Epoch 00021: ReduceLROnPlateau reducing learning rate to 6.399999961104187e-08.\n",
      "23/23 [==============================] - 181s 8s/step - loss: 0.8289 - categorical_accuracy: 0.7097 - val_loss: 2.7738 - val_categorical_accuracy: 0.3600\n",
      "Epoch 22/30\n",
      "23/23 [==============================] - ETA: 0s - loss: 0.8111 - categorical_accuracy: 0.7179\n",
      "Epoch 00022: val_loss did not improve from 1.75176\n",
      "23/23 [==============================] - 170s 7s/step - loss: 0.8111 - categorical_accuracy: 0.7179 - val_loss: 2.5503 - val_categorical_accuracy: 0.3900\n",
      "Epoch 23/30\n",
      "23/23 [==============================] - ETA: 0s - loss: 0.8379 - categorical_accuracy: 0.7014\n",
      "Epoch 00023: val_loss did not improve from 1.75176\n",
      "23/23 [==============================] - 167s 7s/step - loss: 0.8379 - categorical_accuracy: 0.7014 - val_loss: 2.0214 - val_categorical_accuracy: 0.4700\n",
      "Epoch 24/30\n",
      "23/23 [==============================] - ETA: 0s - loss: 0.8168 - categorical_accuracy: 0.7059\n",
      "Epoch 00024: val_loss improved from 1.75176 to 1.71858, saving model to model_init_2021-10-2515_33_59.242394/model-00024-0.81684-0.70588-1.71858-0.51000.h5\n",
      "23/23 [==============================] - 164s 7s/step - loss: 0.8168 - categorical_accuracy: 0.7059 - val_loss: 1.7186 - val_categorical_accuracy: 0.5100\n",
      "Epoch 25/30\n",
      "23/23 [==============================] - ETA: 0s - loss: 0.7399 - categorical_accuracy: 0.7278\n",
      "Epoch 00025: val_loss improved from 1.71858 to 1.54205, saving model to model_init_2021-10-2515_33_59.242394/model-00025-0.73990-0.72775-1.54205-0.57000.h5\n",
      "23/23 [==============================] - 169s 7s/step - loss: 0.7399 - categorical_accuracy: 0.7278 - val_loss: 1.5421 - val_categorical_accuracy: 0.5700\n",
      "Epoch 26/30\n",
      "23/23 [==============================] - ETA: 0s - loss: 0.7960 - categorical_accuracy: 0.7293\n",
      "Epoch 00026: val_loss improved from 1.54205 to 1.49083, saving model to model_init_2021-10-2515_33_59.242394/model-00026-0.79596-0.72926-1.49083-0.58000.h5\n",
      "23/23 [==============================] - 183s 8s/step - loss: 0.7960 - categorical_accuracy: 0.7293 - val_loss: 1.4908 - val_categorical_accuracy: 0.5800\n",
      "Epoch 27/30\n",
      "23/23 [==============================] - ETA: 0s - loss: 0.7996 - categorical_accuracy: 0.7059\n",
      "Epoch 00027: val_loss improved from 1.49083 to 1.24919, saving model to model_init_2021-10-2515_33_59.242394/model-00027-0.79959-0.70588-1.24919-0.66000.h5\n",
      "23/23 [==============================] - 168s 7s/step - loss: 0.7996 - categorical_accuracy: 0.7059 - val_loss: 1.2492 - val_categorical_accuracy: 0.6600\n",
      "Epoch 28/30\n",
      "23/23 [==============================] - ETA: 0s - loss: 0.8310 - categorical_accuracy: 0.6976\n",
      "Epoch 00028: val_loss improved from 1.24919 to 1.13090, saving model to model_init_2021-10-2515_33_59.242394/model-00028-0.83100-0.69759-1.13090-0.64000.h5\n",
      "23/23 [==============================] - 165s 7s/step - loss: 0.8310 - categorical_accuracy: 0.6976 - val_loss: 1.1309 - val_categorical_accuracy: 0.6400\n",
      "Epoch 29/30\n",
      "23/23 [==============================] - ETA: 0s - loss: 0.7745 - categorical_accuracy: 0.7172\n",
      "Epoch 00029: val_loss improved from 1.13090 to 1.00076, saving model to model_init_2021-10-2515_33_59.242394/model-00029-0.77448-0.71719-1.00076-0.66000.h5\n",
      "23/23 [==============================] - 171s 7s/step - loss: 0.7745 - categorical_accuracy: 0.7172 - val_loss: 1.0008 - val_categorical_accuracy: 0.6600\n",
      "Epoch 30/30\n",
      "23/23 [==============================] - ETA: 0s - loss: 0.7589 - categorical_accuracy: 0.7112\n",
      "Epoch 00030: val_loss improved from 1.00076 to 0.99691, saving model to model_init_2021-10-2515_33_59.242394/model-00030-0.75894-0.71116-0.99691-0.66000.h5\n",
      "23/23 [==============================] - 180s 8s/step - loss: 0.7589 - categorical_accuracy: 0.7112 - val_loss: 0.9969 - val_categorical_accuracy: 0.6600\n"
     ]
    }
   ],
   "source": [
    "print(\"Total Params:\", conv_3d3_model.count_params())\n",
    "history_model3=conv_3d3.train_model(conv_3d3_model,augment_data=True)"
   ]
  },
  {
   "cell_type": "code",
   "execution_count": 28,
   "metadata": {},
   "outputs": [
    {
     "name": "stdout",
     "output_type": "stream",
     "text": [
      "Max. Training Accuracy 0.7292609214782715\n",
      "Max. Validaiton Accuracy 0.6600000262260437\n"
     ]
    },
    {
     "data": {
      "image/png": "[encoded data removed]",
      "text/plain": [
       "<Figure size 1080x288 with 2 Axes>"
      ]
     },
     "metadata": {
      "needs_background": "light"
     },
     "output_type": "display_data"
    }
   ],
   "source": [
    "plot(history_model3)"
   ]
  },
  {
   "cell_type": "markdown",
   "metadata": {},
   "source": [
    "#####  Validaiton Accuracy did not improve from 0.91.\n",
    "\n",
    "But we were able to reduce the parameter size by half the earlier model.<br/>\n",
    "Let's try adding more layers"
   ]
  },
  {
   "cell_type": "markdown",
   "metadata": {},
   "source": [
    " "
   ]
  },
  {
   "cell_type": "markdown",
   "metadata": {},
   "source": [
    " "
   ]
  },
  {
   "cell_type": "markdown",
   "metadata": {},
   "source": [
    " "
   ]
  },
  {
   "cell_type": "markdown",
   "metadata": {},
   "source": [
    "## Model 4\n",
    "\n",
    "**Goal:** To increase accuracy further.\n",
    "- Image res 120x120\n",
    "- No of frames 16\n",
    "- Batch Size 20\n",
    "- same number of epochs\n",
    "- Adding more layer."
   ]
  },
  {
   "cell_type": "code",
   "execution_count": 8,
   "metadata": {},
   "outputs": [],
   "source": [
    "class ModelConv3D4(ModelBuilder):\n",
    "    \n",
    "    def define_model(self,filtersize=(3,3,3),dense_neurons=64,dropout=0.25):\n",
    "\n",
    "        model = Sequential()\n",
    "        model.add(Conv3D(16, filtersize, padding='same',\n",
    "                 input_shape=(self.frames_to_sample,self.image_height,self.image_width,self.channels)))\n",
    "        model.add(Activation('relu'))\n",
    "        model.add(BatchNormalization())\n",
    "        \n",
    "        model.add(Conv3D(16, filtersize, padding='same',\n",
    "                 input_shape=(self.frames_to_sample,self.image_height,self.image_width,self.channels)))\n",
    "        model.add(Activation('relu'))\n",
    "        model.add(BatchNormalization())\n",
    "        \n",
    "        model.add(MaxPooling3D(pool_size=(2, 2, 2)))\n",
    "\n",
    "        model.add(Conv3D(32, filtersize, padding='same'))\n",
    "        model.add(Activation('relu'))\n",
    "        model.add(BatchNormalization())\n",
    "        \n",
    "        model.add(Conv3D(32, filtersize, padding='same'))\n",
    "        model.add(Activation('relu'))\n",
    "        model.add(BatchNormalization())\n",
    "        \n",
    "        model.add(MaxPooling3D(pool_size=(2, 2, 2)))\n",
    "\n",
    "        model.add(Conv3D(64, filtersize, padding='same'))\n",
    "        model.add(Activation('relu'))\n",
    "        model.add(BatchNormalization())\n",
    "        \n",
    "        model.add(Conv3D(64, filtersize, padding='same'))\n",
    "        model.add(Activation('relu'))\n",
    "        model.add(BatchNormalization())\n",
    "        \n",
    "        model.add(MaxPooling3D(pool_size=(2, 2, 2)))\n",
    "\n",
    "        model.add(Conv3D(128, filtersize, padding='same'))\n",
    "        model.add(Activation('relu'))\n",
    "        model.add(BatchNormalization())\n",
    "        \n",
    "        model.add(Conv3D(128, filtersize, padding='same'))\n",
    "        model.add(Activation('relu'))\n",
    "        model.add(BatchNormalization())\n",
    "        \n",
    "        model.add(MaxPooling3D(pool_size=(2, 2, 2)))\n",
    "        \n",
    "\n",
    "        model.add(Flatten())\n",
    "        model.add(Dense(dense_neurons,activation='relu'))\n",
    "        model.add(BatchNormalization())\n",
    "        model.add(Dropout(dropout))\n",
    "\n",
    "        model.add(Dense(dense_neurons,activation='relu'))\n",
    "        model.add(BatchNormalization())\n",
    "        model.add(Dropout(dropout))\n",
    "\n",
    "\n",
    "        model.add(Dense(self.num_classes,activation='softmax'))\n",
    "\n",
    "        optimiser = tf.keras.optimizers.Adam()\n",
    "        model.compile(optimizer=optimiser, loss='categorical_crossentropy', metrics=['categorical_accuracy'])\n",
    "        return model"
   ]
  },
  {
   "cell_type": "code",
   "execution_count": 10,
   "metadata": {},
   "outputs": [
    {
     "name": "stdout",
     "output_type": "stream",
     "text": [
      "Model: \"sequential_1\"\n",
      "_________________________________________________________________\n",
      "Layer (type)                 Output Shape              Param #   \n",
      "=================================================================\n",
      "conv3d_8 (Conv3D)            (None, 16, 120, 120, 16)  1312      \n",
      "_________________________________________________________________\n",
      "activation_8 (Activation)    (None, 16, 120, 120, 16)  0         \n",
      "_________________________________________________________________\n",
      "batch_normalization_10 (Batc (None, 16, 120, 120, 16)  64        \n",
      "_________________________________________________________________\n",
      "conv3d_9 (Conv3D)            (None, 16, 120, 120, 16)  6928      \n",
      "_________________________________________________________________\n",
      "activation_9 (Activation)    (None, 16, 120, 120, 16)  0         \n",
      "_________________________________________________________________\n",
      "batch_normalization_11 (Batc (None, 16, 120, 120, 16)  64        \n",
      "_________________________________________________________________\n",
      "max_pooling3d_4 (MaxPooling3 (None, 8, 60, 60, 16)     0         \n",
      "_________________________________________________________________\n",
      "conv3d_10 (Conv3D)           (None, 8, 60, 60, 32)     13856     \n",
      "_________________________________________________________________\n",
      "activation_10 (Activation)   (None, 8, 60, 60, 32)     0         \n",
      "_________________________________________________________________\n",
      "batch_normalization_12 (Batc (None, 8, 60, 60, 32)     128       \n",
      "_________________________________________________________________\n",
      "conv3d_11 (Conv3D)           (None, 8, 60, 60, 32)     27680     \n",
      "_________________________________________________________________\n",
      "activation_11 (Activation)   (None, 8, 60, 60, 32)     0         \n",
      "_________________________________________________________________\n",
      "batch_normalization_13 (Batc (None, 8, 60, 60, 32)     128       \n",
      "_________________________________________________________________\n",
      "max_pooling3d_5 (MaxPooling3 (None, 4, 30, 30, 32)     0         \n",
      "_________________________________________________________________\n",
      "conv3d_12 (Conv3D)           (None, 4, 30, 30, 64)     55360     \n",
      "_________________________________________________________________\n",
      "activation_12 (Activation)   (None, 4, 30, 30, 64)     0         \n",
      "_________________________________________________________________\n",
      "batch_normalization_14 (Batc (None, 4, 30, 30, 64)     256       \n",
      "_________________________________________________________________\n",
      "conv3d_13 (Conv3D)           (None, 4, 30, 30, 64)     110656    \n",
      "_________________________________________________________________\n",
      "activation_13 (Activation)   (None, 4, 30, 30, 64)     0         \n",
      "_________________________________________________________________\n",
      "batch_normalization_15 (Batc (None, 4, 30, 30, 64)     256       \n",
      "_________________________________________________________________\n",
      "max_pooling3d_6 (MaxPooling3 (None, 2, 15, 15, 64)     0         \n",
      "_________________________________________________________________\n",
      "conv3d_14 (Conv3D)           (None, 2, 15, 15, 128)    221312    \n",
      "_________________________________________________________________\n",
      "activation_14 (Activation)   (None, 2, 15, 15, 128)    0         \n",
      "_________________________________________________________________\n",
      "batch_normalization_16 (Batc (None, 2, 15, 15, 128)    512       \n",
      "_________________________________________________________________\n",
      "conv3d_15 (Conv3D)           (None, 2, 15, 15, 128)    442496    \n",
      "_________________________________________________________________\n",
      "activation_15 (Activation)   (None, 2, 15, 15, 128)    0         \n",
      "_________________________________________________________________\n",
      "batch_normalization_17 (Batc (None, 2, 15, 15, 128)    512       \n",
      "_________________________________________________________________\n",
      "max_pooling3d_7 (MaxPooling3 (None, 1, 7, 7, 128)      0         \n",
      "_________________________________________________________________\n",
      "flatten_1 (Flatten)          (None, 6272)              0         \n",
      "_________________________________________________________________\n",
      "dense_3 (Dense)              (None, 256)               1605888   \n",
      "_________________________________________________________________\n",
      "batch_normalization_18 (Batc (None, 256)               1024      \n",
      "_________________________________________________________________\n",
      "dropout_2 (Dropout)          (None, 256)               0         \n",
      "_________________________________________________________________\n",
      "dense_4 (Dense)              (None, 256)               65792     \n",
      "_________________________________________________________________\n",
      "batch_normalization_19 (Batc (None, 256)               1024      \n",
      "_________________________________________________________________\n",
      "dropout_3 (Dropout)          (None, 256)               0         \n",
      "_________________________________________________________________\n",
      "dense_5 (Dense)              (None, 5)                 1285      \n",
      "=================================================================\n",
      "Total params: 2,556,533\n",
      "Trainable params: 2,554,549\n",
      "Non-trainable params: 1,984\n",
      "_________________________________________________________________\n"
     ]
    }
   ],
   "source": [
    "conv_3d4=ModelConv3D4()\n",
    "conv_3d4.initialize_path(project_folder)\n",
    "conv_3d4.initialize_image_properties(image_height=120,image_width=120)\n",
    "conv_3d4.initialize_hyperparams(frames_to_sample=16,batch_size=20,num_epochs=30)\n",
    "conv_3d4_model=conv_3d4.define_model(filtersize=(3,3,3),dense_neurons=256,dropout=0.5)\n",
    "conv_3d4_model.summary()"
   ]
  },
  {
   "cell_type": "code",
   "execution_count": 11,
   "metadata": {},
   "outputs": [
    {
     "name": "stdout",
     "output_type": "stream",
     "text": [
      "Total Params: 2556533\n",
      "Source path =  /home/datasets/Project_data/train ; batch size = 20\n",
      "Epoch 1/30\n",
      "34/34 [==============================] - ETA: 0s - loss: 1.9420 - categorical_accuracy: 0.3914Source path =  /home/datasets/Project_data/val ; batch size = 20\n",
      "\n",
      "Epoch 00001: val_loss improved from inf to 2.10666, saving model to model_init_2021-10-2606_49_12.638039/model-00001-1.94200-0.39140-2.10666-0.18000.h5\n",
      "34/34 [==============================] - 160s 5s/step - loss: 1.9420 - categorical_accuracy: 0.3914 - val_loss: 2.1067 - val_categorical_accuracy: 0.1800\n",
      "Epoch 2/30\n",
      "34/34 [==============================] - ETA: 0s - loss: 1.6451 - categorical_accuracy: 0.4691\n",
      "Epoch 00002: val_loss improved from 2.10666 to 2.07852, saving model to model_init_2021-10-2606_49_12.638039/model-00002-1.64511-0.46908-2.07852-0.17000.h5\n",
      "34/34 [==============================] - 165s 5s/step - loss: 1.6451 - categorical_accuracy: 0.4691 - val_loss: 2.0785 - val_categorical_accuracy: 0.1700\n",
      "Epoch 3/30\n",
      "34/34 [==============================] - ETA: 0s - loss: 1.3491 - categorical_accuracy: 0.5490\n",
      "Epoch 00003: val_loss did not improve from 2.07852\n",
      "34/34 [==============================] - 182s 5s/step - loss: 1.3491 - categorical_accuracy: 0.5490 - val_loss: 4.7148 - val_categorical_accuracy: 0.1600\n",
      "Epoch 4/30\n",
      "34/34 [==============================] - ETA: 0s - loss: 1.2623 - categorical_accuracy: 0.5407\n",
      "Epoch 00004: val_loss did not improve from 2.07852\n",
      "34/34 [==============================] - 180s 5s/step - loss: 1.2623 - categorical_accuracy: 0.5407 - val_loss: 2.9757 - val_categorical_accuracy: 0.2600\n",
      "Epoch 5/30\n",
      "34/34 [==============================] - ETA: 0s - loss: 1.1761 - categorical_accuracy: 0.5905\n",
      "Epoch 00005: val_loss did not improve from 2.07852\n",
      "34/34 [==============================] - 173s 5s/step - loss: 1.1761 - categorical_accuracy: 0.5905 - val_loss: 2.6525 - val_categorical_accuracy: 0.1800\n",
      "Epoch 6/30\n",
      "34/34 [==============================] - ETA: 0s - loss: 1.1185 - categorical_accuracy: 0.6139\n",
      "Epoch 00006: val_loss improved from 2.07852 to 2.01857, saving model to model_init_2021-10-2606_49_12.638039/model-00006-1.11853-0.61388-2.01857-0.32000.h5\n",
      "34/34 [==============================] - 172s 5s/step - loss: 1.1185 - categorical_accuracy: 0.6139 - val_loss: 2.0186 - val_categorical_accuracy: 0.3200\n",
      "Epoch 7/30\n",
      "34/34 [==============================] - ETA: 0s - loss: 0.8860 - categorical_accuracy: 0.6825\n",
      "Epoch 00007: val_loss did not improve from 2.01857\n",
      "34/34 [==============================] - 174s 5s/step - loss: 0.8860 - categorical_accuracy: 0.6825 - val_loss: 4.6892 - val_categorical_accuracy: 0.2300\n",
      "Epoch 8/30\n",
      "34/34 [==============================] - ETA: 0s - loss: 1.0236 - categorical_accuracy: 0.6440\n",
      "Epoch 00008: val_loss did not improve from 2.01857\n",
      "34/34 [==============================] - 159s 5s/step - loss: 1.0236 - categorical_accuracy: 0.6440 - val_loss: 5.3513 - val_categorical_accuracy: 0.3300\n",
      "Epoch 9/30\n",
      "34/34 [==============================] - ETA: 0s - loss: 0.7723 - categorical_accuracy: 0.7195\n",
      "Epoch 00009: val_loss did not improve from 2.01857\n",
      "34/34 [==============================] - 160s 5s/step - loss: 0.7723 - categorical_accuracy: 0.7195 - val_loss: 2.1584 - val_categorical_accuracy: 0.4400\n",
      "Epoch 10/30\n",
      "34/34 [==============================] - ETA: 0s - loss: 0.5995 - categorical_accuracy: 0.7768\n",
      "Epoch 00010: val_loss did not improve from 2.01857\n",
      "\n",
      "Epoch 00010: ReduceLROnPlateau reducing learning rate to 0.00020000000949949026.\n",
      "34/34 [==============================] - 173s 5s/step - loss: 0.5995 - categorical_accuracy: 0.7768 - val_loss: 2.3359 - val_categorical_accuracy: 0.4000\n",
      "Epoch 11/30\n",
      "34/34 [==============================] - ETA: 0s - loss: 0.4435 - categorical_accuracy: 0.8348\n",
      "Epoch 00011: val_loss improved from 2.01857 to 1.92994, saving model to model_init_2021-10-2606_49_12.638039/model-00011-0.44353-0.83484-1.92994-0.44000.h5\n",
      "34/34 [==============================] - 188s 6s/step - loss: 0.4435 - categorical_accuracy: 0.8348 - val_loss: 1.9299 - val_categorical_accuracy: 0.4400\n",
      "Epoch 12/30\n",
      "34/34 [==============================] - ETA: 0s - loss: 0.3905 - categorical_accuracy: 0.8514\n",
      "Epoch 00012: val_loss improved from 1.92994 to 1.90550, saving model to model_init_2021-10-2606_49_12.638039/model-00012-0.39045-0.85143-1.90550-0.51000.h5\n",
      "34/34 [==============================] - 181s 5s/step - loss: 0.3905 - categorical_accuracy: 0.8514 - val_loss: 1.9055 - val_categorical_accuracy: 0.5100\n",
      "Epoch 13/30\n",
      "34/34 [==============================] - ETA: 0s - loss: 0.3896 - categorical_accuracy: 0.8605\n",
      "Epoch 00013: val_loss improved from 1.90550 to 1.76846, saving model to model_init_2021-10-2606_49_12.638039/model-00013-0.38958-0.86048-1.76846-0.54000.h5\n",
      "34/34 [==============================] - 158s 5s/step - loss: 0.3896 - categorical_accuracy: 0.8605 - val_loss: 1.7685 - val_categorical_accuracy: 0.5400\n",
      "Epoch 14/30\n",
      "34/34 [==============================] - ETA: 0s - loss: 0.3141 - categorical_accuracy: 0.8869\n",
      "Epoch 00014: val_loss improved from 1.76846 to 1.23284, saving model to model_init_2021-10-2606_49_12.638039/model-00014-0.31410-0.88688-1.23284-0.62000.h5\n",
      "34/34 [==============================] - 194s 6s/step - loss: 0.3141 - categorical_accuracy: 0.8869 - val_loss: 1.2328 - val_categorical_accuracy: 0.6200\n",
      "Epoch 15/30\n",
      "34/34 [==============================] - ETA: 0s - loss: 0.3123 - categorical_accuracy: 0.8891\n",
      "Epoch 00015: val_loss did not improve from 1.23284\n",
      "34/34 [==============================] - 207s 6s/step - loss: 0.3123 - categorical_accuracy: 0.8891 - val_loss: 1.5699 - val_categorical_accuracy: 0.5700\n",
      "Epoch 16/30\n",
      "34/34 [==============================] - ETA: 0s - loss: 0.3634 - categorical_accuracy: 0.8643\n",
      "Epoch 00016: val_loss improved from 1.23284 to 1.20599, saving model to model_init_2021-10-2606_49_12.638039/model-00016-0.36336-0.86425-1.20599-0.62000.h5\n",
      "34/34 [==============================] - 179s 5s/step - loss: 0.3634 - categorical_accuracy: 0.8643 - val_loss: 1.2060 - val_categorical_accuracy: 0.6200\n",
      "Epoch 17/30\n",
      "34/34 [==============================] - ETA: 0s - loss: 0.3053 - categorical_accuracy: 0.8854\n",
      "Epoch 00017: val_loss improved from 1.20599 to 0.92501, saving model to model_init_2021-10-2606_49_12.638039/model-00017-0.30531-0.88537-0.92501-0.71000.h5\n",
      "34/34 [==============================] - 178s 5s/step - loss: 0.3053 - categorical_accuracy: 0.8854 - val_loss: 0.9250 - val_categorical_accuracy: 0.7100\n",
      "Epoch 18/30\n",
      "34/34 [==============================] - ETA: 0s - loss: 0.2948 - categorical_accuracy: 0.8922\n",
      "Epoch 00018: val_loss improved from 0.92501 to 0.92037, saving model to model_init_2021-10-2606_49_12.638039/model-00018-0.29477-0.89216-0.92037-0.68000.h5\n",
      "34/34 [==============================] - 199s 6s/step - loss: 0.2948 - categorical_accuracy: 0.8922 - val_loss: 0.9204 - val_categorical_accuracy: 0.6800\n",
      "Epoch 19/30\n",
      "34/34 [==============================] - ETA: 0s - loss: 0.3174 - categorical_accuracy: 0.8824\n",
      "Epoch 00019: val_loss improved from 0.92037 to 0.48425, saving model to model_init_2021-10-2606_49_12.638039/model-00019-0.31738-0.88235-0.48425-0.82000.h5\n",
      "34/34 [==============================] - 198s 6s/step - loss: 0.3174 - categorical_accuracy: 0.8824 - val_loss: 0.4842 - val_categorical_accuracy: 0.8200\n",
      "Epoch 20/30\n",
      "34/34 [==============================] - ETA: 0s - loss: 0.2621 - categorical_accuracy: 0.9065\n",
      "Epoch 00020: val_loss did not improve from 0.48425\n",
      "34/34 [==============================] - 173s 5s/step - loss: 0.2621 - categorical_accuracy: 0.9065 - val_loss: 0.7360 - val_categorical_accuracy: 0.7700\n",
      "Epoch 21/30\n",
      "34/34 [==============================] - ETA: 0s - loss: 0.2535 - categorical_accuracy: 0.9042\n",
      "Epoch 00021: val_loss improved from 0.48425 to 0.48154, saving model to model_init_2021-10-2606_49_12.638039/model-00021-0.25348-0.90422-0.48154-0.86000.h5\n",
      "34/34 [==============================] - 157s 5s/step - loss: 0.2535 - categorical_accuracy: 0.9042 - val_loss: 0.4815 - val_categorical_accuracy: 0.8600\n",
      "Epoch 22/30\n",
      "34/34 [==============================] - ETA: 0s - loss: 0.2682 - categorical_accuracy: 0.9042\n",
      "Epoch 00022: val_loss improved from 0.48154 to 0.47249, saving model to model_init_2021-10-2606_49_12.638039/model-00022-0.26815-0.90422-0.47249-0.85000.h5\n",
      "34/34 [==============================] - 184s 5s/step - loss: 0.2682 - categorical_accuracy: 0.9042 - val_loss: 0.4725 - val_categorical_accuracy: 0.8500\n",
      "Epoch 23/30\n",
      "34/34 [==============================] - ETA: 0s - loss: 0.2298 - categorical_accuracy: 0.9208\n",
      "Epoch 00023: val_loss did not improve from 0.47249\n",
      "34/34 [==============================] - 185s 5s/step - loss: 0.2298 - categorical_accuracy: 0.9208 - val_loss: 0.8351 - val_categorical_accuracy: 0.8100\n",
      "Epoch 24/30\n",
      "34/34 [==============================] - ETA: 0s - loss: 0.2485 - categorical_accuracy: 0.9148\n",
      "Epoch 00024: val_loss did not improve from 0.47249\n",
      "34/34 [==============================] - 194s 6s/step - loss: 0.2485 - categorical_accuracy: 0.9148 - val_loss: 0.5559 - val_categorical_accuracy: 0.8300\n",
      "Epoch 25/30\n",
      "34/34 [==============================] - ETA: 0s - loss: 0.2287 - categorical_accuracy: 0.9155\n",
      "Epoch 00025: val_loss did not improve from 0.47249\n",
      "34/34 [==============================] - 149s 4s/step - loss: 0.2287 - categorical_accuracy: 0.9155 - val_loss: 0.8729 - val_categorical_accuracy: 0.7400\n",
      "Epoch 26/30\n",
      "34/34 [==============================] - ETA: 0s - loss: 0.2202 - categorical_accuracy: 0.9201\n",
      "Epoch 00026: val_loss did not improve from 0.47249\n",
      "\n",
      "Epoch 00026: ReduceLROnPlateau reducing learning rate to 4.0000001899898055e-05.\n",
      "34/34 [==============================] - 154s 5s/step - loss: 0.2202 - categorical_accuracy: 0.9201 - val_loss: 0.5224 - val_categorical_accuracy: 0.8600\n",
      "Epoch 27/30\n",
      "34/34 [==============================] - ETA: 0s - loss: 0.1765 - categorical_accuracy: 0.9442\n",
      "Epoch 00027: val_loss improved from 0.47249 to 0.37469, saving model to model_init_2021-10-2606_49_12.638039/model-00027-0.17653-0.94419-0.37469-0.89000.h5\n",
      "34/34 [==============================] - 171s 5s/step - loss: 0.1765 - categorical_accuracy: 0.9442 - val_loss: 0.3747 - val_categorical_accuracy: 0.8900\n",
      "Epoch 28/30\n",
      "34/34 [==============================] - ETA: 0s - loss: 0.1779 - categorical_accuracy: 0.9359\n",
      "Epoch 00028: val_loss improved from 0.37469 to 0.32932, saving model to model_init_2021-10-2606_49_12.638039/model-00028-0.17789-0.93590-0.32932-0.91000.h5\n",
      "34/34 [==============================] - 184s 5s/step - loss: 0.1779 - categorical_accuracy: 0.9359 - val_loss: 0.3293 - val_categorical_accuracy: 0.9100\n",
      "Epoch 29/30\n",
      "34/34 [==============================] - ETA: 0s - loss: 0.1660 - categorical_accuracy: 0.9517\n",
      "Epoch 00029: val_loss did not improve from 0.32932\n",
      "34/34 [==============================] - 179s 5s/step - loss: 0.1660 - categorical_accuracy: 0.9517 - val_loss: 0.3908 - val_categorical_accuracy: 0.8900\n",
      "Epoch 30/30\n",
      "34/34 [==============================] - ETA: 0s - loss: 0.1723 - categorical_accuracy: 0.9434\n",
      "Epoch 00030: val_loss did not improve from 0.32932\n",
      "34/34 [==============================] - 170s 5s/step - loss: 0.1723 - categorical_accuracy: 0.9434 - val_loss: 0.4569 - val_categorical_accuracy: 0.8700\n"
     ]
    }
   ],
   "source": [
    "print(\"Total Params:\", conv_3d4_model.count_params())\n",
    "history_model4=conv_3d4.train_model(conv_3d4_model,augment_data=True)"
   ]
  },
  {
   "cell_type": "code",
   "execution_count": 12,
   "metadata": {},
   "outputs": [
    {
     "name": "stdout",
     "output_type": "stream",
     "text": [
      "Max. Training Accuracy 0.9517345428466797\n",
      "Max. Validaiton Accuracy 0.9100000262260437\n"
     ]
    },
    {
     "data": {
      "image/png": "[encoded data removed]",
      "text/plain": [
       "<Figure size 1080x288 with 2 Axes>"
      ]
     },
     "metadata": {
      "needs_background": "light"
     },
     "output_type": "display_data"
    }
   ],
   "source": [
    "plot(history_model4)"
   ]
  },
  {
   "cell_type": "markdown",
   "metadata": {},
   "source": [
    "With more layers we dont see much performance improvement.<br/>\n",
    "We get a best validation accuracy of 91% which is same as Model-2.But there is little bit of overfitting. <br/>\n",
    "Let's try adding dropouts at the convolution layers<br/>"
   ]
  },
  {
   "cell_type": "markdown",
   "metadata": {},
   "source": [
    " "
   ]
  },
  {
   "cell_type": "markdown",
   "metadata": {},
   "source": [
    " "
   ]
  },
  {
   "cell_type": "markdown",
   "metadata": {},
   "source": [
    " "
   ]
  },
  {
   "cell_type": "markdown",
   "metadata": {},
   "source": [
    "## Model 5 \n",
    "- Adding dropout at convolution layers"
   ]
  },
  {
   "cell_type": "code",
   "execution_count": 15,
   "metadata": {},
   "outputs": [],
   "source": [
    "class ModelConv3D5(ModelBuilder):\n",
    "    \n",
    "    def define_model(self,filtersize=(3,3,3),dense_neurons=64,dropout=0.25):\n",
    "\n",
    "        model = Sequential()\n",
    "        model.add(Conv3D(16, filtersize, padding='same',\n",
    "                 input_shape=(self.frames_to_sample,self.image_height,self.image_width,self.channels)))\n",
    "        model.add(Activation('relu'))\n",
    "        model.add(BatchNormalization())\n",
    "        \n",
    "        model.add(Conv3D(16, filtersize, padding='same',\n",
    "                 input_shape=(self.frames_to_sample,self.image_height,self.image_width,self.channels)))\n",
    "        model.add(Activation('relu'))\n",
    "        model.add(BatchNormalization())\n",
    "        model.add(MaxPooling3D(pool_size=(2, 2, 2)))\n",
    "        model.add(Dropout(dropout))\n",
    "\n",
    "        model.add(Conv3D(32, filtersize, padding='same'))\n",
    "        model.add(Activation('relu'))\n",
    "        model.add(BatchNormalization())\n",
    "        model.add(Conv3D(32, filtersize, padding='same'))\n",
    "        model.add(Activation('relu'))\n",
    "        model.add(BatchNormalization())\n",
    "        model.add(MaxPooling3D(pool_size=(2, 2, 2)))\n",
    "        model.add(Dropout(dropout))\n",
    "\n",
    "        model.add(Conv3D(64, filtersize, padding='same'))\n",
    "        model.add(Activation('relu'))\n",
    "        model.add(BatchNormalization())\n",
    "        model.add(Conv3D(64, filtersize, padding='same'))\n",
    "        model.add(Activation('relu'))\n",
    "        model.add(BatchNormalization())\n",
    "        model.add(MaxPooling3D(pool_size=(2, 2, 2)))\n",
    "        model.add(Dropout(dropout))\n",
    "\n",
    "        model.add(Conv3D(128, filtersize, padding='same'))\n",
    "        model.add(Activation('relu'))\n",
    "        model.add(BatchNormalization())\n",
    "        model.add(Conv3D(128, filtersize, padding='same'))\n",
    "        model.add(Activation('relu'))\n",
    "        model.add(BatchNormalization())\n",
    "        model.add(MaxPooling3D(pool_size=(2, 2, 2)))\n",
    "        model.add(Dropout(dropout))\n",
    "        \n",
    "        model.add(Flatten())\n",
    "        model.add(Dense(dense_neurons,activation='relu'))\n",
    "        model.add(BatchNormalization())\n",
    "        model.add(Dropout(dropout))\n",
    "\n",
    "        model.add(Dense(dense_neurons,activation='relu'))\n",
    "        model.add(BatchNormalization())\n",
    "        model.add(Dropout(dropout))\n",
    "\n",
    "\n",
    "        model.add(Dense(self.num_classes,activation='softmax'))\n",
    "\n",
    "        optimiser = tf.keras.optimizers.Adam()\n",
    "        model.compile(optimizer=optimiser, loss='categorical_crossentropy', metrics=['categorical_accuracy'])\n",
    "        return model"
   ]
  },
  {
   "cell_type": "code",
   "execution_count": 16,
   "metadata": {},
   "outputs": [
    {
     "name": "stdout",
     "output_type": "stream",
     "text": [
      "Model: \"sequential\"\n",
      "_________________________________________________________________\n",
      "Layer (type)                 Output Shape              Param #   \n",
      "=================================================================\n",
      "conv3d (Conv3D)              (None, 16, 120, 120, 16)  1312      \n",
      "_________________________________________________________________\n",
      "activation (Activation)      (None, 16, 120, 120, 16)  0         \n",
      "_________________________________________________________________\n",
      "batch_normalization (BatchNo (None, 16, 120, 120, 16)  64        \n",
      "_________________________________________________________________\n",
      "conv3d_1 (Conv3D)            (None, 16, 120, 120, 16)  6928      \n",
      "_________________________________________________________________\n",
      "activation_1 (Activation)    (None, 16, 120, 120, 16)  0         \n",
      "_________________________________________________________________\n",
      "batch_normalization_1 (Batch (None, 16, 120, 120, 16)  64        \n",
      "_________________________________________________________________\n",
      "max_pooling3d (MaxPooling3D) (None, 8, 60, 60, 16)     0         \n",
      "_________________________________________________________________\n",
      "dropout (Dropout)            (None, 8, 60, 60, 16)     0         \n",
      "_________________________________________________________________\n",
      "conv3d_2 (Conv3D)            (None, 8, 60, 60, 32)     13856     \n",
      "_________________________________________________________________\n",
      "activation_2 (Activation)    (None, 8, 60, 60, 32)     0         \n",
      "_________________________________________________________________\n",
      "batch_normalization_2 (Batch (None, 8, 60, 60, 32)     128       \n",
      "_________________________________________________________________\n",
      "conv3d_3 (Conv3D)            (None, 8, 60, 60, 32)     27680     \n",
      "_________________________________________________________________\n",
      "activation_3 (Activation)    (None, 8, 60, 60, 32)     0         \n",
      "_________________________________________________________________\n",
      "batch_normalization_3 (Batch (None, 8, 60, 60, 32)     128       \n",
      "_________________________________________________________________\n",
      "max_pooling3d_1 (MaxPooling3 (None, 4, 30, 30, 32)     0         \n",
      "_________________________________________________________________\n",
      "dropout_1 (Dropout)          (None, 4, 30, 30, 32)     0         \n",
      "_________________________________________________________________\n",
      "conv3d_4 (Conv3D)            (None, 4, 30, 30, 64)     55360     \n",
      "_________________________________________________________________\n",
      "activation_4 (Activation)    (None, 4, 30, 30, 64)     0         \n",
      "_________________________________________________________________\n",
      "batch_normalization_4 (Batch (None, 4, 30, 30, 64)     256       \n",
      "_________________________________________________________________\n",
      "conv3d_5 (Conv3D)            (None, 4, 30, 30, 64)     110656    \n",
      "_________________________________________________________________\n",
      "activation_5 (Activation)    (None, 4, 30, 30, 64)     0         \n",
      "_________________________________________________________________\n",
      "batch_normalization_5 (Batch (None, 4, 30, 30, 64)     256       \n",
      "_________________________________________________________________\n",
      "max_pooling3d_2 (MaxPooling3 (None, 2, 15, 15, 64)     0         \n",
      "_________________________________________________________________\n",
      "dropout_2 (Dropout)          (None, 2, 15, 15, 64)     0         \n",
      "_________________________________________________________________\n",
      "conv3d_6 (Conv3D)            (None, 2, 15, 15, 128)    221312    \n",
      "_________________________________________________________________\n",
      "activation_6 (Activation)    (None, 2, 15, 15, 128)    0         \n",
      "_________________________________________________________________\n",
      "batch_normalization_6 (Batch (None, 2, 15, 15, 128)    512       \n",
      "_________________________________________________________________\n",
      "conv3d_7 (Conv3D)            (None, 2, 15, 15, 128)    442496    \n",
      "_________________________________________________________________\n",
      "activation_7 (Activation)    (None, 2, 15, 15, 128)    0         \n",
      "_________________________________________________________________\n",
      "batch_normalization_7 (Batch (None, 2, 15, 15, 128)    512       \n",
      "_________________________________________________________________\n",
      "max_pooling3d_3 (MaxPooling3 (None, 1, 7, 7, 128)      0         \n",
      "_________________________________________________________________\n",
      "dropout_3 (Dropout)          (None, 1, 7, 7, 128)      0         \n",
      "_________________________________________________________________\n",
      "flatten (Flatten)            (None, 6272)              0         \n",
      "_________________________________________________________________\n",
      "dense (Dense)                (None, 256)               1605888   \n",
      "_________________________________________________________________\n",
      "batch_normalization_8 (Batch (None, 256)               1024      \n",
      "_________________________________________________________________\n",
      "dropout_4 (Dropout)          (None, 256)               0         \n",
      "_________________________________________________________________\n",
      "dense_1 (Dense)              (None, 256)               65792     \n",
      "_________________________________________________________________\n",
      "batch_normalization_9 (Batch (None, 256)               1024      \n",
      "_________________________________________________________________\n",
      "dropout_5 (Dropout)          (None, 256)               0         \n",
      "_________________________________________________________________\n",
      "dense_2 (Dense)              (None, 5)                 1285      \n",
      "=================================================================\n",
      "Total params: 2,556,533\n",
      "Trainable params: 2,554,549\n",
      "Non-trainable params: 1,984\n",
      "_________________________________________________________________\n"
     ]
    }
   ],
   "source": [
    "conv_3d5=ModelConv3D5()\n",
    "conv_3d5.initialize_path(project_folder)\n",
    "conv_3d5.initialize_image_properties(image_height=120,image_width=120)\n",
    "conv_3d5.initialize_hyperparams(frames_to_sample=16,batch_size=20,num_epochs=30)\n",
    "conv_3d5_model=conv_3d5.define_model(filtersize=(3,3,3),dense_neurons=256,dropout=0.25)\n",
    "conv_3d5_model.summary()"
   ]
  },
  {
   "cell_type": "code",
   "execution_count": 17,
   "metadata": {},
   "outputs": [
    {
     "name": "stdout",
     "output_type": "stream",
     "text": [
      "Total Params: 2556533\n",
      "Source path =  /home/datasets/Project_data/train ; batch size = 20\n",
      "Epoch 1/30\n",
      "34/34 [==============================] - ETA: 0s - loss: 1.7987 - categorical_accuracy: 0.3725Source path =  /home/datasets/Project_data/val ; batch size = 20\n",
      "\n",
      "Epoch 00001: val_loss improved from inf to 3.04783, saving model to model_init_2021-10-2608_23_52.458285/model-00001-1.79871-0.37255-3.04783-0.21000.h5\n",
      "34/34 [==============================] - 187s 5s/step - loss: 1.7987 - categorical_accuracy: 0.3725 - val_loss: 3.0478 - val_categorical_accuracy: 0.2100\n",
      "Epoch 2/30\n",
      "34/34 [==============================] - ETA: 0s - loss: 1.4150 - categorical_accuracy: 0.4585\n",
      "Epoch 00002: val_loss improved from 3.04783 to 2.15435, saving model to model_init_2021-10-2608_23_52.458285/model-00002-1.41501-0.45852-2.15435-0.13000.h5\n",
      "34/34 [==============================] - 182s 5s/step - loss: 1.4150 - categorical_accuracy: 0.4585 - val_loss: 2.1544 - val_categorical_accuracy: 0.1300\n",
      "Epoch 3/30\n",
      "34/34 [==============================] - ETA: 0s - loss: 1.1582 - categorical_accuracy: 0.5649\n",
      "Epoch 00003: val_loss did not improve from 2.15435\n",
      "34/34 [==============================] - 161s 5s/step - loss: 1.1582 - categorical_accuracy: 0.5649 - val_loss: 5.2022 - val_categorical_accuracy: 0.1900\n",
      "Epoch 4/30\n",
      "34/34 [==============================] - ETA: 0s - loss: 1.0038 - categorical_accuracy: 0.6350\n",
      "Epoch 00004: val_loss did not improve from 2.15435\n",
      "34/34 [==============================] - 163s 5s/step - loss: 1.0038 - categorical_accuracy: 0.6350 - val_loss: 4.1561 - val_categorical_accuracy: 0.2100\n",
      "Epoch 5/30\n",
      "34/34 [==============================] - ETA: 0s - loss: 0.8432 - categorical_accuracy: 0.6840\n",
      "Epoch 00005: val_loss did not improve from 2.15435\n",
      "34/34 [==============================] - 181s 5s/step - loss: 0.8432 - categorical_accuracy: 0.6840 - val_loss: 3.9450 - val_categorical_accuracy: 0.2500\n",
      "Epoch 6/30\n",
      "34/34 [==============================] - ETA: 0s - loss: 0.8621 - categorical_accuracy: 0.6742\n",
      "Epoch 00006: val_loss did not improve from 2.15435\n",
      "\n",
      "Epoch 00006: ReduceLROnPlateau reducing learning rate to 0.00020000000949949026.\n",
      "34/34 [==============================] - 186s 5s/step - loss: 0.8621 - categorical_accuracy: 0.6742 - val_loss: 7.3753 - val_categorical_accuracy: 0.2000\n",
      "Epoch 7/30\n",
      "34/34 [==============================] - ETA: 0s - loss: 0.6799 - categorical_accuracy: 0.7519\n",
      "Epoch 00007: val_loss did not improve from 2.15435\n",
      "34/34 [==============================] - 187s 5s/step - loss: 0.6799 - categorical_accuracy: 0.7519 - val_loss: 6.0775 - val_categorical_accuracy: 0.2200\n",
      "Epoch 8/30\n",
      "34/34 [==============================] - ETA: 0s - loss: 0.6084 - categorical_accuracy: 0.7768\n",
      "Epoch 00008: val_loss did not improve from 2.15435\n",
      "34/34 [==============================] - 159s 5s/step - loss: 0.6084 - categorical_accuracy: 0.7768 - val_loss: 4.5915 - val_categorical_accuracy: 0.2300\n",
      "Epoch 9/30\n",
      "34/34 [==============================] - ETA: 0s - loss: 0.5074 - categorical_accuracy: 0.8152\n",
      "Epoch 00009: val_loss did not improve from 2.15435\n",
      "34/34 [==============================] - 162s 5s/step - loss: 0.5074 - categorical_accuracy: 0.8152 - val_loss: 6.2582 - val_categorical_accuracy: 0.2000\n",
      "Epoch 10/30\n",
      "34/34 [==============================] - ETA: 0s - loss: 0.4188 - categorical_accuracy: 0.8401\n",
      "Epoch 00010: val_loss did not improve from 2.15435\n",
      "\n",
      "Epoch 00010: ReduceLROnPlateau reducing learning rate to 4.0000001899898055e-05.\n",
      "34/34 [==============================] - 189s 6s/step - loss: 0.4188 - categorical_accuracy: 0.8401 - val_loss: 5.1256 - val_categorical_accuracy: 0.2000\n",
      "Epoch 11/30\n",
      "34/34 [==============================] - ETA: 0s - loss: 0.4272 - categorical_accuracy: 0.8386\n",
      "Epoch 00011: val_loss did not improve from 2.15435\n",
      "34/34 [==============================] - 187s 5s/step - loss: 0.4272 - categorical_accuracy: 0.8386 - val_loss: 5.1000 - val_categorical_accuracy: 0.2100\n",
      "Epoch 12/30\n",
      "34/34 [==============================] - ETA: 0s - loss: 0.3975 - categorical_accuracy: 0.8446\n",
      "Epoch 00012: val_loss did not improve from 2.15435\n",
      "34/34 [==============================] - 179s 5s/step - loss: 0.3975 - categorical_accuracy: 0.8446 - val_loss: 5.0306 - val_categorical_accuracy: 0.2300\n",
      "Epoch 13/30\n",
      "34/34 [==============================] - ETA: 0s - loss: 0.3851 - categorical_accuracy: 0.8635\n",
      "Epoch 00013: val_loss did not improve from 2.15435\n",
      "34/34 [==============================] - 147s 4s/step - loss: 0.3851 - categorical_accuracy: 0.8635 - val_loss: 4.7774 - val_categorical_accuracy: 0.2000\n",
      "Epoch 14/30\n",
      "34/34 [==============================] - ETA: 0s - loss: 0.3799 - categorical_accuracy: 0.8620\n",
      "Epoch 00014: val_loss did not improve from 2.15435\n",
      "\n",
      "Epoch 00014: ReduceLROnPlateau reducing learning rate to 8.000000525498762e-06.\n",
      "34/34 [==============================] - 148s 4s/step - loss: 0.3799 - categorical_accuracy: 0.8620 - val_loss: 4.0411 - val_categorical_accuracy: 0.2400\n",
      "Epoch 15/30\n",
      "34/34 [==============================] - ETA: 0s - loss: 0.3741 - categorical_accuracy: 0.8612\n",
      "Epoch 00015: val_loss did not improve from 2.15435\n",
      "34/34 [==============================] - 163s 5s/step - loss: 0.3741 - categorical_accuracy: 0.8612 - val_loss: 3.3771 - val_categorical_accuracy: 0.2500\n",
      "Epoch 16/30\n",
      "34/34 [==============================] - ETA: 0s - loss: 0.3503 - categorical_accuracy: 0.8643\n",
      "Epoch 00016: val_loss did not improve from 2.15435\n",
      "34/34 [==============================] - 188s 6s/step - loss: 0.3503 - categorical_accuracy: 0.8643 - val_loss: 2.9450 - val_categorical_accuracy: 0.3300\n",
      "Epoch 17/30\n",
      "34/34 [==============================] - ETA: 0s - loss: 0.3542 - categorical_accuracy: 0.8756\n",
      "Epoch 00017: val_loss did not improve from 2.15435\n",
      "34/34 [==============================] - 196s 6s/step - loss: 0.3542 - categorical_accuracy: 0.8756 - val_loss: 2.2302 - val_categorical_accuracy: 0.3900\n",
      "Epoch 18/30\n",
      "34/34 [==============================] - ETA: 0s - loss: 0.3508 - categorical_accuracy: 0.8635\n",
      "Epoch 00018: val_loss improved from 2.15435 to 2.04643, saving model to model_init_2021-10-2608_23_52.458285/model-00018-0.35084-0.86350-2.04643-0.43000.h5\n",
      "34/34 [==============================] - 165s 5s/step - loss: 0.3508 - categorical_accuracy: 0.8635 - val_loss: 2.0464 - val_categorical_accuracy: 0.4300\n",
      "Epoch 19/30\n",
      "34/34 [==============================] - ETA: 0s - loss: 0.3470 - categorical_accuracy: 0.8665\n",
      "Epoch 00019: val_loss did not improve from 2.04643\n",
      "34/34 [==============================] - 152s 4s/step - loss: 0.3470 - categorical_accuracy: 0.8665 - val_loss: 2.1666 - val_categorical_accuracy: 0.4200\n",
      "Epoch 20/30\n",
      "34/34 [==============================] - ETA: 0s - loss: 0.3549 - categorical_accuracy: 0.8665\n",
      "Epoch 00020: val_loss improved from 2.04643 to 1.74258, saving model to model_init_2021-10-2608_23_52.458285/model-00020-0.35487-0.86652-1.74258-0.51000.h5\n",
      "34/34 [==============================] - 188s 6s/step - loss: 0.3549 - categorical_accuracy: 0.8665 - val_loss: 1.7426 - val_categorical_accuracy: 0.5100\n",
      "Epoch 21/30\n",
      "34/34 [==============================] - ETA: 0s - loss: 0.3546 - categorical_accuracy: 0.8741\n",
      "Epoch 00021: val_loss improved from 1.74258 to 1.57256, saving model to model_init_2021-10-2608_23_52.458285/model-00021-0.35462-0.87406-1.57256-0.50000.h5\n",
      "34/34 [==============================] - 196s 6s/step - loss: 0.3546 - categorical_accuracy: 0.8741 - val_loss: 1.5726 - val_categorical_accuracy: 0.5000\n",
      "Epoch 22/30\n",
      "34/34 [==============================] - ETA: 0s - loss: 0.3785 - categorical_accuracy: 0.8650\n",
      "Epoch 00022: val_loss improved from 1.57256 to 1.24759, saving model to model_init_2021-10-2608_23_52.458285/model-00022-0.37853-0.86501-1.24759-0.57000.h5\n",
      "34/34 [==============================] - 194s 6s/step - loss: 0.3785 - categorical_accuracy: 0.8650 - val_loss: 1.2476 - val_categorical_accuracy: 0.5700\n",
      "Epoch 23/30\n",
      "34/34 [==============================] - ETA: 0s - loss: 0.3575 - categorical_accuracy: 0.8612\n",
      "Epoch 00023: val_loss did not improve from 1.24759\n",
      "34/34 [==============================] - 198s 6s/step - loss: 0.3575 - categorical_accuracy: 0.8612 - val_loss: 1.5795 - val_categorical_accuracy: 0.4900\n",
      "Epoch 24/30\n",
      "34/34 [==============================] - ETA: 0s - loss: 0.3621 - categorical_accuracy: 0.8703\n",
      "Epoch 00024: val_loss improved from 1.24759 to 1.18505, saving model to model_init_2021-10-2608_23_52.458285/model-00024-0.36210-0.87029-1.18505-0.63000.h5\n",
      "34/34 [==============================] - 164s 5s/step - loss: 0.3621 - categorical_accuracy: 0.8703 - val_loss: 1.1850 - val_categorical_accuracy: 0.6300\n",
      "Epoch 25/30\n",
      "34/34 [==============================] - ETA: 0s - loss: 0.2994 - categorical_accuracy: 0.9012\n",
      "Epoch 00025: val_loss improved from 1.18505 to 1.09319, saving model to model_init_2021-10-2608_23_52.458285/model-00025-0.29941-0.90121-1.09319-0.59000.h5\n",
      "34/34 [==============================] - 151s 4s/step - loss: 0.2994 - categorical_accuracy: 0.9012 - val_loss: 1.0932 - val_categorical_accuracy: 0.5900\n",
      "Epoch 26/30\n",
      "34/34 [==============================] - ETA: 0s - loss: 0.3544 - categorical_accuracy: 0.8741\n",
      "Epoch 00026: val_loss did not improve from 1.09319\n",
      "34/34 [==============================] - 151s 4s/step - loss: 0.3544 - categorical_accuracy: 0.8741 - val_loss: 1.1887 - val_categorical_accuracy: 0.5800\n",
      "Epoch 27/30\n",
      "34/34 [==============================] - ETA: 0s - loss: 0.3588 - categorical_accuracy: 0.8643\n",
      "Epoch 00027: val_loss did not improve from 1.09319\n",
      "34/34 [==============================] - 151s 4s/step - loss: 0.3588 - categorical_accuracy: 0.8643 - val_loss: 1.1088 - val_categorical_accuracy: 0.5800\n",
      "Epoch 28/30\n",
      "34/34 [==============================] - ETA: 0s - loss: 0.3498 - categorical_accuracy: 0.8756\n",
      "Epoch 00028: val_loss did not improve from 1.09319\n",
      "34/34 [==============================] - 153s 5s/step - loss: 0.3498 - categorical_accuracy: 0.8756 - val_loss: 1.2010 - val_categorical_accuracy: 0.5500\n",
      "Epoch 29/30\n",
      "34/34 [==============================] - ETA: 0s - loss: 0.3726 - categorical_accuracy: 0.8627\n",
      "Epoch 00029: val_loss improved from 1.09319 to 0.97161, saving model to model_init_2021-10-2608_23_52.458285/model-00029-0.37260-0.86275-0.97161-0.64000.h5\n",
      "34/34 [==============================] - 152s 4s/step - loss: 0.3726 - categorical_accuracy: 0.8627 - val_loss: 0.9716 - val_categorical_accuracy: 0.6400\n",
      "Epoch 30/30\n",
      "34/34 [==============================] - ETA: 0s - loss: 0.3573 - categorical_accuracy: 0.8778\n",
      "Epoch 00030: val_loss did not improve from 0.97161\n",
      "34/34 [==============================] - 151s 4s/step - loss: 0.3573 - categorical_accuracy: 0.8778 - val_loss: 1.3214 - val_categorical_accuracy: 0.5300\n"
     ]
    }
   ],
   "source": [
    "print(\"Total Params:\", conv_3d5_model.count_params())\n",
    "history_model5=conv_3d5.train_model(conv_3d5_model,augment_data=True)"
   ]
  },
  {
   "cell_type": "code",
   "execution_count": 18,
   "metadata": {},
   "outputs": [
    {
     "name": "stdout",
     "output_type": "stream",
     "text": [
      "Max. Training Accuracy 0.9012066125869751\n",
      "Max. Validaiton Accuracy 0.6399999856948853\n"
     ]
    },
    {
     "data": {
      "image/png": "[encoded data removed]",
      "text/plain": [
       "<Figure size 1080x288 with 2 Axes>"
      ]
     },
     "metadata": {
      "needs_background": "light"
     },
     "output_type": "display_data"
    }
   ],
   "source": [
    "plot(history_model5)"
   ]
  },
  {
   "cell_type": "markdown",
   "metadata": {},
   "source": [
    " "
   ]
  },
  {
   "cell_type": "markdown",
   "metadata": {},
   "source": [
    " From the plots it looks like the model is Overfitting again!!<br/>\n",
    " Adding dropouts has further reduced validation accuracy as the model doesn't seem to generalise well."
   ]
  },
  {
   "cell_type": "markdown",
   "metadata": {},
   "source": [
    "##### All the experimental models above have more than 1 million parameters. Let's try to reduce the model size and see the performance"
   ]
  },
  {
   "cell_type": "markdown",
   "metadata": {},
   "source": [
    " "
   ]
  },
  {
   "cell_type": "markdown",
   "metadata": {},
   "source": [
    " "
   ]
  },
  {
   "cell_type": "markdown",
   "metadata": {},
   "source": [
    " "
   ]
  },
  {
   "cell_type": "markdown",
   "metadata": {},
   "source": [
    "## Model 6 \n",
    "### Reducing the number of parameters"
   ]
  },
  {
   "cell_type": "code",
   "execution_count": 12,
   "metadata": {},
   "outputs": [],
   "source": [
    "class ModelConv3D6(ModelBuilder):\n",
    "    \n",
    "    def define_model(self,dense_neurons=64,dropout=0.25):\n",
    "\n",
    "        model = Sequential()\n",
    "        model.add(Conv3D(16, (3, 3, 3), padding='same',\n",
    "                 input_shape=(self.frames_to_sample,self.image_height,self.image_width,self.channels)))\n",
    "        model.add(Activation('relu'))\n",
    "        model.add(BatchNormalization())\n",
    "        model.add(MaxPooling3D(pool_size=(2, 2, 2)))\n",
    "\n",
    "        model.add(Conv3D(32, (2, 2, 2), padding='same'))\n",
    "        model.add(Activation('relu'))\n",
    "        model.add(BatchNormalization())\n",
    "        model.add(MaxPooling3D(pool_size=(2, 2, 2)))\n",
    "\n",
    "        model.add(Conv3D(64, (2, 2, 2), padding='same'))\n",
    "        model.add(Activation('relu'))\n",
    "        model.add(BatchNormalization())\n",
    "        model.add(MaxPooling3D(pool_size=(2, 2, 2)))\n",
    "\n",
    "        model.add(Conv3D(128, (2, 2, 2), padding='same'))\n",
    "        model.add(Activation('relu'))\n",
    "        model.add(BatchNormalization())\n",
    "        model.add(MaxPooling3D(pool_size=(2, 2, 2)))\n",
    "        \n",
    "        model.add(Flatten())\n",
    "        model.add(Dense(dense_neurons,activation='relu'))\n",
    "        model.add(BatchNormalization())\n",
    "        model.add(Dropout(dropout))\n",
    "\n",
    "        model.add(Dense(dense_neurons,activation='relu'))\n",
    "        model.add(BatchNormalization())\n",
    "        model.add(Dropout(dropout))\n",
    "\n",
    "        model.add(Dense(self.num_classes,activation='softmax'))\n",
    "\n",
    "        optimiser = tf.keras.optimizers.Adam()\n",
    "        model.compile(optimizer=optimiser, loss='categorical_crossentropy', metrics=['categorical_accuracy'])\n",
    "        return model"
   ]
  },
  {
   "cell_type": "code",
   "execution_count": 13,
   "metadata": {},
   "outputs": [
    {
     "name": "stdout",
     "output_type": "stream",
     "text": [
      "Model: \"sequential_1\"\n",
      "_________________________________________________________________\n",
      "Layer (type)                 Output Shape              Param #   \n",
      "=================================================================\n",
      "conv3d_4 (Conv3D)            (None, 16, 120, 120, 16)  1312      \n",
      "_________________________________________________________________\n",
      "activation_4 (Activation)    (None, 16, 120, 120, 16)  0         \n",
      "_________________________________________________________________\n",
      "batch_normalization_6 (Batch (None, 16, 120, 120, 16)  64        \n",
      "_________________________________________________________________\n",
      "max_pooling3d_4 (MaxPooling3 (None, 8, 60, 60, 16)     0         \n",
      "_________________________________________________________________\n",
      "conv3d_5 (Conv3D)            (None, 8, 60, 60, 32)     4128      \n",
      "_________________________________________________________________\n",
      "activation_5 (Activation)    (None, 8, 60, 60, 32)     0         \n",
      "_________________________________________________________________\n",
      "batch_normalization_7 (Batch (None, 8, 60, 60, 32)     128       \n",
      "_________________________________________________________________\n",
      "max_pooling3d_5 (MaxPooling3 (None, 4, 30, 30, 32)     0         \n",
      "_________________________________________________________________\n",
      "conv3d_6 (Conv3D)            (None, 4, 30, 30, 64)     16448     \n",
      "_________________________________________________________________\n",
      "activation_6 (Activation)    (None, 4, 30, 30, 64)     0         \n",
      "_________________________________________________________________\n",
      "batch_normalization_8 (Batch (None, 4, 30, 30, 64)     256       \n",
      "_________________________________________________________________\n",
      "max_pooling3d_6 (MaxPooling3 (None, 2, 15, 15, 64)     0         \n",
      "_________________________________________________________________\n",
      "conv3d_7 (Conv3D)            (None, 2, 15, 15, 128)    65664     \n",
      "_________________________________________________________________\n",
      "activation_7 (Activation)    (None, 2, 15, 15, 128)    0         \n",
      "_________________________________________________________________\n",
      "batch_normalization_9 (Batch (None, 2, 15, 15, 128)    512       \n",
      "_________________________________________________________________\n",
      "max_pooling3d_7 (MaxPooling3 (None, 1, 7, 7, 128)      0         \n",
      "_________________________________________________________________\n",
      "flatten_1 (Flatten)          (None, 6272)              0         \n",
      "_________________________________________________________________\n",
      "dense_3 (Dense)              (None, 128)               802944    \n",
      "_________________________________________________________________\n",
      "batch_normalization_10 (Batc (None, 128)               512       \n",
      "_________________________________________________________________\n",
      "dropout_2 (Dropout)          (None, 128)               0         \n",
      "_________________________________________________________________\n",
      "dense_4 (Dense)              (None, 128)               16512     \n",
      "_________________________________________________________________\n",
      "batch_normalization_11 (Batc (None, 128)               512       \n",
      "_________________________________________________________________\n",
      "dropout_3 (Dropout)          (None, 128)               0         \n",
      "_________________________________________________________________\n",
      "dense_5 (Dense)              (None, 5)                 645       \n",
      "=================================================================\n",
      "Total params: 909,637\n",
      "Trainable params: 908,645\n",
      "Non-trainable params: 992\n",
      "_________________________________________________________________\n"
     ]
    }
   ],
   "source": [
    "conv_3d6=ModelConv3D6()\n",
    "conv_3d6.initialize_path(project_folder)\n",
    "conv_3d6.initialize_image_properties(image_height=120,image_width=120)\n",
    "conv_3d6.initialize_hyperparams(frames_to_sample=16,batch_size=20,num_epochs=30)\n",
    "conv_3d6_model=conv_3d6.define_model(dense_neurons=128,dropout=0.25)\n",
    "conv_3d6_model.summary()"
   ]
  },
  {
   "cell_type": "code",
   "execution_count": 14,
   "metadata": {
    "scrolled": false
   },
   "outputs": [
    {
     "name": "stdout",
     "output_type": "stream",
     "text": [
      "Total Params: 909637\n",
      "Source path =  /home/datasets/Project_data/train ; batch size = 20\n",
      "Epoch 1/30\n",
      "34/34 [==============================] - ETA: 0s - loss: 1.5513 - categorical_accuracy: 0.4344Source path =  /home/datasets/Project_data/val ; batch size = 20\n",
      "\n",
      "Epoch 00001: val_loss improved from inf to 2.48673, saving model to model_init_2021-10-2611_19_15.672886/model-00001-1.55127-0.43439-2.48673-0.16000.h5\n",
      "34/34 [==============================] - 168s 5s/step - loss: 1.5513 - categorical_accuracy: 0.4344 - val_loss: 2.4867 - val_categorical_accuracy: 0.1600\n",
      "Epoch 2/30\n",
      "34/34 [==============================] - ETA: 0s - loss: 1.0168 - categorical_accuracy: 0.6139\n",
      "Epoch 00002: val_loss did not improve from 2.48673\n",
      "34/34 [==============================] - 171s 5s/step - loss: 1.0168 - categorical_accuracy: 0.6139 - val_loss: 3.0286 - val_categorical_accuracy: 0.1500\n",
      "Epoch 3/30\n",
      "34/34 [==============================] - ETA: 0s - loss: 0.7148 - categorical_accuracy: 0.7202\n",
      "Epoch 00003: val_loss did not improve from 2.48673\n",
      "34/34 [==============================] - 173s 5s/step - loss: 0.7148 - categorical_accuracy: 0.7202 - val_loss: 4.2041 - val_categorical_accuracy: 0.1900\n",
      "Epoch 4/30\n",
      "34/34 [==============================] - ETA: 0s - loss: 0.6028 - categorical_accuracy: 0.7730\n",
      "Epoch 00004: val_loss did not improve from 2.48673\n",
      "34/34 [==============================] - 168s 5s/step - loss: 0.6028 - categorical_accuracy: 0.7730 - val_loss: 5.2110 - val_categorical_accuracy: 0.2100\n",
      "Epoch 5/30\n",
      "34/34 [==============================] - ETA: 0s - loss: 0.5017 - categorical_accuracy: 0.8084\n",
      "Epoch 00005: val_loss did not improve from 2.48673\n",
      "\n",
      "Epoch 00005: ReduceLROnPlateau reducing learning rate to 0.00020000000949949026.\n",
      "34/34 [==============================] - 175s 5s/step - loss: 0.5017 - categorical_accuracy: 0.8084 - val_loss: 4.4804 - val_categorical_accuracy: 0.2800\n",
      "Epoch 6/30\n",
      "34/34 [==============================] - ETA: 0s - loss: 0.3513 - categorical_accuracy: 0.8733\n",
      "Epoch 00006: val_loss did not improve from 2.48673\n",
      "34/34 [==============================] - 171s 5s/step - loss: 0.3513 - categorical_accuracy: 0.8733 - val_loss: 4.8041 - val_categorical_accuracy: 0.2600\n",
      "Epoch 7/30\n",
      "34/34 [==============================] - ETA: 0s - loss: 0.2771 - categorical_accuracy: 0.9050\n",
      "Epoch 00007: val_loss did not improve from 2.48673\n",
      "34/34 [==============================] - 166s 5s/step - loss: 0.2771 - categorical_accuracy: 0.9050 - val_loss: 4.9303 - val_categorical_accuracy: 0.1700\n",
      "Epoch 8/30\n",
      "34/34 [==============================] - ETA: 0s - loss: 0.3196 - categorical_accuracy: 0.8816\n",
      "Epoch 00008: val_loss did not improve from 2.48673\n",
      "34/34 [==============================] - 179s 5s/step - loss: 0.3196 - categorical_accuracy: 0.8816 - val_loss: 4.5877 - val_categorical_accuracy: 0.2300\n",
      "Epoch 9/30\n",
      "34/34 [==============================] - ETA: 0s - loss: 0.2808 - categorical_accuracy: 0.8997\n",
      "Epoch 00009: val_loss did not improve from 2.48673\n",
      "\n",
      "Epoch 00009: ReduceLROnPlateau reducing learning rate to 4.0000001899898055e-05.\n",
      "34/34 [==============================] - 194s 6s/step - loss: 0.2808 - categorical_accuracy: 0.8997 - val_loss: 3.6747 - val_categorical_accuracy: 0.1900\n",
      "Epoch 10/30\n",
      "34/34 [==============================] - ETA: 0s - loss: 0.2603 - categorical_accuracy: 0.9087\n",
      "Epoch 00010: val_loss did not improve from 2.48673\n",
      "34/34 [==============================] - 179s 5s/step - loss: 0.2603 - categorical_accuracy: 0.9087 - val_loss: 3.0978 - val_categorical_accuracy: 0.2500\n",
      "Epoch 11/30\n",
      "34/34 [==============================] - ETA: 0s - loss: 0.2318 - categorical_accuracy: 0.9201\n",
      "Epoch 00011: val_loss improved from 2.48673 to 2.32749, saving model to model_init_2021-10-2611_19_15.672886/model-00011-0.23181-0.92006-2.32749-0.33000.h5\n",
      "34/34 [==============================] - 182s 5s/step - loss: 0.2318 - categorical_accuracy: 0.9201 - val_loss: 2.3275 - val_categorical_accuracy: 0.3300\n",
      "Epoch 12/30\n",
      "34/34 [==============================] - ETA: 0s - loss: 0.2326 - categorical_accuracy: 0.9238\n",
      "Epoch 00012: val_loss improved from 2.32749 to 1.77519, saving model to model_init_2021-10-2611_19_15.672886/model-00012-0.23258-0.92383-1.77519-0.43000.h5\n",
      "34/34 [==============================] - 161s 5s/step - loss: 0.2326 - categorical_accuracy: 0.9238 - val_loss: 1.7752 - val_categorical_accuracy: 0.4300\n",
      "Epoch 13/30\n",
      "34/34 [==============================] - ETA: 0s - loss: 0.2477 - categorical_accuracy: 0.9163\n",
      "Epoch 00013: val_loss improved from 1.77519 to 1.23581, saving model to model_init_2021-10-2611_19_15.672886/model-00013-0.24771-0.91629-1.23581-0.58000.h5\n",
      "34/34 [==============================] - 158s 5s/step - loss: 0.2477 - categorical_accuracy: 0.9163 - val_loss: 1.2358 - val_categorical_accuracy: 0.5800\n",
      "Epoch 14/30\n",
      "34/34 [==============================] - ETA: 0s - loss: 0.2206 - categorical_accuracy: 0.9276\n",
      "Epoch 00014: val_loss improved from 1.23581 to 1.09310, saving model to model_init_2021-10-2611_19_15.672886/model-00014-0.22060-0.92760-1.09310-0.62000.h5\n",
      "34/34 [==============================] - 153s 4s/step - loss: 0.2206 - categorical_accuracy: 0.9276 - val_loss: 1.0931 - val_categorical_accuracy: 0.6200\n",
      "Epoch 15/30\n",
      "34/34 [==============================] - ETA: 0s - loss: 0.2215 - categorical_accuracy: 0.9268\n",
      "Epoch 00015: val_loss improved from 1.09310 to 0.79627, saving model to model_init_2021-10-2611_19_15.672886/model-00015-0.22146-0.92685-0.79627-0.71000.h5\n",
      "34/34 [==============================] - 156s 5s/step - loss: 0.2215 - categorical_accuracy: 0.9268 - val_loss: 0.7963 - val_categorical_accuracy: 0.7100\n",
      "Epoch 16/30\n",
      "34/34 [==============================] - ETA: 0s - loss: 0.2113 - categorical_accuracy: 0.9238\n",
      "Epoch 00016: val_loss improved from 0.79627 to 0.62354, saving model to model_init_2021-10-2611_19_15.672886/model-00016-0.21132-0.92383-0.62354-0.76000.h5\n",
      "34/34 [==============================] - 156s 5s/step - loss: 0.2113 - categorical_accuracy: 0.9238 - val_loss: 0.6235 - val_categorical_accuracy: 0.7600\n",
      "Epoch 17/30\n",
      "34/34 [==============================] - ETA: 0s - loss: 0.2161 - categorical_accuracy: 0.9329\n",
      "Epoch 00017: val_loss improved from 0.62354 to 0.52683, saving model to model_init_2021-10-2611_19_15.672886/model-00017-0.21613-0.93288-0.52683-0.80000.h5\n",
      "34/34 [==============================] - 158s 5s/step - loss: 0.2161 - categorical_accuracy: 0.9329 - val_loss: 0.5268 - val_categorical_accuracy: 0.8000\n",
      "Epoch 18/30\n",
      "34/34 [==============================] - ETA: 0s - loss: 0.2262 - categorical_accuracy: 0.9314\n",
      "Epoch 00018: val_loss improved from 0.52683 to 0.50750, saving model to model_init_2021-10-2611_19_15.672886/model-00018-0.22625-0.93137-0.50750-0.81000.h5\n",
      "34/34 [==============================] - 157s 5s/step - loss: 0.2262 - categorical_accuracy: 0.9314 - val_loss: 0.5075 - val_categorical_accuracy: 0.8100\n",
      "Epoch 19/30\n",
      "34/34 [==============================] - ETA: 0s - loss: 0.2225 - categorical_accuracy: 0.9268\n",
      "Epoch 00019: val_loss improved from 0.50750 to 0.24751, saving model to model_init_2021-10-2611_19_15.672886/model-00019-0.22248-0.92685-0.24751-0.92000.h5\n",
      "34/34 [==============================] - 165s 5s/step - loss: 0.2225 - categorical_accuracy: 0.9268 - val_loss: 0.2475 - val_categorical_accuracy: 0.9200\n",
      "Epoch 20/30\n",
      "34/34 [==============================] - ETA: 0s - loss: 0.1967 - categorical_accuracy: 0.9367\n",
      "Epoch 00020: val_loss did not improve from 0.24751\n",
      "34/34 [==============================] - 167s 5s/step - loss: 0.1967 - categorical_accuracy: 0.9367 - val_loss: 0.3579 - val_categorical_accuracy: 0.8900\n",
      "Epoch 21/30\n",
      "34/34 [==============================] - ETA: 0s - loss: 0.2002 - categorical_accuracy: 0.9351\n",
      "Epoch 00021: val_loss did not improve from 0.24751\n",
      "34/34 [==============================] - 163s 5s/step - loss: 0.2002 - categorical_accuracy: 0.9351 - val_loss: 0.3047 - val_categorical_accuracy: 0.9000\n",
      "Epoch 22/30\n",
      "34/34 [==============================] - ETA: 0s - loss: 0.1922 - categorical_accuracy: 0.9397\n",
      "Epoch 00022: val_loss improved from 0.24751 to 0.24013, saving model to model_init_2021-10-2611_19_15.672886/model-00022-0.19216-0.93967-0.24013-0.93000.h5\n",
      "34/34 [==============================] - 165s 5s/step - loss: 0.1922 - categorical_accuracy: 0.9397 - val_loss: 0.2401 - val_categorical_accuracy: 0.9300\n",
      "Epoch 23/30\n",
      "34/34 [==============================] - ETA: 0s - loss: 0.1856 - categorical_accuracy: 0.9351\n",
      "Epoch 00023: val_loss did not improve from 0.24013\n",
      "34/34 [==============================] - 177s 5s/step - loss: 0.1856 - categorical_accuracy: 0.9351 - val_loss: 0.3596 - val_categorical_accuracy: 0.8900\n",
      "Epoch 24/30\n",
      "34/34 [==============================] - ETA: 0s - loss: 0.1909 - categorical_accuracy: 0.9404\n",
      "Epoch 00024: val_loss did not improve from 0.24013\n",
      "34/34 [==============================] - 172s 5s/step - loss: 0.1909 - categorical_accuracy: 0.9404 - val_loss: 0.2804 - val_categorical_accuracy: 0.9200\n",
      "Epoch 25/30\n",
      "34/34 [==============================] - ETA: 0s - loss: 0.1957 - categorical_accuracy: 0.9374\n",
      "Epoch 00025: val_loss did not improve from 0.24013\n",
      "34/34 [==============================] - 172s 5s/step - loss: 0.1957 - categorical_accuracy: 0.9374 - val_loss: 0.3181 - val_categorical_accuracy: 0.9000\n",
      "Epoch 26/30\n",
      "34/34 [==============================] - ETA: 0s - loss: 0.1778 - categorical_accuracy: 0.9457\n",
      "Epoch 00026: val_loss did not improve from 0.24013\n",
      "\n",
      "Epoch 00026: ReduceLROnPlateau reducing learning rate to 8.000000525498762e-06.\n",
      "34/34 [==============================] - 178s 5s/step - loss: 0.1778 - categorical_accuracy: 0.9457 - val_loss: 0.2825 - val_categorical_accuracy: 0.9000\n",
      "Epoch 27/30\n",
      "34/34 [==============================] - ETA: 0s - loss: 0.1904 - categorical_accuracy: 0.9404\n",
      "Epoch 00027: val_loss did not improve from 0.24013\n",
      "34/34 [==============================] - 174s 5s/step - loss: 0.1904 - categorical_accuracy: 0.9404 - val_loss: 0.2669 - val_categorical_accuracy: 0.9100\n",
      "Epoch 28/30\n",
      "34/34 [==============================] - ETA: 0s - loss: 0.1780 - categorical_accuracy: 0.9442\n",
      "Epoch 00028: val_loss did not improve from 0.24013\n",
      "34/34 [==============================] - 177s 5s/step - loss: 0.1780 - categorical_accuracy: 0.9442 - val_loss: 0.3432 - val_categorical_accuracy: 0.8700\n",
      "Epoch 29/30\n",
      "34/34 [==============================] - ETA: 0s - loss: 0.1823 - categorical_accuracy: 0.9419\n",
      "Epoch 00029: val_loss improved from 0.24013 to 0.21954, saving model to model_init_2021-10-2611_19_15.672886/model-00029-0.18226-0.94193-0.21954-0.94000.h5\n",
      "34/34 [==============================] - 178s 5s/step - loss: 0.1823 - categorical_accuracy: 0.9419 - val_loss: 0.2195 - val_categorical_accuracy: 0.9400\n",
      "Epoch 30/30\n",
      "34/34 [==============================] - ETA: 0s - loss: 0.1748 - categorical_accuracy: 0.9510\n",
      "Epoch 00030: val_loss did not improve from 0.21954\n",
      "34/34 [==============================] - 187s 5s/step - loss: 0.1748 - categorical_accuracy: 0.9510 - val_loss: 0.2700 - val_categorical_accuracy: 0.9000\n"
     ]
    }
   ],
   "source": [
    "print(\"Total Params:\", conv_3d6_model.count_params())\n",
    "history_model6=conv_3d6.train_model(conv_3d6_model,augment_data=True)"
   ]
  },
  {
   "cell_type": "code",
   "execution_count": 16,
   "metadata": {},
   "outputs": [
    {
     "name": "stdout",
     "output_type": "stream",
     "text": [
      "Max. Training Accuracy 0.9509803652763367\n",
      "Max. Validaiton Accuracy 0.9399999976158142\n"
     ]
    },
    {
     "data": {
      "image/png": "[encoded data removed]",
      "text/plain": [
       "<Figure size 1080x288 with 2 Axes>"
      ]
     },
     "metadata": {
      "needs_background": "light"
     },
     "output_type": "display_data"
    }
   ],
   "source": [
    "plot(history_model6)"
   ]
  },
  {
   "cell_type": "markdown",
   "metadata": {},
   "source": [
    "###### For the above model, we get the best validation accuracy of almost 94% and training accuracy of 95%\n",
    "- This is the best accuracy we have got so far.\n",
    "- This model has the lowest number of parameter when compared with Model-2 and Model-4. As a result it will have the lowest memory footprint and require less computational power."
   ]
  },
  {
   "cell_type": "markdown",
   "metadata": {},
   "source": [
    " "
   ]
  },
  {
   "cell_type": "markdown",
   "metadata": {},
   "source": [
    " "
   ]
  },
  {
   "cell_type": "markdown",
   "metadata": {},
   "source": [
    " "
   ]
  },
  {
   "cell_type": "markdown",
   "metadata": {},
   "source": [
    "## Model 7 - Reducing the number of parameters further"
   ]
  },
  {
   "cell_type": "code",
   "execution_count": 22,
   "metadata": {},
   "outputs": [],
   "source": [
    "class ModelConv3D7(ModelBuilder):\n",
    "    \n",
    "    def define_model(self,dense_neurons=64,dropout=0.25):\n",
    "\n",
    "        model = Sequential()\n",
    "        model.add(Conv3D(16, (3, 3, 3), padding='same',\n",
    "                 input_shape=(self.frames_to_sample,self.image_height,self.image_width,self.channels)))\n",
    "        model.add(Activation('relu'))\n",
    "        model.add(BatchNormalization())\n",
    "        model.add(MaxPooling3D(pool_size=(2, 2, 2)))\n",
    "\n",
    "        model.add(Conv3D(32, (3, 3, 3), padding='same'))\n",
    "        model.add(Activation('relu'))\n",
    "        model.add(BatchNormalization())\n",
    "        model.add(MaxPooling3D(pool_size=(2, 2, 2)))\n",
    "\n",
    "        model.add(Conv3D(64, (2, 2, 2), padding='same'))\n",
    "        model.add(Activation('relu'))\n",
    "        model.add(BatchNormalization())\n",
    "        model.add(MaxPooling3D(pool_size=(2, 2, 2)))\n",
    "\n",
    "        model.add(Conv3D(128, (2, 2, 2), padding='same'))\n",
    "        model.add(Activation('relu'))\n",
    "        model.add(BatchNormalization())\n",
    "        model.add(MaxPooling3D(pool_size=(2, 2, 2)))\n",
    "        \n",
    "        model.add(Flatten())\n",
    "        model.add(Dense(dense_neurons,activation='relu'))\n",
    "        model.add(BatchNormalization())\n",
    "        model.add(Dropout(dropout))\n",
    "\n",
    "        model.add(Dense(dense_neurons,activation='relu'))\n",
    "        model.add(BatchNormalization())\n",
    "        model.add(Dropout(dropout))\n",
    "\n",
    "        model.add(Dense(self.num_classes,activation='softmax'))\n",
    "\n",
    "        optimiser = tf.keras.optimizers.Adam()\n",
    "        model.compile(optimizer=optimiser, loss='categorical_crossentropy', metrics=['categorical_accuracy'])\n",
    "        return model"
   ]
  },
  {
   "cell_type": "code",
   "execution_count": 23,
   "metadata": {},
   "outputs": [
    {
     "name": "stdout",
     "output_type": "stream",
     "text": [
      "Model: \"sequential_2\"\n",
      "_________________________________________________________________\n",
      "Layer (type)                 Output Shape              Param #   \n",
      "=================================================================\n",
      "conv3d_8 (Conv3D)            (None, 16, 120, 120, 16)  1312      \n",
      "_________________________________________________________________\n",
      "activation_8 (Activation)    (None, 16, 120, 120, 16)  0         \n",
      "_________________________________________________________________\n",
      "batch_normalization_12 (Batc (None, 16, 120, 120, 16)  64        \n",
      "_________________________________________________________________\n",
      "max_pooling3d_8 (MaxPooling3 (None, 8, 60, 60, 16)     0         \n",
      "_________________________________________________________________\n",
      "conv3d_9 (Conv3D)            (None, 8, 60, 60, 32)     13856     \n",
      "_________________________________________________________________\n",
      "activation_9 (Activation)    (None, 8, 60, 60, 32)     0         \n",
      "_________________________________________________________________\n",
      "batch_normalization_13 (Batc (None, 8, 60, 60, 32)     128       \n",
      "_________________________________________________________________\n",
      "max_pooling3d_9 (MaxPooling3 (None, 4, 30, 30, 32)     0         \n",
      "_________________________________________________________________\n",
      "conv3d_10 (Conv3D)           (None, 4, 30, 30, 64)     16448     \n",
      "_________________________________________________________________\n",
      "activation_10 (Activation)   (None, 4, 30, 30, 64)     0         \n",
      "_________________________________________________________________\n",
      "batch_normalization_14 (Batc (None, 4, 30, 30, 64)     256       \n",
      "_________________________________________________________________\n",
      "max_pooling3d_10 (MaxPooling (None, 2, 15, 15, 64)     0         \n",
      "_________________________________________________________________\n",
      "conv3d_11 (Conv3D)           (None, 2, 15, 15, 128)    65664     \n",
      "_________________________________________________________________\n",
      "activation_11 (Activation)   (None, 2, 15, 15, 128)    0         \n",
      "_________________________________________________________________\n",
      "batch_normalization_15 (Batc (None, 2, 15, 15, 128)    512       \n",
      "_________________________________________________________________\n",
      "max_pooling3d_11 (MaxPooling (None, 1, 7, 7, 128)      0         \n",
      "_________________________________________________________________\n",
      "flatten_2 (Flatten)          (None, 6272)              0         \n",
      "_________________________________________________________________\n",
      "dense_6 (Dense)              (None, 64)                401472    \n",
      "_________________________________________________________________\n",
      "batch_normalization_16 (Batc (None, 64)                256       \n",
      "_________________________________________________________________\n",
      "dropout_4 (Dropout)          (None, 64)                0         \n",
      "_________________________________________________________________\n",
      "dense_7 (Dense)              (None, 64)                4160      \n",
      "_________________________________________________________________\n",
      "batch_normalization_17 (Batc (None, 64)                256       \n",
      "_________________________________________________________________\n",
      "dropout_5 (Dropout)          (None, 64)                0         \n",
      "_________________________________________________________________\n",
      "dense_8 (Dense)              (None, 5)                 325       \n",
      "=================================================================\n",
      "Total params: 504,709\n",
      "Trainable params: 503,973\n",
      "Non-trainable params: 736\n",
      "_________________________________________________________________\n"
     ]
    }
   ],
   "source": [
    "conv_3d7=ModelConv3D7()\n",
    "conv_3d7.initialize_path(project_folder)\n",
    "conv_3d7.initialize_image_properties(image_height=120,image_width=120)\n",
    "conv_3d7.initialize_hyperparams(frames_to_sample=16,batch_size=20,num_epochs=30)\n",
    "conv_3d7_model=conv_3d7.define_model(dense_neurons=64,dropout=0.25)\n",
    "conv_3d7_model.summary()"
   ]
  },
  {
   "cell_type": "code",
   "execution_count": 24,
   "metadata": {},
   "outputs": [
    {
     "name": "stdout",
     "output_type": "stream",
     "text": [
      "Total Params: 504709\n",
      "Source path =  /home/datasets/Project_data/train ; batch size = 20\n",
      "Epoch 1/30\n",
      "34/34 [==============================] - ETA: 0s - loss: 1.4948 - categorical_accuracy: 0.4253Source path =  /home/datasets/Project_data/val ; batch size = 20\n",
      "\n",
      "Epoch 00001: val_loss improved from inf to 1.73705, saving model to model_init_2021-10-2613_14_34.389929/model-00001-1.49480-0.42534-1.73705-0.26000.h5\n",
      "34/34 [==============================] - 180s 5s/step - loss: 1.4948 - categorical_accuracy: 0.4253 - val_loss: 1.7370 - val_categorical_accuracy: 0.2600\n",
      "Epoch 2/30\n",
      "34/34 [==============================] - ETA: 0s - loss: 1.0337 - categorical_accuracy: 0.6003\n",
      "Epoch 00002: val_loss did not improve from 1.73705\n",
      "34/34 [==============================] - 189s 6s/step - loss: 1.0337 - categorical_accuracy: 0.6003 - val_loss: 2.2017 - val_categorical_accuracy: 0.2200\n",
      "Epoch 3/30\n",
      "34/34 [==============================] - ETA: 0s - loss: 0.8881 - categorical_accuracy: 0.6508\n",
      "Epoch 00003: val_loss did not improve from 1.73705\n",
      "34/34 [==============================] - 191s 6s/step - loss: 0.8881 - categorical_accuracy: 0.6508 - val_loss: 2.5731 - val_categorical_accuracy: 0.3100\n",
      "Epoch 4/30\n",
      "34/34 [==============================] - ETA: 0s - loss: 0.7691 - categorical_accuracy: 0.7074\n",
      "Epoch 00004: val_loss did not improve from 1.73705\n",
      "34/34 [==============================] - 242s 7s/step - loss: 0.7691 - categorical_accuracy: 0.7074 - val_loss: 3.3060 - val_categorical_accuracy: 0.1900\n",
      "Epoch 5/30\n",
      "34/34 [==============================] - ETA: 0s - loss: 0.6268 - categorical_accuracy: 0.7624\n",
      "Epoch 00005: val_loss did not improve from 1.73705\n",
      "\n",
      "Epoch 00005: ReduceLROnPlateau reducing learning rate to 0.00020000000949949026.\n",
      "34/34 [==============================] - 294s 9s/step - loss: 0.6268 - categorical_accuracy: 0.7624 - val_loss: 3.2390 - val_categorical_accuracy: 0.2200\n",
      "Epoch 6/30\n",
      "34/34 [==============================] - ETA: 0s - loss: 0.4824 - categorical_accuracy: 0.8288\n",
      "Epoch 00006: val_loss did not improve from 1.73705\n",
      "34/34 [==============================] - 293s 9s/step - loss: 0.4824 - categorical_accuracy: 0.8288 - val_loss: 3.5250 - val_categorical_accuracy: 0.2300\n",
      "Epoch 7/30\n",
      "34/34 [==============================] - ETA: 0s - loss: 0.4347 - categorical_accuracy: 0.8386\n",
      "Epoch 00007: val_loss did not improve from 1.73705\n",
      "34/34 [==============================] - 278s 8s/step - loss: 0.4347 - categorical_accuracy: 0.8386 - val_loss: 3.7154 - val_categorical_accuracy: 0.2700\n",
      "Epoch 8/30\n",
      "34/34 [==============================] - ETA: 0s - loss: 0.3849 - categorical_accuracy: 0.8756\n",
      "Epoch 00008: val_loss did not improve from 1.73705\n",
      "34/34 [==============================] - 300s 9s/step - loss: 0.3849 - categorical_accuracy: 0.8756 - val_loss: 4.2753 - val_categorical_accuracy: 0.1500\n",
      "Epoch 9/30\n",
      "34/34 [==============================] - ETA: 0s - loss: 0.3360 - categorical_accuracy: 0.9065\n",
      "Epoch 00009: val_loss did not improve from 1.73705\n",
      "\n",
      "Epoch 00009: ReduceLROnPlateau reducing learning rate to 4.0000001899898055e-05.\n",
      "34/34 [==============================] - 288s 8s/step - loss: 0.3360 - categorical_accuracy: 0.9065 - val_loss: 3.4070 - val_categorical_accuracy: 0.2800\n",
      "Epoch 10/30\n",
      "34/34 [==============================] - ETA: 0s - loss: 0.3060 - categorical_accuracy: 0.9005\n",
      "Epoch 00010: val_loss did not improve from 1.73705\n",
      "34/34 [==============================] - 286s 8s/step - loss: 0.3060 - categorical_accuracy: 0.9005 - val_loss: 3.2679 - val_categorical_accuracy: 0.2900\n",
      "Epoch 11/30\n",
      "34/34 [==============================] - ETA: 0s - loss: 0.3327 - categorical_accuracy: 0.8876\n",
      "Epoch 00011: val_loss did not improve from 1.73705\n",
      "34/34 [==============================] - 252s 7s/step - loss: 0.3327 - categorical_accuracy: 0.8876 - val_loss: 2.8897 - val_categorical_accuracy: 0.3100\n",
      "Epoch 12/30\n",
      "34/34 [==============================] - ETA: 0s - loss: 0.3159 - categorical_accuracy: 0.8929\n",
      "Epoch 00012: val_loss did not improve from 1.73705\n",
      "34/34 [==============================] - 250s 7s/step - loss: 0.3159 - categorical_accuracy: 0.8929 - val_loss: 2.6001 - val_categorical_accuracy: 0.2600\n",
      "Epoch 13/30\n",
      "34/34 [==============================] - ETA: 0s - loss: 0.3192 - categorical_accuracy: 0.8891\n",
      "Epoch 00013: val_loss improved from 1.73705 to 1.73573, saving model to model_init_2021-10-2613_14_34.389929/model-00013-0.31916-0.88914-1.73573-0.43000.h5\n",
      "34/34 [==============================] - 200s 6s/step - loss: 0.3192 - categorical_accuracy: 0.8891 - val_loss: 1.7357 - val_categorical_accuracy: 0.4300\n",
      "Epoch 14/30\n",
      "34/34 [==============================] - ETA: 0s - loss: 0.3360 - categorical_accuracy: 0.8914\n",
      "Epoch 00014: val_loss improved from 1.73573 to 1.32391, saving model to model_init_2021-10-2613_14_34.389929/model-00014-0.33596-0.89140-1.32391-0.51000.h5\n",
      "34/34 [==============================] - 189s 6s/step - loss: 0.3360 - categorical_accuracy: 0.8914 - val_loss: 1.3239 - val_categorical_accuracy: 0.5100\n",
      "Epoch 15/30\n",
      "34/34 [==============================] - ETA: 0s - loss: 0.2970 - categorical_accuracy: 0.8922\n",
      "Epoch 00015: val_loss improved from 1.32391 to 1.08823, saving model to model_init_2021-10-2613_14_34.389929/model-00015-0.29698-0.89216-1.08823-0.58000.h5\n",
      "34/34 [==============================] - 195s 6s/step - loss: 0.2970 - categorical_accuracy: 0.8922 - val_loss: 1.0882 - val_categorical_accuracy: 0.5800\n",
      "Epoch 16/30\n",
      "34/34 [==============================] - ETA: 0s - loss: 0.3026 - categorical_accuracy: 0.9012\n",
      "Epoch 00016: val_loss improved from 1.08823 to 0.78782, saving model to model_init_2021-10-2613_14_34.389929/model-00016-0.30263-0.90121-0.78782-0.72000.h5\n",
      "34/34 [==============================] - 210s 6s/step - loss: 0.3026 - categorical_accuracy: 0.9012 - val_loss: 0.7878 - val_categorical_accuracy: 0.7200\n",
      "Epoch 17/30\n",
      "34/34 [==============================] - ETA: 0s - loss: 0.2638 - categorical_accuracy: 0.9163\n",
      "Epoch 00017: val_loss improved from 0.78782 to 0.68173, saving model to model_init_2021-10-2613_14_34.389929/model-00017-0.26384-0.91629-0.68173-0.77000.h5\n",
      "34/34 [==============================] - 202s 6s/step - loss: 0.2638 - categorical_accuracy: 0.9163 - val_loss: 0.6817 - val_categorical_accuracy: 0.7700\n",
      "Epoch 18/30\n",
      "34/34 [==============================] - ETA: 0s - loss: 0.2928 - categorical_accuracy: 0.8997\n",
      "Epoch 00018: val_loss improved from 0.68173 to 0.63848, saving model to model_init_2021-10-2613_14_34.389929/model-00018-0.29281-0.89970-0.63848-0.83000.h5\n",
      "34/34 [==============================] - 190s 6s/step - loss: 0.2928 - categorical_accuracy: 0.8997 - val_loss: 0.6385 - val_categorical_accuracy: 0.8300\n",
      "Epoch 19/30\n",
      "34/34 [==============================] - ETA: 0s - loss: 0.2690 - categorical_accuracy: 0.9155\n",
      "Epoch 00019: val_loss improved from 0.63848 to 0.42016, saving model to model_init_2021-10-2613_14_34.389929/model-00019-0.26902-0.91554-0.42016-0.86000.h5\n",
      "34/34 [==============================] - 192s 6s/step - loss: 0.2690 - categorical_accuracy: 0.9155 - val_loss: 0.4202 - val_categorical_accuracy: 0.8600\n",
      "Epoch 20/30\n",
      "34/34 [==============================] - ETA: 0s - loss: 0.2665 - categorical_accuracy: 0.9118\n",
      "Epoch 00020: val_loss did not improve from 0.42016\n",
      "34/34 [==============================] - 182s 5s/step - loss: 0.2665 - categorical_accuracy: 0.9118 - val_loss: 0.4600 - val_categorical_accuracy: 0.8300\n",
      "Epoch 21/30\n",
      "34/34 [==============================] - ETA: 0s - loss: 0.2742 - categorical_accuracy: 0.9178\n",
      "Epoch 00021: val_loss improved from 0.42016 to 0.41579, saving model to model_init_2021-10-2613_14_34.389929/model-00021-0.27424-0.91780-0.41579-0.85000.h5\n",
      "34/34 [==============================] - 216s 6s/step - loss: 0.2742 - categorical_accuracy: 0.9178 - val_loss: 0.4158 - val_categorical_accuracy: 0.8500\n",
      "Epoch 22/30\n",
      "34/34 [==============================] - ETA: 0s - loss: 0.2722 - categorical_accuracy: 0.9193\n",
      "Epoch 00022: val_loss improved from 0.41579 to 0.35203, saving model to model_init_2021-10-2613_14_34.389929/model-00022-0.27217-0.91931-0.35203-0.89000.h5\n",
      "34/34 [==============================] - 258s 8s/step - loss: 0.2722 - categorical_accuracy: 0.9193 - val_loss: 0.3520 - val_categorical_accuracy: 0.8900\n",
      "Epoch 23/30\n",
      "34/34 [==============================] - ETA: 0s - loss: 0.2548 - categorical_accuracy: 0.9268\n",
      "Epoch 00023: val_loss did not improve from 0.35203\n",
      "34/34 [==============================] - 272s 8s/step - loss: 0.2548 - categorical_accuracy: 0.9268 - val_loss: 0.4078 - val_categorical_accuracy: 0.8800\n",
      "Epoch 24/30\n",
      "34/34 [==============================] - ETA: 0s - loss: 0.2592 - categorical_accuracy: 0.9223\n",
      "Epoch 00024: val_loss did not improve from 0.35203\n",
      "34/34 [==============================] - 268s 8s/step - loss: 0.2592 - categorical_accuracy: 0.9223 - val_loss: 0.3757 - val_categorical_accuracy: 0.8800\n",
      "Epoch 25/30\n",
      "34/34 [==============================] - ETA: 0s - loss: 0.2517 - categorical_accuracy: 0.9246\n",
      "Epoch 00025: val_loss improved from 0.35203 to 0.30898, saving model to model_init_2021-10-2613_14_34.389929/model-00025-0.25167-0.92459-0.30898-0.90000.h5\n",
      "34/34 [==============================] - 231s 7s/step - loss: 0.2517 - categorical_accuracy: 0.9246 - val_loss: 0.3090 - val_categorical_accuracy: 0.9000\n",
      "Epoch 26/30\n",
      "34/34 [==============================] - ETA: 0s - loss: 0.2412 - categorical_accuracy: 0.9261\n",
      "Epoch 00026: val_loss did not improve from 0.30898\n",
      "34/34 [==============================] - 267s 8s/step - loss: 0.2412 - categorical_accuracy: 0.9261 - val_loss: 0.3502 - val_categorical_accuracy: 0.8800\n",
      "Epoch 27/30\n",
      "34/34 [==============================] - ETA: 0s - loss: 0.2490 - categorical_accuracy: 0.9231\n",
      "Epoch 00027: val_loss did not improve from 0.30898\n",
      "34/34 [==============================] - 245s 7s/step - loss: 0.2490 - categorical_accuracy: 0.9231 - val_loss: 0.3520 - val_categorical_accuracy: 0.8800\n",
      "Epoch 28/30\n",
      "34/34 [==============================] - ETA: 0s - loss: 0.2411 - categorical_accuracy: 0.9268\n",
      "Epoch 00028: val_loss did not improve from 0.30898\n",
      "34/34 [==============================] - 220s 6s/step - loss: 0.2411 - categorical_accuracy: 0.9268 - val_loss: 0.3299 - val_categorical_accuracy: 0.9100\n",
      "Epoch 29/30\n",
      "34/34 [==============================] - ETA: 0s - loss: 0.2382 - categorical_accuracy: 0.9253\n",
      "Epoch 00029: val_loss did not improve from 0.30898\n",
      "\n",
      "Epoch 00029: ReduceLROnPlateau reducing learning rate to 8.000000525498762e-06.\n",
      "34/34 [==============================] - 184s 5s/step - loss: 0.2382 - categorical_accuracy: 0.9253 - val_loss: 0.3592 - val_categorical_accuracy: 0.8800\n",
      "Epoch 30/30\n",
      "34/34 [==============================] - ETA: 0s - loss: 0.2151 - categorical_accuracy: 0.9382\n",
      "Epoch 00030: val_loss improved from 0.30898 to 0.27308, saving model to model_init_2021-10-2613_14_34.389929/model-00030-0.21509-0.93816-0.27308-0.90000.h5\n",
      "34/34 [==============================] - 179s 5s/step - loss: 0.2151 - categorical_accuracy: 0.9382 - val_loss: 0.2731 - val_categorical_accuracy: 0.9000\n"
     ]
    }
   ],
   "source": [
    "print(\"Total Params:\", conv_3d7_model.count_params())\n",
    "history_model7=conv_3d7.train_model(conv_3d7_model,augment_data=True)"
   ]
  },
  {
   "cell_type": "code",
   "execution_count": 25,
   "metadata": {},
   "outputs": [
    {
     "name": "stdout",
     "output_type": "stream",
     "text": [
      "Max. Training Accuracy 0.9381598830223083\n",
      "Max. Validaiton Accuracy 0.9100000262260437\n"
     ]
    },
    {
     "data": {
      "image/png": "[encoded data removed]",
      "text/plain": [
       "<Figure size 1080x288 with 2 Axes>"
      ]
     },
     "metadata": {
      "needs_background": "light"
     },
     "output_type": "display_data"
    }
   ],
   "source": [
    "plot(history_model7)"
   ]
  },
  {
   "cell_type": "markdown",
   "metadata": {},
   "source": [
    "## For the above model:\n",
    "- We have been able to minimize the number of parameters and also get a decent validation accuracy of 91%.\n",
    "- There is a little bit of overfitting as the training accuracy is almost 94%"
   ]
  },
  {
   "cell_type": "markdown",
   "metadata": {},
   "source": [
    " "
   ]
  },
  {
   "cell_type": "markdown",
   "metadata": {},
   "source": [
    " "
   ]
  },
  {
   "cell_type": "markdown",
   "metadata": {},
   "source": [
    " "
   ]
  },
  {
   "cell_type": "markdown",
   "metadata": {},
   "source": [
    "## Model 8"
   ]
  },
  {
   "cell_type": "markdown",
   "metadata": {},
   "source": [
    "Goal: Minimize the minor overfitting of the last model.\n",
    "\n",
    "- Lowering the learning rate from default(0.001) to 0.0005\n",
    "- Increasing the dropout from 0.25 to 0.5"
   ]
  },
  {
   "cell_type": "code",
   "execution_count": 27,
   "metadata": {},
   "outputs": [],
   "source": [
    "class ModelConv3D7(ModelBuilder):\n",
    "    \n",
    "    def define_model(self,dense_neurons=64,dropout=0.25):\n",
    "\n",
    "        model = Sequential()\n",
    "        model.add(Conv3D(16, (3, 3, 3), padding='same',\n",
    "                 input_shape=(self.frames_to_sample,self.image_height,self.image_width,self.channels)))\n",
    "        model.add(Activation('relu'))\n",
    "        model.add(BatchNormalization())\n",
    "        model.add(MaxPooling3D(pool_size=(2, 2, 2)))\n",
    "\n",
    "        model.add(Conv3D(32, (3, 3, 3), padding='same'))\n",
    "        model.add(Activation('relu'))\n",
    "        model.add(BatchNormalization())\n",
    "        model.add(MaxPooling3D(pool_size=(2, 2, 2)))\n",
    "\n",
    "        model.add(Conv3D(64, (2, 2, 2), padding='same'))\n",
    "        model.add(Activation('relu'))\n",
    "        model.add(BatchNormalization())\n",
    "        model.add(MaxPooling3D(pool_size=(2, 2, 2)))\n",
    "\n",
    "        model.add(Conv3D(128, (2, 2, 2), padding='same'))\n",
    "        model.add(Activation('relu'))\n",
    "        model.add(BatchNormalization())\n",
    "        model.add(MaxPooling3D(pool_size=(2, 2, 2)))\n",
    "        \n",
    "        model.add(Flatten())\n",
    "        model.add(Dense(dense_neurons,activation='relu'))\n",
    "        model.add(BatchNormalization())\n",
    "        model.add(Dropout(dropout))\n",
    "\n",
    "        model.add(Dense(dense_neurons,activation='relu'))\n",
    "        model.add(BatchNormalization())\n",
    "        model.add(Dropout(dropout))\n",
    "\n",
    "        model.add(Dense(self.num_classes,activation='softmax'))\n",
    "\n",
    "        optimiser = tf.keras.optimizers.Adam(learning_rate=0.0005)\n",
    "        model.compile(optimizer=optimiser, loss='categorical_crossentropy', metrics=['categorical_accuracy'])\n",
    "        return model"
   ]
  },
  {
   "cell_type": "code",
   "execution_count": 28,
   "metadata": {},
   "outputs": [
    {
     "name": "stdout",
     "output_type": "stream",
     "text": [
      "Model: \"sequential\"\n",
      "_________________________________________________________________\n",
      "Layer (type)                 Output Shape              Param #   \n",
      "=================================================================\n",
      "conv3d (Conv3D)              (None, 16, 120, 120, 16)  1312      \n",
      "_________________________________________________________________\n",
      "activation (Activation)      (None, 16, 120, 120, 16)  0         \n",
      "_________________________________________________________________\n",
      "batch_normalization (BatchNo (None, 16, 120, 120, 16)  64        \n",
      "_________________________________________________________________\n",
      "max_pooling3d (MaxPooling3D) (None, 8, 60, 60, 16)     0         \n",
      "_________________________________________________________________\n",
      "conv3d_1 (Conv3D)            (None, 8, 60, 60, 32)     13856     \n",
      "_________________________________________________________________\n",
      "activation_1 (Activation)    (None, 8, 60, 60, 32)     0         \n",
      "_________________________________________________________________\n",
      "batch_normalization_1 (Batch (None, 8, 60, 60, 32)     128       \n",
      "_________________________________________________________________\n",
      "max_pooling3d_1 (MaxPooling3 (None, 4, 30, 30, 32)     0         \n",
      "_________________________________________________________________\n",
      "conv3d_2 (Conv3D)            (None, 4, 30, 30, 64)     16448     \n",
      "_________________________________________________________________\n",
      "activation_2 (Activation)    (None, 4, 30, 30, 64)     0         \n",
      "_________________________________________________________________\n",
      "batch_normalization_2 (Batch (None, 4, 30, 30, 64)     256       \n",
      "_________________________________________________________________\n",
      "max_pooling3d_2 (MaxPooling3 (None, 2, 15, 15, 64)     0         \n",
      "_________________________________________________________________\n",
      "conv3d_3 (Conv3D)            (None, 2, 15, 15, 128)    65664     \n",
      "_________________________________________________________________\n",
      "activation_3 (Activation)    (None, 2, 15, 15, 128)    0         \n",
      "_________________________________________________________________\n",
      "batch_normalization_3 (Batch (None, 2, 15, 15, 128)    512       \n",
      "_________________________________________________________________\n",
      "max_pooling3d_3 (MaxPooling3 (None, 1, 7, 7, 128)      0         \n",
      "_________________________________________________________________\n",
      "flatten (Flatten)            (None, 6272)              0         \n",
      "_________________________________________________________________\n",
      "dense (Dense)                (None, 64)                401472    \n",
      "_________________________________________________________________\n",
      "batch_normalization_4 (Batch (None, 64)                256       \n",
      "_________________________________________________________________\n",
      "dropout (Dropout)            (None, 64)                0         \n",
      "_________________________________________________________________\n",
      "dense_1 (Dense)              (None, 64)                4160      \n",
      "_________________________________________________________________\n",
      "batch_normalization_5 (Batch (None, 64)                256       \n",
      "_________________________________________________________________\n",
      "dropout_1 (Dropout)          (None, 64)                0         \n",
      "_________________________________________________________________\n",
      "dense_2 (Dense)              (None, 5)                 325       \n",
      "=================================================================\n",
      "Total params: 504,709\n",
      "Trainable params: 503,973\n",
      "Non-trainable params: 736\n",
      "_________________________________________________________________\n"
     ]
    }
   ],
   "source": [
    "conv_3d7=ModelConv3D7()\n",
    "conv_3d7.initialize_path(project_folder)\n",
    "conv_3d7.initialize_image_properties(image_height=120,image_width=120)\n",
    "conv_3d7.initialize_hyperparams(frames_to_sample=16,batch_size=20,num_epochs=30)\n",
    "conv_3d7_model=conv_3d7.define_model(dense_neurons=64,dropout=0.5)\n",
    "conv_3d7_model.summary()"
   ]
  },
  {
   "cell_type": "code",
   "execution_count": 29,
   "metadata": {},
   "outputs": [
    {
     "name": "stdout",
     "output_type": "stream",
     "text": [
      "Total Params: 504709\n",
      "Source path =  /home/datasets/Project_data/train ; batch size = 20\n",
      "Epoch 1/30\n",
      "34/34 [==============================] - ETA: 0s - loss: 2.2321 - categorical_accuracy: 0.2888Source path =  /home/datasets/Project_data/val ; batch size = 20\n",
      "\n",
      "Epoch 00001: val_loss improved from inf to 1.98623, saving model to model_init_2021-10-2615_24_24.264995/model-00001-2.23214-0.28884-1.98623-0.16000.h5\n",
      "34/34 [==============================] - 207s 6s/step - loss: 2.2321 - categorical_accuracy: 0.2888 - val_loss: 1.9862 - val_categorical_accuracy: 0.1600\n",
      "Epoch 2/30\n",
      "34/34 [==============================] - ETA: 0s - loss: 1.7703 - categorical_accuracy: 0.3808\n",
      "Epoch 00002: val_loss did not improve from 1.98623\n",
      "34/34 [==============================] - 207s 6s/step - loss: 1.7703 - categorical_accuracy: 0.3808 - val_loss: 3.1138 - val_categorical_accuracy: 0.1400\n",
      "Epoch 3/30\n",
      "34/34 [==============================] - ETA: 0s - loss: 1.5677 - categorical_accuracy: 0.4427\n",
      "Epoch 00003: val_loss did not improve from 1.98623\n",
      "34/34 [==============================] - 225s 7s/step - loss: 1.5677 - categorical_accuracy: 0.4427 - val_loss: 3.9972 - val_categorical_accuracy: 0.1800\n",
      "Epoch 4/30\n",
      "34/34 [==============================] - ETA: 0s - loss: 1.4515 - categorical_accuracy: 0.4487\n",
      "Epoch 00004: val_loss did not improve from 1.98623\n",
      "34/34 [==============================] - 222s 7s/step - loss: 1.4515 - categorical_accuracy: 0.4487 - val_loss: 4.9170 - val_categorical_accuracy: 0.1500\n",
      "Epoch 5/30\n",
      "34/34 [==============================] - ETA: 0s - loss: 1.2939 - categorical_accuracy: 0.5083\n",
      "Epoch 00005: val_loss did not improve from 1.98623\n",
      "\n",
      "Epoch 00005: ReduceLROnPlateau reducing learning rate to 0.00010000000474974513.\n",
      "34/34 [==============================] - 188s 6s/step - loss: 1.2939 - categorical_accuracy: 0.5083 - val_loss: 4.6427 - val_categorical_accuracy: 0.2200\n",
      "Epoch 6/30\n",
      "34/34 [==============================] - ETA: 0s - loss: 1.1988 - categorical_accuracy: 0.5400\n",
      "Epoch 00006: val_loss did not improve from 1.98623\n",
      "34/34 [==============================] - 195s 6s/step - loss: 1.1988 - categorical_accuracy: 0.5400 - val_loss: 4.5539 - val_categorical_accuracy: 0.1900\n",
      "Epoch 7/30\n",
      "34/34 [==============================] - ETA: 0s - loss: 1.1272 - categorical_accuracy: 0.5656\n",
      "Epoch 00007: val_loss did not improve from 1.98623\n",
      "34/34 [==============================] - 168s 5s/step - loss: 1.1272 - categorical_accuracy: 0.5656 - val_loss: 5.1522 - val_categorical_accuracy: 0.1400\n",
      "Epoch 8/30\n",
      "34/34 [==============================] - ETA: 0s - loss: 1.0104 - categorical_accuracy: 0.6139\n",
      "Epoch 00008: val_loss did not improve from 1.98623\n",
      "34/34 [==============================] - 166s 5s/step - loss: 1.0104 - categorical_accuracy: 0.6139 - val_loss: 5.2161 - val_categorical_accuracy: 0.1500\n",
      "Epoch 9/30\n",
      "34/34 [==============================] - ETA: 0s - loss: 1.0049 - categorical_accuracy: 0.6094\n",
      "Epoch 00009: val_loss did not improve from 1.98623\n",
      "\n",
      "Epoch 00009: ReduceLROnPlateau reducing learning rate to 2.0000000949949027e-05.\n",
      "34/34 [==============================] - 171s 5s/step - loss: 1.0049 - categorical_accuracy: 0.6094 - val_loss: 4.7981 - val_categorical_accuracy: 0.1800\n",
      "Epoch 10/30\n",
      "34/34 [==============================] - ETA: 0s - loss: 0.9965 - categorical_accuracy: 0.6214\n",
      "Epoch 00010: val_loss did not improve from 1.98623\n",
      "34/34 [==============================] - 190s 6s/step - loss: 0.9965 - categorical_accuracy: 0.6214 - val_loss: 4.6062 - val_categorical_accuracy: 0.1800\n",
      "Epoch 11/30\n",
      "34/34 [==============================] - ETA: 0s - loss: 0.9554 - categorical_accuracy: 0.6214\n",
      "Epoch 00011: val_loss did not improve from 1.98623\n",
      "34/34 [==============================] - 200s 6s/step - loss: 0.9554 - categorical_accuracy: 0.6214 - val_loss: 4.1228 - val_categorical_accuracy: 0.2000\n",
      "Epoch 12/30\n",
      "34/34 [==============================] - ETA: 0s - loss: 0.9682 - categorical_accuracy: 0.6161\n",
      "Epoch 00012: val_loss did not improve from 1.98623\n",
      "34/34 [==============================] - 199s 6s/step - loss: 0.9682 - categorical_accuracy: 0.6161 - val_loss: 3.4926 - val_categorical_accuracy: 0.2200\n",
      "Epoch 13/30\n",
      "34/34 [==============================] - ETA: 0s - loss: 0.9931 - categorical_accuracy: 0.6222\n",
      "Epoch 00013: val_loss did not improve from 1.98623\n",
      "\n",
      "Epoch 00013: ReduceLROnPlateau reducing learning rate to 4.000000262749381e-06.\n",
      "34/34 [==============================] - 208s 6s/step - loss: 0.9931 - categorical_accuracy: 0.6222 - val_loss: 2.7439 - val_categorical_accuracy: 0.3100\n",
      "Epoch 14/30\n",
      "34/34 [==============================] - ETA: 0s - loss: 0.9371 - categorical_accuracy: 0.6395\n",
      "Epoch 00014: val_loss did not improve from 1.98623\n",
      "34/34 [==============================] - 217s 6s/step - loss: 0.9371 - categorical_accuracy: 0.6395 - val_loss: 2.1271 - val_categorical_accuracy: 0.3300\n",
      "Epoch 15/30\n",
      "34/34 [==============================] - ETA: 0s - loss: 0.9750 - categorical_accuracy: 0.6275\n",
      "Epoch 00015: val_loss improved from 1.98623 to 1.56624, saving model to model_init_2021-10-2615_24_24.264995/model-00015-0.97498-0.62745-1.56624-0.44000.h5\n",
      "34/34 [==============================] - 195s 6s/step - loss: 0.9750 - categorical_accuracy: 0.6275 - val_loss: 1.5662 - val_categorical_accuracy: 0.4400\n",
      "Epoch 16/30\n",
      "34/34 [==============================] - ETA: 0s - loss: 0.9331 - categorical_accuracy: 0.6380\n",
      "Epoch 00016: val_loss improved from 1.56624 to 1.28459, saving model to model_init_2021-10-2615_24_24.264995/model-00016-0.93315-0.63801-1.28459-0.50000.h5\n",
      "34/34 [==============================] - 195s 6s/step - loss: 0.9331 - categorical_accuracy: 0.6380 - val_loss: 1.2846 - val_categorical_accuracy: 0.5000\n",
      "Epoch 17/30\n",
      "34/34 [==============================] - ETA: 0s - loss: 0.9236 - categorical_accuracy: 0.6478\n",
      "Epoch 00017: val_loss improved from 1.28459 to 1.06914, saving model to model_init_2021-10-2615_24_24.264995/model-00017-0.92361-0.64781-1.06914-0.64000.h5\n",
      "34/34 [==============================] - 184s 5s/step - loss: 0.9236 - categorical_accuracy: 0.6478 - val_loss: 1.0691 - val_categorical_accuracy: 0.6400\n",
      "Epoch 18/30\n",
      "34/34 [==============================] - ETA: 0s - loss: 0.9371 - categorical_accuracy: 0.6395\n",
      "Epoch 00018: val_loss improved from 1.06914 to 0.86664, saving model to model_init_2021-10-2615_24_24.264995/model-00018-0.93705-0.63952-0.86664-0.64000.h5\n",
      "34/34 [==============================] - 197s 6s/step - loss: 0.9371 - categorical_accuracy: 0.6395 - val_loss: 0.8666 - val_categorical_accuracy: 0.6400\n",
      "Epoch 19/30\n",
      "34/34 [==============================] - ETA: 0s - loss: 0.9442 - categorical_accuracy: 0.6335\n",
      "Epoch 00019: val_loss improved from 0.86664 to 0.74542, saving model to model_init_2021-10-2615_24_24.264995/model-00019-0.94424-0.63348-0.74542-0.71000.h5\n",
      "34/34 [==============================] - 195s 6s/step - loss: 0.9442 - categorical_accuracy: 0.6335 - val_loss: 0.7454 - val_categorical_accuracy: 0.7100\n",
      "Epoch 20/30\n",
      "34/34 [==============================] - ETA: 0s - loss: 0.9305 - categorical_accuracy: 0.6365\n",
      "Epoch 00020: val_loss improved from 0.74542 to 0.71863, saving model to model_init_2021-10-2615_24_24.264995/model-00020-0.93052-0.63650-0.71863-0.78000.h5\n",
      "34/34 [==============================] - 203s 6s/step - loss: 0.9305 - categorical_accuracy: 0.6365 - val_loss: 0.7186 - val_categorical_accuracy: 0.7800\n",
      "Epoch 21/30\n",
      "34/34 [==============================] - ETA: 0s - loss: 0.9553 - categorical_accuracy: 0.6252\n",
      "Epoch 00021: val_loss improved from 0.71863 to 0.65717, saving model to model_init_2021-10-2615_24_24.264995/model-00021-0.95526-0.62519-0.65717-0.80000.h5\n",
      "34/34 [==============================] - 223s 7s/step - loss: 0.9553 - categorical_accuracy: 0.6252 - val_loss: 0.6572 - val_categorical_accuracy: 0.8000\n",
      "Epoch 22/30\n",
      "34/34 [==============================] - ETA: 0s - loss: 0.8934 - categorical_accuracy: 0.6478\n",
      "Epoch 00022: val_loss improved from 0.65717 to 0.60836, saving model to model_init_2021-10-2615_24_24.264995/model-00022-0.89343-0.64781-0.60836-0.82000.h5\n",
      "34/34 [==============================] - 292s 9s/step - loss: 0.8934 - categorical_accuracy: 0.6478 - val_loss: 0.6084 - val_categorical_accuracy: 0.8200\n",
      "Epoch 23/30\n",
      "34/34 [==============================] - ETA: 0s - loss: 0.9423 - categorical_accuracy: 0.6554\n",
      "Epoch 00023: val_loss did not improve from 0.60836\n",
      "34/34 [==============================] - 289s 8s/step - loss: 0.9423 - categorical_accuracy: 0.6554 - val_loss: 0.6119 - val_categorical_accuracy: 0.8600\n",
      "Epoch 24/30\n",
      "34/34 [==============================] - ETA: 0s - loss: 0.8444 - categorical_accuracy: 0.6531\n",
      "Epoch 00024: val_loss improved from 0.60836 to 0.59485, saving model to model_init_2021-10-2615_24_24.264995/model-00024-0.84436-0.65309-0.59485-0.82000.h5\n",
      "34/34 [==============================] - 266s 8s/step - loss: 0.8444 - categorical_accuracy: 0.6531 - val_loss: 0.5948 - val_categorical_accuracy: 0.8200\n",
      "Epoch 25/30\n",
      "34/34 [==============================] - ETA: 0s - loss: 0.9548 - categorical_accuracy: 0.6523\n",
      "Epoch 00025: val_loss improved from 0.59485 to 0.57832, saving model to model_init_2021-10-2615_24_24.264995/model-00025-0.95482-0.65234-0.57832-0.82000.h5\n",
      "34/34 [==============================] - 310s 9s/step - loss: 0.9548 - categorical_accuracy: 0.6523 - val_loss: 0.5783 - val_categorical_accuracy: 0.8200\n",
      "Epoch 26/30\n",
      "34/34 [==============================] - ETA: 0s - loss: 0.9269 - categorical_accuracy: 0.6637\n",
      "Epoch 00026: val_loss did not improve from 0.57832\n",
      "34/34 [==============================] - 273s 8s/step - loss: 0.9269 - categorical_accuracy: 0.6637 - val_loss: 0.6014 - val_categorical_accuracy: 0.8100\n",
      "Epoch 27/30\n",
      "34/34 [==============================] - ETA: 0s - loss: 0.9358 - categorical_accuracy: 0.6440\n",
      "Epoch 00027: val_loss did not improve from 0.57832\n",
      "34/34 [==============================] - 181s 5s/step - loss: 0.9358 - categorical_accuracy: 0.6440 - val_loss: 0.6125 - val_categorical_accuracy: 0.7900\n",
      "Epoch 28/30\n",
      "34/34 [==============================] - ETA: 0s - loss: 0.9664 - categorical_accuracy: 0.6448\n",
      "Epoch 00028: val_loss did not improve from 0.57832\n",
      "34/34 [==============================] - 181s 5s/step - loss: 0.9664 - categorical_accuracy: 0.6448 - val_loss: 0.5960 - val_categorical_accuracy: 0.8200\n",
      "Epoch 29/30\n",
      "34/34 [==============================] - ETA: 0s - loss: 0.9035 - categorical_accuracy: 0.6531\n",
      "Epoch 00029: val_loss did not improve from 0.57832\n",
      "\n",
      "Epoch 00029: ReduceLROnPlateau reducing learning rate to 8.000000889296644e-07.\n",
      "34/34 [==============================] - 282s 8s/step - loss: 0.9035 - categorical_accuracy: 0.6531 - val_loss: 0.6665 - val_categorical_accuracy: 0.7700\n",
      "Epoch 30/30\n",
      "34/34 [==============================] - ETA: 0s - loss: 0.8928 - categorical_accuracy: 0.6629\n",
      "Epoch 00030: val_loss did not improve from 0.57832\n",
      "34/34 [==============================] - 304s 9s/step - loss: 0.8928 - categorical_accuracy: 0.6629 - val_loss: 0.6117 - val_categorical_accuracy: 0.7800\n"
     ]
    }
   ],
   "source": [
    "print(\"Total Params:\", conv_3d7_model.count_params())\n",
    "history_model7=conv_3d7.train_model(conv_3d7_model,augment_data=True)"
   ]
  },
  {
   "cell_type": "code",
   "execution_count": 30,
   "metadata": {},
   "outputs": [
    {
     "name": "stdout",
     "output_type": "stream",
     "text": [
      "Max. Training Accuracy 0.6636500954627991\n",
      "Max. Validaiton Accuracy 0.8600000143051147\n"
     ]
    },
    {
     "data": {
      "image/png": "[encoded data removed]",
      "text/plain": [
       "<Figure size 1080x288 with 2 Axes>"
      ]
     },
     "metadata": {
      "needs_background": "light"
     },
     "output_type": "display_data"
    }
   ],
   "source": [
    "plot(history_model7)"
   ]
  },
  {
   "cell_type": "markdown",
   "metadata": {},
   "source": [
    " "
   ]
  },
  {
   "cell_type": "markdown",
   "metadata": {},
   "source": [
    " "
   ]
  },
  {
   "cell_type": "markdown",
   "metadata": {},
   "source": [
    " "
   ]
  },
  {
   "cell_type": "markdown",
   "metadata": {},
   "source": [
    "## Model 9 - CNN- LSTM Model"
   ]
  },
  {
   "cell_type": "code",
   "execution_count": 42,
   "metadata": {},
   "outputs": [],
   "source": [
    "class RNNCNN1(ModelBuilder):\n",
    "    \n",
    "    def define_model(self,lstm_cells=64,dense_neurons=64,dropout=0.25):\n",
    "\n",
    "        model = Sequential()\n",
    "\n",
    "        model.add(TimeDistributed(Conv2D(16, (3, 3) , padding='same', activation='relu'),\n",
    "                                  input_shape=(self.frames_to_sample,self.image_height,self.image_width,self.channels)))\n",
    "        model.add(TimeDistributed(BatchNormalization()))\n",
    "        model.add(TimeDistributed(MaxPooling2D((2, 2))))\n",
    "        \n",
    "        model.add(TimeDistributed(Conv2D(32, (3, 3) , padding='same', activation='relu')))\n",
    "        model.add(TimeDistributed(BatchNormalization()))\n",
    "        model.add(TimeDistributed(MaxPooling2D((2, 2))))\n",
    "        \n",
    "        model.add(TimeDistributed(Conv2D(64, (3, 3) , padding='same', activation='relu')))\n",
    "        model.add(TimeDistributed(BatchNormalization()))\n",
    "        model.add(TimeDistributed(MaxPooling2D((2, 2))))\n",
    "        \n",
    "        model.add(TimeDistributed(Conv2D(128, (3, 3) , padding='same', activation='relu')))\n",
    "        model.add(TimeDistributed(BatchNormalization()))\n",
    "        model.add(TimeDistributed(MaxPooling2D((2, 2))))\n",
    "        \n",
    "        model.add(TimeDistributed(Conv2D(256, (3, 3) , padding='same', activation='relu')))\n",
    "        model.add(TimeDistributed(BatchNormalization()))\n",
    "        model.add(TimeDistributed(MaxPooling2D((2, 2))))\n",
    "        \n",
    "        #model.add(TimeDistributed(Conv2D(512, (2, 2) , padding='valid', activation='relu')))\n",
    "        #model.add(TimeDistributed(BatchNormalization()))\n",
    "        #model.add(TimeDistributed(MaxPooling2D((2, 2))))\n",
    "\n",
    "        model.add(TimeDistributed(Flatten()))\n",
    "\n",
    "\n",
    "        model.add(LSTM(lstm_cells))\n",
    "        model.add(Dropout(dropout))\n",
    "        \n",
    "        model.add(Dense(dense_neurons,activation='relu'))\n",
    "        model.add(Dropout(dropout))\n",
    "        \n",
    "        model.add(Dense(self.num_classes, activation='softmax'))\n",
    "        optimiser = tf.keras.optimizers.Adam()\n",
    "        model.compile(optimizer=optimiser, loss='categorical_crossentropy', metrics=['categorical_accuracy'])\n",
    "        return model"
   ]
  },
  {
   "cell_type": "code",
   "execution_count": 44,
   "metadata": {},
   "outputs": [
    {
     "name": "stdout",
     "output_type": "stream",
     "text": [
      "Model: \"sequential_1\"\n",
      "_________________________________________________________________\n",
      "Layer (type)                 Output Shape              Param #   \n",
      "=================================================================\n",
      "time_distributed_16 (TimeDis (None, 20, 120, 120, 16)  448       \n",
      "_________________________________________________________________\n",
      "time_distributed_17 (TimeDis (None, 20, 120, 120, 16)  64        \n",
      "_________________________________________________________________\n",
      "time_distributed_18 (TimeDis (None, 20, 60, 60, 16)    0         \n",
      "_________________________________________________________________\n",
      "time_distributed_19 (TimeDis (None, 20, 60, 60, 32)    4640      \n",
      "_________________________________________________________________\n",
      "time_distributed_20 (TimeDis (None, 20, 60, 60, 32)    128       \n",
      "_________________________________________________________________\n",
      "time_distributed_21 (TimeDis (None, 20, 30, 30, 32)    0         \n",
      "_________________________________________________________________\n",
      "time_distributed_22 (TimeDis (None, 20, 30, 30, 64)    18496     \n",
      "_________________________________________________________________\n",
      "time_distributed_23 (TimeDis (None, 20, 30, 30, 64)    256       \n",
      "_________________________________________________________________\n",
      "time_distributed_24 (TimeDis (None, 20, 15, 15, 64)    0         \n",
      "_________________________________________________________________\n",
      "time_distributed_25 (TimeDis (None, 20, 15, 15, 128)   73856     \n",
      "_________________________________________________________________\n",
      "time_distributed_26 (TimeDis (None, 20, 15, 15, 128)   512       \n",
      "_________________________________________________________________\n",
      "time_distributed_27 (TimeDis (None, 20, 7, 7, 128)     0         \n",
      "_________________________________________________________________\n",
      "time_distributed_28 (TimeDis (None, 20, 7, 7, 256)     295168    \n",
      "_________________________________________________________________\n",
      "time_distributed_29 (TimeDis (None, 20, 7, 7, 256)     1024      \n",
      "_________________________________________________________________\n",
      "time_distributed_30 (TimeDis (None, 20, 3, 3, 256)     0         \n",
      "_________________________________________________________________\n",
      "time_distributed_31 (TimeDis (None, 20, 2304)          0         \n",
      "_________________________________________________________________\n",
      "lstm_1 (LSTM)                (None, 128)               1245696   \n",
      "_________________________________________________________________\n",
      "dropout_2 (Dropout)          (None, 128)               0         \n",
      "_________________________________________________________________\n",
      "dense_2 (Dense)              (None, 128)               16512     \n",
      "_________________________________________________________________\n",
      "dropout_3 (Dropout)          (None, 128)               0         \n",
      "_________________________________________________________________\n",
      "dense_3 (Dense)              (None, 5)                 645       \n",
      "=================================================================\n",
      "Total params: 1,657,445\n",
      "Trainable params: 1,656,453\n",
      "Non-trainable params: 992\n",
      "_________________________________________________________________\n"
     ]
    }
   ],
   "source": [
    "rnn_cnn1=RNNCNN1()\n",
    "rnn_cnn1.initialize_path(project_folder)\n",
    "rnn_cnn1.initialize_image_properties(image_height=120,image_width=120)\n",
    "rnn_cnn1.initialize_hyperparams(frames_to_sample=20,batch_size=20,num_epochs=25)\n",
    "rnn_cnn1_model=rnn_cnn1.define_model(lstm_cells=128,dense_neurons=128,dropout=0.25)\n",
    "rnn_cnn1_model.summary()"
   ]
  },
  {
   "cell_type": "code",
   "execution_count": 45,
   "metadata": {},
   "outputs": [
    {
     "name": "stdout",
     "output_type": "stream",
     "text": [
      "Total Params: 1657445\n",
      "Source path =  /home/datasets/Project_data/train ; batch size = 20\n",
      "Epoch 1/25\n",
      "34/34 [==============================] - ETA: 0s - loss: 1.5685 - categorical_accuracy: 0.2971Source path =  /home/datasets/Project_data/val ; batch size = 20\n",
      "\n",
      "Epoch 00001: val_loss improved from inf to 1.61876, saving model to model_init_2021-10-2510_45_42.226002/model-00001-1.56847-0.29713-1.61876-0.20000.h5\n",
      "34/34 [==============================] - 196s 6s/step - loss: 1.5685 - categorical_accuracy: 0.2971 - val_loss: 1.6188 - val_categorical_accuracy: 0.2000\n",
      "Epoch 2/25\n",
      "34/34 [==============================] - ETA: 0s - loss: 1.3476 - categorical_accuracy: 0.4517\n",
      "Epoch 00002: val_loss did not improve from 1.61876\n",
      "34/34 [==============================] - 195s 6s/step - loss: 1.3476 - categorical_accuracy: 0.4517 - val_loss: 1.6502 - val_categorical_accuracy: 0.2400\n",
      "Epoch 3/25\n",
      "34/34 [==============================] - ETA: 0s - loss: 1.2162 - categorical_accuracy: 0.5234\n",
      "Epoch 00003: val_loss did not improve from 1.61876\n",
      "34/34 [==============================] - 194s 6s/step - loss: 1.2162 - categorical_accuracy: 0.5234 - val_loss: 1.6994 - val_categorical_accuracy: 0.2300\n",
      "Epoch 4/25\n",
      "34/34 [==============================] - ETA: 0s - loss: 1.1064 - categorical_accuracy: 0.5807\n",
      "Epoch 00004: val_loss did not improve from 1.61876\n",
      "34/34 [==============================] - 196s 6s/step - loss: 1.1064 - categorical_accuracy: 0.5807 - val_loss: 1.7605 - val_categorical_accuracy: 0.2200\n",
      "Epoch 5/25\n",
      "34/34 [==============================] - ETA: 0s - loss: 1.0410 - categorical_accuracy: 0.6244\n",
      "Epoch 00005: val_loss did not improve from 1.61876\n",
      "\n",
      "Epoch 00005: ReduceLROnPlateau reducing learning rate to 0.00020000000949949026.\n",
      "34/34 [==============================] - 191s 6s/step - loss: 1.0410 - categorical_accuracy: 0.6244 - val_loss: 1.8274 - val_categorical_accuracy: 0.2400\n",
      "Epoch 6/25\n",
      "34/34 [==============================] - ETA: 0s - loss: 0.9929 - categorical_accuracy: 0.6388\n",
      "Epoch 00006: val_loss did not improve from 1.61876\n",
      "34/34 [==============================] - 193s 6s/step - loss: 0.9929 - categorical_accuracy: 0.6388 - val_loss: 1.8367 - val_categorical_accuracy: 0.2100\n",
      "Epoch 7/25\n",
      "34/34 [==============================] - ETA: 0s - loss: 0.9439 - categorical_accuracy: 0.6750\n",
      "Epoch 00007: val_loss did not improve from 1.61876\n",
      "34/34 [==============================] - 192s 6s/step - loss: 0.9439 - categorical_accuracy: 0.6750 - val_loss: 1.8644 - val_categorical_accuracy: 0.2100\n",
      "Epoch 8/25\n",
      "34/34 [==============================] - ETA: 0s - loss: 0.9500 - categorical_accuracy: 0.6659\n",
      "Epoch 00008: val_loss did not improve from 1.61876\n",
      "34/34 [==============================] - 192s 6s/step - loss: 0.9500 - categorical_accuracy: 0.6659 - val_loss: 1.8681 - val_categorical_accuracy: 0.2400\n",
      "Epoch 9/25\n",
      "34/34 [==============================] - ETA: 0s - loss: 0.9091 - categorical_accuracy: 0.6983\n",
      "Epoch 00009: val_loss did not improve from 1.61876\n",
      "\n",
      "Epoch 00009: ReduceLROnPlateau reducing learning rate to 4.0000001899898055e-05.\n",
      "34/34 [==============================] - 194s 6s/step - loss: 0.9091 - categorical_accuracy: 0.6983 - val_loss: 1.6566 - val_categorical_accuracy: 0.3300\n",
      "Epoch 10/25\n",
      "34/34 [==============================] - ETA: 0s - loss: 0.9212 - categorical_accuracy: 0.6817\n",
      "Epoch 00010: val_loss did not improve from 1.61876\n",
      "34/34 [==============================] - 192s 6s/step - loss: 0.9212 - categorical_accuracy: 0.6817 - val_loss: 1.6938 - val_categorical_accuracy: 0.2600\n",
      "Epoch 11/25\n",
      "34/34 [==============================] - ETA: 0s - loss: 0.9050 - categorical_accuracy: 0.6953\n",
      "Epoch 00011: val_loss did not improve from 1.61876\n",
      "34/34 [==============================] - 191s 6s/step - loss: 0.9050 - categorical_accuracy: 0.6953 - val_loss: 1.6410 - val_categorical_accuracy: 0.3200\n",
      "Epoch 12/25\n",
      "34/34 [==============================] - ETA: 0s - loss: 0.9105 - categorical_accuracy: 0.6938\n",
      "Epoch 00012: val_loss improved from 1.61876 to 1.57045, saving model to model_init_2021-10-2510_45_42.226002/model-00012-0.91049-0.69382-1.57045-0.32000.h5\n",
      "34/34 [==============================] - 193s 6s/step - loss: 0.9105 - categorical_accuracy: 0.6938 - val_loss: 1.5704 - val_categorical_accuracy: 0.3200\n",
      "Epoch 13/25\n",
      "34/34 [==============================] - ETA: 0s - loss: 0.8969 - categorical_accuracy: 0.6863\n",
      "Epoch 00013: val_loss improved from 1.57045 to 1.52097, saving model to model_init_2021-10-2510_45_42.226002/model-00013-0.89688-0.68627-1.52097-0.32000.h5\n",
      "34/34 [==============================] - 209s 6s/step - loss: 0.8969 - categorical_accuracy: 0.6863 - val_loss: 1.5210 - val_categorical_accuracy: 0.3200\n",
      "Epoch 14/25\n",
      "34/34 [==============================] - ETA: 0s - loss: 0.9011 - categorical_accuracy: 0.7164\n",
      "Epoch 00014: val_loss improved from 1.52097 to 1.36633, saving model to model_init_2021-10-2510_45_42.226002/model-00014-0.90115-0.71644-1.36633-0.40000.h5\n",
      "34/34 [==============================] - 204s 6s/step - loss: 0.9011 - categorical_accuracy: 0.7164 - val_loss: 1.3663 - val_categorical_accuracy: 0.4000\n",
      "Epoch 15/25\n",
      "34/34 [==============================] - ETA: 0s - loss: 0.8999 - categorical_accuracy: 0.6976\n",
      "Epoch 00015: val_loss improved from 1.36633 to 1.25809, saving model to model_init_2021-10-2510_45_42.226002/model-00015-0.89988-0.69759-1.25809-0.46000.h5\n",
      "34/34 [==============================] - 218s 6s/step - loss: 0.8999 - categorical_accuracy: 0.6976 - val_loss: 1.2581 - val_categorical_accuracy: 0.4600\n",
      "Epoch 16/25\n",
      "34/34 [==============================] - ETA: 0s - loss: 0.8924 - categorical_accuracy: 0.7081\n",
      "Epoch 00016: val_loss improved from 1.25809 to 1.21687, saving model to model_init_2021-10-2510_45_42.226002/model-00016-0.89237-0.70814-1.21687-0.48000.h5\n",
      "34/34 [==============================] - 214s 6s/step - loss: 0.8924 - categorical_accuracy: 0.7081 - val_loss: 1.2169 - val_categorical_accuracy: 0.4800\n",
      "Epoch 17/25\n",
      "34/34 [==============================] - ETA: 0s - loss: 0.8992 - categorical_accuracy: 0.6923\n",
      "Epoch 00017: val_loss improved from 1.21687 to 1.13354, saving model to model_init_2021-10-2510_45_42.226002/model-00017-0.89917-0.69231-1.13354-0.55000.h5\n",
      "34/34 [==============================] - 212s 6s/step - loss: 0.8992 - categorical_accuracy: 0.6923 - val_loss: 1.1335 - val_categorical_accuracy: 0.5500\n",
      "Epoch 18/25\n",
      "34/34 [==============================] - ETA: 0s - loss: 0.8832 - categorical_accuracy: 0.6968\n",
      "Epoch 00018: val_loss improved from 1.13354 to 1.02231, saving model to model_init_2021-10-2510_45_42.226002/model-00018-0.88321-0.69683-1.02231-0.66000.h5\n",
      "34/34 [==============================] - 213s 6s/step - loss: 0.8832 - categorical_accuracy: 0.6968 - val_loss: 1.0223 - val_categorical_accuracy: 0.6600\n",
      "Epoch 19/25\n",
      "34/34 [==============================] - ETA: 0s - loss: 0.8804 - categorical_accuracy: 0.7021\n",
      "Epoch 00019: val_loss did not improve from 1.02231\n",
      "34/34 [==============================] - 213s 6s/step - loss: 0.8804 - categorical_accuracy: 0.7021 - val_loss: 1.0495 - val_categorical_accuracy: 0.5700\n",
      "Epoch 20/25\n",
      "34/34 [==============================] - ETA: 0s - loss: 0.8610 - categorical_accuracy: 0.7157\n",
      "Epoch 00020: val_loss did not improve from 1.02231\n",
      "34/34 [==============================] - 211s 6s/step - loss: 0.8610 - categorical_accuracy: 0.7157 - val_loss: 1.0275 - val_categorical_accuracy: 0.5900\n",
      "Epoch 21/25\n",
      "34/34 [==============================] - ETA: 0s - loss: 0.8822 - categorical_accuracy: 0.6848\n",
      "Epoch 00021: val_loss improved from 1.02231 to 0.98891, saving model to model_init_2021-10-2510_45_42.226002/model-00021-0.88215-0.68477-0.98891-0.63000.h5\n",
      "34/34 [==============================] - 207s 6s/step - loss: 0.8822 - categorical_accuracy: 0.6848 - val_loss: 0.9889 - val_categorical_accuracy: 0.6300\n",
      "Epoch 22/25\n",
      "34/34 [==============================] - ETA: 0s - loss: 0.8752 - categorical_accuracy: 0.7157\n",
      "Epoch 00022: val_loss improved from 0.98891 to 0.92102, saving model to model_init_2021-10-2510_45_42.226002/model-00022-0.87525-0.71569-0.92102-0.64000.h5\n",
      "34/34 [==============================] - 211s 6s/step - loss: 0.8752 - categorical_accuracy: 0.7157 - val_loss: 0.9210 - val_categorical_accuracy: 0.6400\n",
      "Epoch 23/25\n",
      "34/34 [==============================] - ETA: 0s - loss: 0.8897 - categorical_accuracy: 0.6878\n",
      "Epoch 00023: val_loss improved from 0.92102 to 0.90302, saving model to model_init_2021-10-2510_45_42.226002/model-00023-0.88965-0.68778-0.90302-0.68000.h5\n",
      "34/34 [==============================] - 208s 6s/step - loss: 0.8897 - categorical_accuracy: 0.6878 - val_loss: 0.9030 - val_categorical_accuracy: 0.6800\n",
      "Epoch 24/25\n",
      "34/34 [==============================] - ETA: 0s - loss: 0.8789 - categorical_accuracy: 0.6953\n",
      "Epoch 00024: val_loss did not improve from 0.90302\n",
      "34/34 [==============================] - 218s 6s/step - loss: 0.8789 - categorical_accuracy: 0.6953 - val_loss: 1.0052 - val_categorical_accuracy: 0.6500\n",
      "Epoch 25/25\n",
      "34/34 [==============================] - ETA: 0s - loss: 0.8940 - categorical_accuracy: 0.7014\n",
      "Epoch 00025: val_loss did not improve from 0.90302\n",
      "34/34 [==============================] - 219s 6s/step - loss: 0.8940 - categorical_accuracy: 0.7014 - val_loss: 0.9506 - val_categorical_accuracy: 0.6100\n"
     ]
    }
   ],
   "source": [
    "print(\"Total Params:\", rnn_cnn1_model.count_params())\n",
    "history_model9=rnn_cnn1.train_model(rnn_cnn1_model,augment_data=True)"
   ]
  },
  {
   "cell_type": "code",
   "execution_count": 46,
   "metadata": {},
   "outputs": [
    {
     "name": "stdout",
     "output_type": "stream",
     "text": [
      "Max. Training Accuracy 0.7164404392242432\n",
      "Max. Validaiton Accuracy 0.6800000071525574\n"
     ]
    },
    {
     "data": {
      "image/png": "[encoded data removed]",
      "text/plain": [
       "<Figure size 1080x288 with 2 Axes>"
      ]
     },
     "metadata": {
      "needs_background": "light"
     },
     "output_type": "display_data"
    }
   ],
   "source": [
    "plot(history_model9)"
   ]
  },
  {
   "cell_type": "markdown",
   "metadata": {},
   "source": [
    "##### For CNN - LSTM model we get a best training accuracy of 71% and validation accuracy of 68%\n",
    "\n",
    "So it didnt outperform model-6 in terms of no. of parameters or performance."
   ]
  },
  {
   "cell_type": "markdown",
   "metadata": {},
   "source": [
    " "
   ]
  },
  {
   "cell_type": "markdown",
   "metadata": {},
   "source": [
    " "
   ]
  },
  {
   "cell_type": "markdown",
   "metadata": {},
   "source": [
    " "
   ]
  },
  {
   "cell_type": "markdown",
   "metadata": {},
   "source": [
    " "
   ]
  },
  {
   "cell_type": "markdown",
   "metadata": {},
   "source": [
    "## Model 10 - Let us bring in Transfer Learning now\n",
    "\n",
    "- Bringing in Transfer Learning now.\n",
    "__(Optional)__"
   ]
  },
  {
   "cell_type": "markdown",
   "metadata": {},
   "source": [
    "**Note:**\n",
    "- Importing the MobileNet model due to it's lightweight architecture and high speed performance as compared to other heavy-duty models like VGG16, Alexnet, InceptionV3 etc.\n",
    "- Also, we are now also running on low account balance in the jarvislabs.ai platform."
   ]
  },
  {
   "cell_type": "code",
   "execution_count": 9,
   "metadata": {
    "ExecuteTime": {
     "end_time": "2021-10-21T12:53:29.731914Z",
     "start_time": "2021-10-21T12:53:29.726926Z"
    }
   },
   "outputs": [],
   "source": [
    "from tensorflow.keras.applications import mobilenet"
   ]
  },
  {
   "cell_type": "code",
   "execution_count": 11,
   "metadata": {
    "ExecuteTime": {
     "end_time": "2021-10-21T12:54:40.625118Z",
     "start_time": "2021-10-21T12:54:39.903053Z"
    }
   },
   "outputs": [
    {
     "name": "stdout",
     "output_type": "stream",
     "text": [
      "WARNING:tensorflow:`input_shape` is undefined or non-square, or `rows` is not in [128, 160, 192, 224]. Weights for input shape (224, 224) will be loaded as the default.\n"
     ]
    }
   ],
   "source": [
    "mobilenet_transfer = mobilenet.MobileNet(weights='imagenet', include_top=False)\n",
    "\n",
    "class RNNCNN_TL(ModelBuilder):\n",
    "    \n",
    "    def define_model(self,lstm_cells=64,dense_neurons=64,dropout=0.25):\n",
    "        \n",
    "        model = Sequential()\n",
    "        model.add(TimeDistributed(mobilenet_transfer,input_shape=(self.frames_to_sample,self.image_height,self.image_width,self.channels)))\n",
    "        \n",
    "        \n",
    "        for layer in model.layers:\n",
    "            layer.trainable = False\n",
    "        \n",
    "        \n",
    "        model.add(TimeDistributed(BatchNormalization()))\n",
    "        model.add(TimeDistributed(MaxPooling2D((2, 2))))\n",
    "        model.add(TimeDistributed(Flatten()))\n",
    "\n",
    "        model.add(LSTM(lstm_cells))\n",
    "        model.add(Dropout(dropout))\n",
    "        \n",
    "        model.add(Dense(dense_neurons,activation='relu'))\n",
    "        model.add(Dropout(dropout))\n",
    "        \n",
    "        model.add(Dense(self.num_classes, activation='softmax'))\n",
    "        \n",
    "        \n",
    "        optimiser = tf.keras.optimizers.Adam()\n",
    "        model.compile(optimizer=optimiser, loss='categorical_crossentropy', metrics=['categorical_accuracy'])\n",
    "        return model"
   ]
  },
  {
   "cell_type": "code",
   "execution_count": 12,
   "metadata": {},
   "outputs": [
    {
     "name": "stdout",
     "output_type": "stream",
     "text": [
      "Model: \"sequential\"\n",
      "_________________________________________________________________\n",
      "Layer (type)                 Output Shape              Param #   \n",
      "=================================================================\n",
      "time_distributed (TimeDistri (None, 16, 3, 3, 1024)    3228864   \n",
      "_________________________________________________________________\n",
      "time_distributed_1 (TimeDist (None, 16, 3, 3, 1024)    4096      \n",
      "_________________________________________________________________\n",
      "time_distributed_2 (TimeDist (None, 16, 1, 1, 1024)    0         \n",
      "_________________________________________________________________\n",
      "time_distributed_3 (TimeDist (None, 16, 1024)          0         \n",
      "_________________________________________________________________\n",
      "lstm (LSTM)                  (None, 128)               590336    \n",
      "_________________________________________________________________\n",
      "dropout (Dropout)            (None, 128)               0         \n",
      "_________________________________________________________________\n",
      "dense (Dense)                (None, 128)               16512     \n",
      "_________________________________________________________________\n",
      "dropout_1 (Dropout)          (None, 128)               0         \n",
      "_________________________________________________________________\n",
      "dense_1 (Dense)              (None, 5)                 645       \n",
      "=================================================================\n",
      "Total params: 3,840,453\n",
      "Trainable params: 609,541\n",
      "Non-trainable params: 3,230,912\n",
      "_________________________________________________________________\n"
     ]
    }
   ],
   "source": [
    "rnn_cnn_tl=RNNCNN_TL()\n",
    "rnn_cnn_tl.initialize_path(project_folder)\n",
    "rnn_cnn_tl.initialize_image_properties(image_height=120,image_width=120)\n",
    "rnn_cnn_tl.initialize_hyperparams(frames_to_sample=16,batch_size=5,num_epochs=20)\n",
    "rnn_cnn_tl_model=rnn_cnn_tl.define_model(lstm_cells=128,dense_neurons=128,dropout=0.25)\n",
    "rnn_cnn_tl_model.summary()"
   ]
  },
  {
   "cell_type": "code",
   "execution_count": 13,
   "metadata": {},
   "outputs": [
    {
     "name": "stdout",
     "output_type": "stream",
     "text": [
      "Total Params: 3840453\n",
      "Source path =  /home/datasets/Project_data/train ; batch size = 5\n",
      "Epoch 1/20\n",
      "133/133 [==============================] - ETA: 0s - loss: 1.3381 - categorical_accuracy: 0.4502Source path =  /home/datasets/Project_data/val ; batch size = 5\n",
      "\n",
      "Epoch 00001: val_loss improved from inf to 0.96892, saving model to model_init_2021-10-2709_12_12.187615/model-00001-1.33814-0.45023-0.96892-0.63000.h5\n",
      "133/133 [==============================] - 166s 1s/step - loss: 1.3381 - categorical_accuracy: 0.4502 - val_loss: 0.9689 - val_categorical_accuracy: 0.6300\n",
      "Epoch 2/20\n",
      "133/133 [==============================] - ETA: 0s - loss: 0.7736 - categorical_accuracy: 0.7134\n",
      "Epoch 00002: val_loss improved from 0.96892 to 0.69754, saving model to model_init_2021-10-2709_12_12.187615/model-00002-0.77364-0.71342-0.69754-0.76000.h5\n",
      "133/133 [==============================] - 197s 1s/step - loss: 0.7736 - categorical_accuracy: 0.7134 - val_loss: 0.6975 - val_categorical_accuracy: 0.7600\n",
      "Epoch 3/20\n",
      "133/133 [==============================] - ETA: 0s - loss: 0.5864 - categorical_accuracy: 0.7949\n",
      "Epoch 00003: val_loss improved from 0.69754 to 0.59889, saving model to model_init_2021-10-2709_12_12.187615/model-00003-0.58638-0.79487-0.59889-0.73000.h5\n",
      "133/133 [==============================] - 197s 1s/step - loss: 0.5864 - categorical_accuracy: 0.7949 - val_loss: 0.5989 - val_categorical_accuracy: 0.7300\n",
      "Epoch 4/20\n",
      "133/133 [==============================] - ETA: 0s - loss: 0.4183 - categorical_accuracy: 0.8477\n",
      "Epoch 00004: val_loss did not improve from 0.59889\n",
      "133/133 [==============================] - 195s 1s/step - loss: 0.4183 - categorical_accuracy: 0.8477 - val_loss: 0.6206 - val_categorical_accuracy: 0.7400\n",
      "Epoch 5/20\n",
      "133/133 [==============================] - ETA: 0s - loss: 0.3785 - categorical_accuracy: 0.8605\n",
      "Epoch 00005: val_loss improved from 0.59889 to 0.54504, saving model to model_init_2021-10-2709_12_12.187615/model-00005-0.37848-0.86048-0.54504-0.75000.h5\n",
      "133/133 [==============================] - 189s 1s/step - loss: 0.3785 - categorical_accuracy: 0.8605 - val_loss: 0.5450 - val_categorical_accuracy: 0.7500\n",
      "Epoch 6/20\n",
      "133/133 [==============================] - ETA: 0s - loss: 0.2988 - categorical_accuracy: 0.8959\n",
      "Epoch 00006: val_loss did not improve from 0.54504\n",
      "133/133 [==============================] - 193s 1s/step - loss: 0.2988 - categorical_accuracy: 0.8959 - val_loss: 0.5604 - val_categorical_accuracy: 0.7700\n",
      "Epoch 7/20\n",
      "133/133 [==============================] - ETA: 0s - loss: 0.2322 - categorical_accuracy: 0.9246\n",
      "Epoch 00007: val_loss improved from 0.54504 to 0.50963, saving model to model_init_2021-10-2709_12_12.187615/model-00007-0.23217-0.92459-0.50963-0.80000.h5\n",
      "133/133 [==============================] - 182s 1s/step - loss: 0.2322 - categorical_accuracy: 0.9246 - val_loss: 0.5096 - val_categorical_accuracy: 0.8000\n",
      "Epoch 8/20\n",
      "133/133 [==============================] - ETA: 0s - loss: 0.1863 - categorical_accuracy: 0.9367\n",
      "Epoch 00008: val_loss did not improve from 0.50963\n",
      "133/133 [==============================] - 173s 1s/step - loss: 0.1863 - categorical_accuracy: 0.9367 - val_loss: 0.5548 - val_categorical_accuracy: 0.8000\n",
      "Epoch 9/20\n",
      "133/133 [==============================] - ETA: 0s - loss: 0.1534 - categorical_accuracy: 0.9472\n",
      "Epoch 00009: val_loss did not improve from 0.50963\n",
      "133/133 [==============================] - 173s 1s/step - loss: 0.1534 - categorical_accuracy: 0.9472 - val_loss: 0.8403 - val_categorical_accuracy: 0.7200\n",
      "Epoch 10/20\n",
      "133/133 [==============================] - ETA: 0s - loss: 0.1935 - categorical_accuracy: 0.9306\n",
      "Epoch 00010: val_loss did not improve from 0.50963\n",
      "133/133 [==============================] - 165s 1s/step - loss: 0.1935 - categorical_accuracy: 0.9306 - val_loss: 0.5587 - val_categorical_accuracy: 0.7900\n",
      "Epoch 11/20\n",
      "133/133 [==============================] - ETA: 0s - loss: 0.1337 - categorical_accuracy: 0.9608\n",
      "Epoch 00011: val_loss did not improve from 0.50963\n",
      "\n",
      "Epoch 00011: ReduceLROnPlateau reducing learning rate to 0.00020000000949949026.\n",
      "133/133 [==============================] - 176s 1s/step - loss: 0.1337 - categorical_accuracy: 0.9608 - val_loss: 0.6413 - val_categorical_accuracy: 0.7800\n",
      "Epoch 12/20\n",
      "133/133 [==============================] - ETA: 0s - loss: 0.0831 - categorical_accuracy: 0.9736\n",
      "Epoch 00012: val_loss did not improve from 0.50963\n",
      "133/133 [==============================] - 165s 1s/step - loss: 0.0831 - categorical_accuracy: 0.9736 - val_loss: 0.8707 - val_categorical_accuracy: 0.8100\n",
      "Epoch 13/20\n",
      "133/133 [==============================] - ETA: 0s - loss: 0.0625 - categorical_accuracy: 0.9781\n",
      "Epoch 00013: val_loss did not improve from 0.50963\n",
      "133/133 [==============================] - 176s 1s/step - loss: 0.0625 - categorical_accuracy: 0.9781 - val_loss: 0.7140 - val_categorical_accuracy: 0.7900\n",
      "Epoch 14/20\n",
      "133/133 [==============================] - ETA: 0s - loss: 0.0736 - categorical_accuracy: 0.9804\n",
      "Epoch 00014: val_loss did not improve from 0.50963\n",
      "133/133 [==============================] - 188s 1s/step - loss: 0.0736 - categorical_accuracy: 0.9804 - val_loss: 0.8705 - val_categorical_accuracy: 0.7800\n",
      "Epoch 15/20\n",
      "133/133 [==============================] - ETA: 0s - loss: 0.0753 - categorical_accuracy: 0.9744\n",
      "Epoch 00015: val_loss did not improve from 0.50963\n",
      "\n",
      "Epoch 00015: ReduceLROnPlateau reducing learning rate to 4.0000001899898055e-05.\n",
      "133/133 [==============================] - 186s 1s/step - loss: 0.0753 - categorical_accuracy: 0.9744 - val_loss: 0.5786 - val_categorical_accuracy: 0.8400\n",
      "Epoch 16/20\n",
      "133/133 [==============================] - ETA: 0s - loss: 0.0749 - categorical_accuracy: 0.9789\n",
      "Epoch 00016: val_loss did not improve from 0.50963\n",
      "133/133 [==============================] - 186s 1s/step - loss: 0.0749 - categorical_accuracy: 0.9789 - val_loss: 0.6001 - val_categorical_accuracy: 0.8300\n",
      "Epoch 17/20\n",
      "133/133 [==============================] - ETA: 0s - loss: 0.0722 - categorical_accuracy: 0.9796\n",
      "Epoch 00017: val_loss did not improve from 0.50963\n",
      "133/133 [==============================] - 186s 1s/step - loss: 0.0722 - categorical_accuracy: 0.9796 - val_loss: 0.9096 - val_categorical_accuracy: 0.7300\n",
      "Epoch 18/20\n",
      "133/133 [==============================] - ETA: 0s - loss: 0.0553 - categorical_accuracy: 0.9849\n",
      "Epoch 00018: val_loss did not improve from 0.50963\n",
      "133/133 [==============================] - 204s 2s/step - loss: 0.0553 - categorical_accuracy: 0.9849 - val_loss: 0.6358 - val_categorical_accuracy: 0.8100\n",
      "Epoch 19/20\n",
      "133/133 [==============================] - ETA: 0s - loss: 0.0648 - categorical_accuracy: 0.9804\n",
      "Epoch 00019: val_loss did not improve from 0.50963\n",
      "\n",
      "Epoch 00019: ReduceLROnPlateau reducing learning rate to 8.000000525498762e-06.\n",
      "133/133 [==============================] - 182s 1s/step - loss: 0.0648 - categorical_accuracy: 0.9804 - val_loss: 0.7195 - val_categorical_accuracy: 0.7900\n",
      "Epoch 20/20\n",
      "133/133 [==============================] - ETA: 0s - loss: 0.0479 - categorical_accuracy: 0.9857\n",
      "Epoch 00020: val_loss did not improve from 0.50963\n",
      "133/133 [==============================] - 186s 1s/step - loss: 0.0479 - categorical_accuracy: 0.9857 - val_loss: 0.7265 - val_categorical_accuracy: 0.7700\n"
     ]
    }
   ],
   "source": [
    "print(\"Total Params:\", rnn_cnn_tl_model.count_params())\n",
    "history_model16=rnn_cnn_tl.train_model(rnn_cnn_tl_model,augment_data=True)"
   ]
  },
  {
   "cell_type": "code",
   "execution_count": 14,
   "metadata": {},
   "outputs": [
    {
     "name": "stdout",
     "output_type": "stream",
     "text": [
      "Max. Training Accuracy 0.9856711626052856\n",
      "Max. Validaiton Accuracy 0.8399999737739563\n"
     ]
    },
    {
     "data": {
      "image/png": "[encoded data removed]",
      "text/plain": [
       "<Figure size 1080x288 with 2 Axes>"
      ]
     },
     "metadata": {
      "needs_background": "light"
     },
     "output_type": "display_data"
    }
   ],
   "source": [
    "plot(history_model16)"
   ]
  },
  {
   "cell_type": "markdown",
   "metadata": {},
   "source": [
    "**We did not train the mobilenet weights and as a result we see validation accuracy is very poor.**\n",
    "**Let's train them as well and observe if there is performance improvement**"
   ]
  },
  {
   "cell_type": "markdown",
   "metadata": {},
   "source": [
    " "
   ]
  },
  {
   "cell_type": "markdown",
   "metadata": {},
   "source": [
    " "
   ]
  },
  {
   "cell_type": "markdown",
   "metadata": {},
   "source": [
    " "
   ]
  },
  {
   "cell_type": "markdown",
   "metadata": {},
   "source": [
    "## Model 11 - Transfer Learning with GRU and training all weights\n",
    "__(Optional)__"
   ]
  },
  {
   "cell_type": "code",
   "execution_count": 18,
   "metadata": {},
   "outputs": [
    {
     "name": "stdout",
     "output_type": "stream",
     "text": [
      "Downloading data from https://storage.googleapis.com/tensorflow/keras-applications/mobilenet/mobilenet_1_0_160_tf_no_top.h5\n",
      "17227776/17225924 [==============================] - 2s 0us/step\n"
     ]
    }
   ],
   "source": [
    "from tensorflow.keras.applications import mobilenet\n",
    "\n",
    "mobilenet_transfer = mobilenet.MobileNet(weights='imagenet', include_top=False, input_shape=(160, 160, 3))\n",
    "\n",
    "class RNNCNN_TL2(ModelBuilder):\n",
    "    \n",
    "    def define_model(self,gru_cells=64,dense_neurons=64,dropout=0.25):\n",
    "        \n",
    "        model = Sequential()\n",
    "        model.add(TimeDistributed(mobilenet_transfer,input_shape=(self.frames_to_sample,self.image_height,self.image_width,self.channels)))\n",
    " \n",
    "        \n",
    "        model.add(TimeDistributed(BatchNormalization()))\n",
    "        model.add(TimeDistributed(MaxPooling2D((2, 2))))\n",
    "        model.add(TimeDistributed(Flatten()))\n",
    "\n",
    "        model.add(GRU(gru_cells))\n",
    "        model.add(Dropout(dropout))\n",
    "        \n",
    "        model.add(Dense(dense_neurons,activation='relu'))\n",
    "        model.add(Dropout(dropout))\n",
    "        \n",
    "        model.add(Dense(self.num_classes, activation='softmax'))\n",
    "        \n",
    "        \n",
    "        optimiser = tf.keras.optimizers.Adam()\n",
    "        model.compile(optimizer=optimiser, loss='categorical_crossentropy', metrics=['categorical_accuracy'])\n",
    "        return model"
   ]
  },
  {
   "cell_type": "code",
   "execution_count": 19,
   "metadata": {},
   "outputs": [
    {
     "name": "stdout",
     "output_type": "stream",
     "text": [
      "Model: \"sequential\"\n",
      "_________________________________________________________________\n",
      "Layer (type)                 Output Shape              Param #   \n",
      "=================================================================\n",
      "time_distributed (TimeDistri (None, 16, 5, 5, 1024)    3228864   \n",
      "_________________________________________________________________\n",
      "time_distributed_1 (TimeDist (None, 16, 5, 5, 1024)    4096      \n",
      "_________________________________________________________________\n",
      "time_distributed_2 (TimeDist (None, 16, 2, 2, 1024)    0         \n",
      "_________________________________________________________________\n",
      "time_distributed_3 (TimeDist (None, 16, 4096)          0         \n",
      "_________________________________________________________________\n",
      "gru (GRU)                    (None, 128)               1622784   \n",
      "_________________________________________________________________\n",
      "dropout (Dropout)            (None, 128)               0         \n",
      "_________________________________________________________________\n",
      "dense (Dense)                (None, 128)               16512     \n",
      "_________________________________________________________________\n",
      "dropout_1 (Dropout)          (None, 128)               0         \n",
      "_________________________________________________________________\n",
      "dense_1 (Dense)              (None, 5)                 645       \n",
      "=================================================================\n",
      "Total params: 4,872,901\n",
      "Trainable params: 4,848,965\n",
      "Non-trainable params: 23,936\n",
      "_________________________________________________________________\n"
     ]
    }
   ],
   "source": [
    "rnn_cnn_tl2=RNNCNN_TL2()\n",
    "rnn_cnn_tl2.initialize_path(project_folder)\n",
    "rnn_cnn_tl2.initialize_image_properties(image_height=160,image_width=160)\n",
    "rnn_cnn_tl2.initialize_hyperparams(frames_to_sample=16,batch_size=5,num_epochs=20)\n",
    "rnn_cnn_tl2_model=rnn_cnn_tl2.define_model(gru_cells=128,dense_neurons=128,dropout=0.25)\n",
    "rnn_cnn_tl2_model.summary()"
   ]
  },
  {
   "cell_type": "code",
   "execution_count": 20,
   "metadata": {},
   "outputs": [
    {
     "name": "stdout",
     "output_type": "stream",
     "text": [
      "Total Params: 4872901\n",
      "Source path =  /home/datasets/Project_data/train ; batch size = 5\n",
      "Epoch 1/20\n",
      "133/133 [==============================] - ETA: 0s - loss: 0.9713 - categorical_accuracy: 0.6342Source path =  /home/datasets/Project_data/val ; batch size = 5\n",
      "\n",
      "Epoch 00001: val_loss improved from inf to 0.82111, saving model to model_init_2021-10-2710_20_00.261909/model-00001-0.97134-0.63424-0.82111-0.69000.h5\n",
      "133/133 [==============================] - 214s 2s/step - loss: 0.9713 - categorical_accuracy: 0.6342 - val_loss: 0.8211 - val_categorical_accuracy: 0.6900\n",
      "Epoch 2/20\n",
      "133/133 [==============================] - ETA: 0s - loss: 0.5375 - categorical_accuracy: 0.7866\n",
      "Epoch 00002: val_loss improved from 0.82111 to 0.44470, saving model to model_init_2021-10-2710_20_00.261909/model-00002-0.53755-0.78658-0.44470-0.85000.h5\n",
      "133/133 [==============================] - 214s 2s/step - loss: 0.5375 - categorical_accuracy: 0.7866 - val_loss: 0.4447 - val_categorical_accuracy: 0.8500\n",
      "Epoch 3/20\n",
      "133/133 [==============================] - ETA: 0s - loss: 0.5119 - categorical_accuracy: 0.8198\n",
      "Epoch 00003: val_loss improved from 0.44470 to 0.36070, saving model to model_init_2021-10-2710_20_00.261909/model-00003-0.51192-0.81976-0.36070-0.87000.h5\n",
      "133/133 [==============================] - 200s 2s/step - loss: 0.5119 - categorical_accuracy: 0.8198 - val_loss: 0.3607 - val_categorical_accuracy: 0.8700\n",
      "Epoch 4/20\n",
      "133/133 [==============================] - ETA: 0s - loss: 0.4643 - categorical_accuracy: 0.8401\n",
      "Epoch 00004: val_loss improved from 0.36070 to 0.30580, saving model to model_init_2021-10-2710_20_00.261909/model-00004-0.46431-0.84012-0.30580-0.87000.h5\n",
      "133/133 [==============================] - 188s 1s/step - loss: 0.4643 - categorical_accuracy: 0.8401 - val_loss: 0.3058 - val_categorical_accuracy: 0.8700\n",
      "Epoch 5/20\n",
      "133/133 [==============================] - ETA: 0s - loss: 0.3779 - categorical_accuracy: 0.8658\n",
      "Epoch 00005: val_loss did not improve from 0.30580\n",
      "133/133 [==============================] - 200s 2s/step - loss: 0.3779 - categorical_accuracy: 0.8658 - val_loss: 0.3672 - val_categorical_accuracy: 0.8900\n",
      "Epoch 6/20\n",
      "133/133 [==============================] - ETA: 0s - loss: 0.2792 - categorical_accuracy: 0.9080\n",
      "Epoch 00006: val_loss did not improve from 0.30580\n",
      "133/133 [==============================] - 205s 2s/step - loss: 0.2792 - categorical_accuracy: 0.9080 - val_loss: 0.6097 - val_categorical_accuracy: 0.7300\n",
      "Epoch 7/20\n",
      "133/133 [==============================] - ETA: 0s - loss: 0.2968 - categorical_accuracy: 0.8899\n",
      "Epoch 00007: val_loss did not improve from 0.30580\n",
      "133/133 [==============================] - 201s 2s/step - loss: 0.2968 - categorical_accuracy: 0.8899 - val_loss: 0.3572 - val_categorical_accuracy: 0.8800\n",
      "Epoch 8/20\n",
      "133/133 [==============================] - ETA: 0s - loss: 0.3462 - categorical_accuracy: 0.8831\n",
      "Epoch 00008: val_loss did not improve from 0.30580\n",
      "\n",
      "Epoch 00008: ReduceLROnPlateau reducing learning rate to 0.00020000000949949026.\n",
      "133/133 [==============================] - 225s 2s/step - loss: 0.3462 - categorical_accuracy: 0.8831 - val_loss: 0.8657 - val_categorical_accuracy: 0.7700\n",
      "Epoch 9/20\n",
      "133/133 [==============================] - ETA: 0s - loss: 0.2476 - categorical_accuracy: 0.9103\n",
      "Epoch 00009: val_loss improved from 0.30580 to 0.12611, saving model to model_init_2021-10-2710_20_00.261909/model-00009-0.24763-0.91026-0.12611-0.94000.h5\n",
      "133/133 [==============================] - 214s 2s/step - loss: 0.2476 - categorical_accuracy: 0.9103 - val_loss: 0.1261 - val_categorical_accuracy: 0.9400\n",
      "Epoch 10/20\n",
      "133/133 [==============================] - ETA: 0s - loss: 0.1522 - categorical_accuracy: 0.9487\n",
      "Epoch 00010: val_loss improved from 0.12611 to 0.06963, saving model to model_init_2021-10-2710_20_00.261909/model-00010-0.15220-0.94872-0.06963-0.95000.h5\n",
      "133/133 [==============================] - 187s 1s/step - loss: 0.1522 - categorical_accuracy: 0.9487 - val_loss: 0.0696 - val_categorical_accuracy: 0.9500\n",
      "Epoch 11/20\n",
      "133/133 [==============================] - ETA: 0s - loss: 0.1332 - categorical_accuracy: 0.9532\n",
      "Epoch 00011: val_loss did not improve from 0.06963\n",
      "133/133 [==============================] - 209s 2s/step - loss: 0.1332 - categorical_accuracy: 0.9532 - val_loss: 0.0927 - val_categorical_accuracy: 0.9700\n",
      "Epoch 12/20\n",
      "133/133 [==============================] - ETA: 0s - loss: 0.1059 - categorical_accuracy: 0.9646\n",
      "Epoch 00012: val_loss did not improve from 0.06963\n",
      "133/133 [==============================] - 227s 2s/step - loss: 0.1059 - categorical_accuracy: 0.9646 - val_loss: 0.0819 - val_categorical_accuracy: 0.9500\n",
      "Epoch 13/20\n",
      "133/133 [==============================] - ETA: 0s - loss: 0.0847 - categorical_accuracy: 0.9751\n",
      "Epoch 00013: val_loss did not improve from 0.06963\n",
      "133/133 [==============================] - 224s 2s/step - loss: 0.0847 - categorical_accuracy: 0.9751 - val_loss: 0.0836 - val_categorical_accuracy: 0.9700\n",
      "Epoch 14/20\n",
      "133/133 [==============================] - ETA: 0s - loss: 0.0515 - categorical_accuracy: 0.9872\n",
      "Epoch 00014: val_loss did not improve from 0.06963\n",
      "\n",
      "Epoch 00014: ReduceLROnPlateau reducing learning rate to 4.0000001899898055e-05.\n",
      "133/133 [==============================] - 224s 2s/step - loss: 0.0515 - categorical_accuracy: 0.9872 - val_loss: 0.0732 - val_categorical_accuracy: 0.9600\n",
      "Epoch 15/20\n",
      "133/133 [==============================] - ETA: 0s - loss: 0.0590 - categorical_accuracy: 0.9827\n",
      "Epoch 00015: val_loss improved from 0.06963 to 0.06723, saving model to model_init_2021-10-2710_20_00.261909/model-00015-0.05904-0.98265-0.06723-0.98000.h5\n",
      "133/133 [==============================] - 202s 2s/step - loss: 0.0590 - categorical_accuracy: 0.9827 - val_loss: 0.0672 - val_categorical_accuracy: 0.9800\n",
      "Epoch 16/20\n",
      "133/133 [==============================] - ETA: 0s - loss: 0.0497 - categorical_accuracy: 0.9857\n",
      "Epoch 00016: val_loss did not improve from 0.06723\n",
      "133/133 [==============================] - 219s 2s/step - loss: 0.0497 - categorical_accuracy: 0.9857 - val_loss: 0.1164 - val_categorical_accuracy: 0.9600\n",
      "Epoch 17/20\n",
      "133/133 [==============================] - ETA: 0s - loss: 0.0410 - categorical_accuracy: 0.9902\n",
      "Epoch 00017: val_loss did not improve from 0.06723\n",
      "133/133 [==============================] - 225s 2s/step - loss: 0.0410 - categorical_accuracy: 0.9902 - val_loss: 0.0971 - val_categorical_accuracy: 0.9600\n",
      "Epoch 18/20\n",
      "133/133 [==============================] - ETA: 0s - loss: 0.0543 - categorical_accuracy: 0.9827\n",
      "Epoch 00018: val_loss did not improve from 0.06723\n",
      "133/133 [==============================] - 229s 2s/step - loss: 0.0543 - categorical_accuracy: 0.9827 - val_loss: 0.0713 - val_categorical_accuracy: 0.9700\n",
      "Epoch 19/20\n",
      "133/133 [==============================] - ETA: 0s - loss: 0.0385 - categorical_accuracy: 0.9902\n",
      "Epoch 00019: val_loss did not improve from 0.06723\n",
      "\n",
      "Epoch 00019: ReduceLROnPlateau reducing learning rate to 8.000000525498762e-06.\n",
      "133/133 [==============================] - 226s 2s/step - loss: 0.0385 - categorical_accuracy: 0.9902 - val_loss: 0.0732 - val_categorical_accuracy: 0.9700\n",
      "Epoch 20/20\n",
      "133/133 [==============================] - ETA: 0s - loss: 0.0361 - categorical_accuracy: 0.9902\n",
      "Epoch 00020: val_loss did not improve from 0.06723\n",
      "133/133 [==============================] - 211s 2s/step - loss: 0.0361 - categorical_accuracy: 0.9902 - val_loss: 0.1170 - val_categorical_accuracy: 0.9500\n"
     ]
    }
   ],
   "source": [
    "print(\"Total Params:\", rnn_cnn_tl2_model.count_params())\n",
    "history_model11=rnn_cnn_tl2.train_model(rnn_cnn_tl2_model,augment_data=True)"
   ]
  },
  {
   "cell_type": "code",
   "execution_count": 21,
   "metadata": {},
   "outputs": [
    {
     "name": "stdout",
     "output_type": "stream",
     "text": [
      "Max. Training Accuracy 0.9901960492134094\n",
      "Max. Validaiton Accuracy 0.9800000190734863\n"
     ]
    },
    {
     "data": {
      "image/png": "[encoded data removed]",
      "text/plain": [
       "<Figure size 1080x288 with 2 Axes>"
      ]
     },
     "metadata": {
      "needs_background": "light"
     },
     "output_type": "display_data"
    }
   ],
   "source": [
    "plot(history_model11)"
   ]
  },
  {
   "cell_type": "markdown",
   "metadata": {},
   "source": [
    "**We can clearly see the effects of training the weights is outstanding! 99% Training accuracy and 98% validation accuracy**"
   ]
  },
  {
   "cell_type": "markdown",
   "metadata": {},
   "source": [
    " "
   ]
  },
  {
   "cell_type": "markdown",
   "metadata": {},
   "source": [
    " "
   ]
  },
  {
   "cell_type": "markdown",
   "metadata": {},
   "source": [
    "## After doing all the experiments, we finalized Model 6.\n",
    "\n",
    "**Reason:**\n",
    "\n",
    "- Training Accuracy: 94%, Validation Accuracy: 94%.\n",
    "\n",
    "- Number of Parameters (909,637) less according to other models’ performance\n",
    "\n",
    "- Learning rate gradually decreasing after some Epochs\n",
    "\n",
    "\n",
    "The best weights of Model 6: model-00029-0.18226-0.94193-0.21954-0.94000.h5 (10.5 MB). we considered this weight for model testing, Let's have look at the performance below\n"
   ]
  },
  {
   "cell_type": "markdown",
   "metadata": {},
   "source": [
    "# Loading model and Testing"
   ]
  },
  {
   "cell_type": "code",
   "execution_count": 9,
   "metadata": {},
   "outputs": [],
   "source": [
    "import time\n",
    "from tensorflow.keras.models import load_model\n",
    "model = load_model('model-00029-0.18226-0.94193-0.21954-0.94000.h5')"
   ]
  },
  {
   "cell_type": "code",
   "execution_count": 14,
   "metadata": {},
   "outputs": [],
   "source": [
    "test_generator=RNNCNN1()\n",
    "test_generator.initialize_path(project_folder)\n",
    "test_generator.initialize_image_properties(image_height=120,image_width=120)\n",
    "test_generator.initialize_hyperparams(frames_to_sample=18,batch_size=20,num_epochs=20)\n",
    "\n",
    "g=test_generator.generator(test_generator.val_path,test_generator.val_doc,augment=False)\n",
    "batch_data, batch_labels=next(g)"
   ]
  },
  {
   "cell_type": "code",
   "execution_count": 15,
   "metadata": {},
   "outputs": [
    {
     "data": {
      "text/plain": [
       "array([[0., 0., 0., 1., 0.],\n",
       "       [0., 1., 0., 0., 0.],\n",
       "       [0., 1., 0., 0., 0.],\n",
       "       [0., 0., 0., 0., 1.],\n",
       "       [0., 1., 0., 0., 0.],\n",
       "       [0., 1., 0., 0., 0.],\n",
       "       [1., 0., 0., 0., 0.],\n",
       "       [0., 0., 1., 0., 0.],\n",
       "       [0., 0., 1., 0., 0.],\n",
       "       [0., 1., 0., 0., 0.],\n",
       "       [0., 0., 1., 0., 0.],\n",
       "       [0., 0., 0., 1., 0.],\n",
       "       [0., 0., 0., 0., 1.],\n",
       "       [0., 0., 1., 0., 0.],\n",
       "       [0., 0., 0., 0., 1.],\n",
       "       [1., 0., 0., 0., 0.],\n",
       "       [1., 0., 0., 0., 0.],\n",
       "       [0., 0., 0., 1., 0.],\n",
       "       [0., 0., 1., 0., 0.],\n",
       "       [0., 1., 0., 0., 0.]])"
      ]
     },
     "execution_count": 15,
     "metadata": {},
     "output_type": "execute_result"
    }
   ],
   "source": [
    "batch_labels"
   ]
  },
  {
   "cell_type": "code",
   "execution_count": 16,
   "metadata": {},
   "outputs": [
    {
     "name": "stdout",
     "output_type": "stream",
     "text": [
      "[3 1 1 3 1 1 0 2 2 1 0 3 4 2 4 1 0 3 4 1]\n"
     ]
    }
   ],
   "source": [
    "print(np.argmax(model.predict(batch_data[:,:,:,:,:]),axis=1))"
   ]
  }
 ],
 "metadata": {
  "kernelspec": {
   "display_name": "Python 3 (ipykernel)",
   "language": "python",
   "name": "python3"
  },
  "language_info": {
   "codemirror_mode": {
    "name": "ipython",
    "version": 3
   },
   "file_extension": ".py",
   "mimetype": "text/x-python",
   "name": "python",
   "nbconvert_exporter": "python",
   "pygments_lexer": "ipython3",
   "version": "3.8.11"
  },
  "varInspector": {
   "cols": {
    "lenName": 16,
    "lenType": 16,
    "lenVar": 40
   },
   "kernels_config": {
    "python": {
     "delete_cmd_postfix": "",
     "delete_cmd_prefix": "del ",
     "library": "var_list.py",
     "varRefreshCmd": "print(var_dic_list())"
    },
    "r": {
     "delete_cmd_postfix": ") ",
     "delete_cmd_prefix": "rm(",
     "library": "var_list.r",
     "varRefreshCmd": "cat(var_dic_list()) "
    }
   },
   "types_to_exclude": [
    "module",
    "function",
    "builtin_function_or_method",
    "instance",
    "_Feature"
   ],
   "window_display": false
  }
 },
 "nbformat": 4,
 "nbformat_minor": 4
}
